{
 "cells": [
  {
   "cell_type": "markdown",
   "metadata": {},
   "source": [
    "### List Data Type\n",
    "\n",
    "In Python, the `list` data type is a built-in data structure that allows you to store a collection of items. Lists are ordered, mutable (modifiable), and can hold items of different data types, including other lists. Lists are defined using square brackets `[]` and elements inside a list are separated by commas."
   ]
  },
  {
   "cell_type": "code",
   "execution_count": 1,
   "metadata": {},
   "outputs": [],
   "source": [
    "# Creating a list\n",
    "my_list = [1, 2, 3, 4, 5]\n",
    "mixed_list = [1, \"hello\", 3.14, True]"
   ]
  },
  {
   "cell_type": "code",
   "execution_count": 2,
   "metadata": {},
   "outputs": [
    {
     "data": {
      "text/plain": [
       "list"
      ]
     },
     "execution_count": 2,
     "metadata": {},
     "output_type": "execute_result"
    }
   ],
   "source": [
    "# Check type of variable\n",
    "print(type(my_list))"
   ]
  },
  {
   "cell_type": "code",
   "execution_count": 4,
   "metadata": {},
   "outputs": [
    {
     "name": "stdout",
     "output_type": "stream",
     "text": [
      "1\n",
      "2\n"
     ]
    }
   ],
   "source": [
    "# Accessing elements\n",
    "first_element = my_list[0]  # Accessing the first element (index 0)\n",
    "second_element = my_list[1]  # Accessing the second element (index 1)\n",
    "\n",
    "print(first_element)\n",
    "print(second_element)"
   ]
  },
  {
   "cell_type": "code",
   "execution_count": 5,
   "metadata": {},
   "outputs": [
    {
     "name": "stdout",
     "output_type": "stream",
     "text": [
      "[1, 2, 10, 4, 5]\n"
     ]
    }
   ],
   "source": [
    "# Modifying elements\n",
    "my_list[2] = 10  # Modifying the third element (index 2)\n",
    "\n",
    "print(my_list)"
   ]
  },
  {
   "cell_type": "code",
   "execution_count": 6,
   "metadata": {},
   "outputs": [
    {
     "name": "stdout",
     "output_type": "stream",
     "text": [
      "[1, 2, 7, 10, 4, 5, 6]\n"
     ]
    }
   ],
   "source": [
    "# Adding elements\n",
    "my_list.append(6)  # Adding an element at the end\n",
    "my_list.insert(2, 7)  # Inserting an element at a specific index\n",
    "\n",
    "print(my_list)"
   ]
  },
  {
   "cell_type": "code",
   "execution_count": 7,
   "metadata": {},
   "outputs": [
    {
     "name": "stdout",
     "output_type": "stream",
     "text": [
      "7\n",
      "[1, 2, 10, 5]\n"
     ]
    }
   ],
   "source": [
    "# Removing elements\n",
    "removed_element = my_list.pop()  # Removing and returning the last element\n",
    "removed_element = my_list.pop(2)  # Removing and returning the element at index 2\n",
    "my_list.remove(4)  # Removing the element with value 4\n",
    "\n",
    "print(removed_element)\n",
    "print(my_list)"
   ]
  },
  {
   "cell_type": "code",
   "execution_count": 8,
   "metadata": {},
   "outputs": [
    {
     "name": "stdout",
     "output_type": "stream",
     "text": [
      "[2, 10, 5]\n"
     ]
    }
   ],
   "source": [
    "# List slicing\n",
    "sub_list = my_list[1:4]  # Creating a new list with elements from index 1 to 3 (not including 4)\n",
    "\n",
    "print(sub_list)"
   ]
  },
  {
   "cell_type": "code",
   "execution_count": 9,
   "metadata": {},
   "outputs": [
    {
     "name": "stdout",
     "output_type": "stream",
     "text": [
      "[1, 2, 10, 5, 1, 'hello', 3.14, True]\n"
     ]
    }
   ],
   "source": [
    "# List concatenation\n",
    "combined_list = my_list + mixed_list\n",
    "\n",
    "print(combined_list)"
   ]
  },
  {
   "cell_type": "code",
   "execution_count": 10,
   "metadata": {},
   "outputs": [
    {
     "name": "stdout",
     "output_type": "stream",
     "text": [
      "4\n"
     ]
    }
   ],
   "source": [
    "# List length\n",
    "length = len(my_list)\n",
    "\n",
    "print(length)"
   ]
  },
  {
   "cell_type": "code",
   "execution_count": 11,
   "metadata": {},
   "outputs": [
    {
     "name": "stdout",
     "output_type": "stream",
     "text": [
      "False\n"
     ]
    }
   ],
   "source": [
    "# Checking if an element is in the list\n",
    "is_present = 3 in my_list\n",
    "\n",
    "print(is_present)"
   ]
  },
  {
   "cell_type": "code",
   "execution_count": 12,
   "metadata": {},
   "outputs": [
    {
     "name": "stdout",
     "output_type": "stream",
     "text": [
      "1\n",
      "2\n",
      "10\n",
      "5\n"
     ]
    }
   ],
   "source": [
    "# Iterating through a list\n",
    "for item in my_list:\n",
    "    print(item)"
   ]
  },
  {
   "cell_type": "code",
   "execution_count": 13,
   "metadata": {},
   "outputs": [
    {
     "name": "stdout",
     "output_type": "stream",
     "text": [
      "[1, 4, 100, 25]\n"
     ]
    }
   ],
   "source": [
    "# List comprehension (creating a new list using a concise syntax)\n",
    "squared_list = [x ** 2 for x in my_list]\n",
    "\n",
    "print(squared_list)"
   ]
  },
  {
   "cell_type": "code",
   "execution_count": 14,
   "metadata": {},
   "outputs": [
    {
     "name": "stdout",
     "output_type": "stream",
     "text": [
      "[[1, 2, 3], [4, 5, 6]]\n"
     ]
    }
   ],
   "source": [
    "# Nested lists\n",
    "nested_list = [[1, 2, 3], [4, 5, 6]]\n",
    "\n",
    "print(nested_list)"
   ]
  },
  {
   "cell_type": "code",
   "execution_count": 15,
   "metadata": {},
   "outputs": [
    {
     "name": "stdout",
     "output_type": "stream",
     "text": [
      "2\n"
     ]
    }
   ],
   "source": [
    "# Accessing elements in nested lists\n",
    "element = nested_list[0][1]  # Accessing the element at row 0, column 1\n",
    "\n",
    "print(element)"
   ]
  },
  {
   "cell_type": "code",
   "execution_count": 17,
   "metadata": {},
   "outputs": [
    {
     "name": "stdout",
     "output_type": "stream",
     "text": [
      "[1, 2, 5, 10]\n"
     ]
    }
   ],
   "source": [
    "# Sorting a list\n",
    "my_list.sort()  # Sorts the list in ascending order\n",
    "\n",
    "print(my_list)"
   ]
  },
  {
   "cell_type": "code",
   "execution_count": 18,
   "metadata": {},
   "outputs": [
    {
     "name": "stdout",
     "output_type": "stream",
     "text": [
      "[10, 5, 2, 1]\n"
     ]
    }
   ],
   "source": [
    "# Reversing a list\n",
    "my_list.reverse()  # Reverses the order of elements in the list\n",
    "\n",
    "print(my_list)"
   ]
  },
  {
   "cell_type": "code",
   "execution_count": 19,
   "metadata": {},
   "outputs": [
    {
     "name": "stdout",
     "output_type": "stream",
     "text": [
      "[]\n"
     ]
    }
   ],
   "source": [
    "# Clearing a list\n",
    "my_list.clear()  # Removes all elements from the list\n",
    "\n",
    "print(my_list)"
   ]
  },
  {
   "cell_type": "markdown",
   "metadata": {},
   "source": [
    "### Tuple Data Type\n",
    "\n",
    "In Python, a tuple is a built-in data type that represents an ordered, immutable collection of elements. Tuples are similar to lists, but unlike lists, tuples cannot be modified after they are created. They are often used to group related data together. Tuples are defined using parentheses `()`."
   ]
  },
  {
   "cell_type": "code",
   "execution_count": 20,
   "metadata": {},
   "outputs": [],
   "source": [
    "# Creating Tuples\n",
    "\n",
    "my_tuple = (1, 2, 3, 4, 5)\n",
    "another_tuple = ('apple', 'banana', 'orange')\n",
    "mixed_tuple = (1, 'hello', 3.14)"
   ]
  },
  {
   "cell_type": "code",
   "execution_count": 22,
   "metadata": {},
   "outputs": [
    {
     "name": "stdout",
     "output_type": "stream",
     "text": [
      "<class 'tuple'>\n"
     ]
    }
   ],
   "source": [
    "# Check the Data Type \n",
    "\n",
    "print(type(my_tuple))"
   ]
  },
  {
   "cell_type": "code",
   "execution_count": 23,
   "metadata": {},
   "outputs": [
    {
     "name": "stdout",
     "output_type": "stream",
     "text": [
      "1\n",
      "banana\n"
     ]
    }
   ],
   "source": [
    "# Accessing Elements\n",
    "\n",
    "print(my_tuple[0])  # Output: 1\n",
    "print(another_tuple[1])  "
   ]
  },
  {
   "cell_type": "code",
   "execution_count": 24,
   "metadata": {},
   "outputs": [
    {
     "ename": "TypeError",
     "evalue": "'tuple' object does not support item assignment",
     "output_type": "error",
     "traceback": [
      "\u001b[1;31m---------------------------------------------------------------------------\u001b[0m",
      "\u001b[1;31mTypeError\u001b[0m                                 Traceback (most recent call last)",
      "Cell \u001b[1;32mIn[24], line 3\u001b[0m\n\u001b[0;32m      1\u001b[0m \u001b[39m# Immutable Nature\u001b[39;00m\n\u001b[1;32m----> 3\u001b[0m my_tuple[\u001b[39m0\u001b[39;49m] \u001b[39m=\u001b[39m \u001b[39m10\u001b[39m  \u001b[39m# This will result in an error\u001b[39;00m\n",
      "\u001b[1;31mTypeError\u001b[0m: 'tuple' object does not support item assignment"
     ]
    }
   ],
   "source": [
    "# Immutable Nature\n",
    "\n",
    "my_tuple[0] = 10  # This will result in an error"
   ]
  },
  {
   "cell_type": "code",
   "execution_count": 26,
   "metadata": {},
   "outputs": [
    {
     "name": "stdout",
     "output_type": "stream",
     "text": [
      "3 4\n"
     ]
    }
   ],
   "source": [
    "# Tuple Packing and Unpacking\n",
    "\n",
    "coordinates = (3, 4)\n",
    "x, y = coordinates  # Unpacking tuple into variables\n",
    "\n",
    "print(x,y)"
   ]
  },
  {
   "cell_type": "code",
   "execution_count": 27,
   "metadata": {},
   "outputs": [
    {
     "data": {
      "text/plain": [
       "3"
      ]
     },
     "execution_count": 27,
     "metadata": {},
     "output_type": "execute_result"
    }
   ],
   "source": [
    "# Methods and Functions\n",
    "\n",
    "my_tuple.count(2)  # Count occurrences of 2 in the tuple\n",
    "my_tuple.index(4)  # Find the index of the value 4"
   ]
  },
  {
   "cell_type": "code",
   "execution_count": 28,
   "metadata": {},
   "outputs": [
    {
     "name": "stdout",
     "output_type": "stream",
     "text": [
      "1\n",
      "2\n",
      "3\n",
      "4\n",
      "5\n"
     ]
    }
   ],
   "source": [
    "# Iterating Through a Tuple\n",
    "\n",
    "for item in my_tuple:\n",
    "    print(item)"
   ]
  },
  {
   "cell_type": "code",
   "execution_count": 29,
   "metadata": {},
   "outputs": [
    {
     "name": "stdout",
     "output_type": "stream",
     "text": [
      "(1, 2, 3, 4, 5, 'apple', 'banana', 'orange')\n",
      "(1, 2, 3, 4, 5, 1, 2, 3, 4, 5, 1, 2, 3, 4, 5)\n"
     ]
    }
   ],
   "source": [
    "# Concatenation and Repetition\n",
    "\n",
    "combined_tuple = my_tuple + another_tuple\n",
    "repeated_tuple = my_tuple * 3\n",
    "\n",
    "print(combined_tuple)\n",
    "print(repeated_tuple)"
   ]
  },
  {
   "cell_type": "code",
   "execution_count": 30,
   "metadata": {},
   "outputs": [
    {
     "name": "stdout",
     "output_type": "stream",
     "text": [
      "[1, 2, 3, 4, 5]\n"
     ]
    }
   ],
   "source": [
    "# Convert a tuple to a list in Python using the list() constructor\n",
    "\n",
    "my_tuple = (1, 2, 3, 4, 5)\n",
    "my_list = list(my_tuple)\n",
    "\n",
    "print(my_list)  "
   ]
  },
  {
   "cell_type": "code",
   "execution_count": 31,
   "metadata": {},
   "outputs": [
    {
     "name": "stdout",
     "output_type": "stream",
     "text": [
      "(1, 2, 3, 4, 5)\n"
     ]
    }
   ],
   "source": [
    "# Convert a list to a tuple in Python using the built-in tuple() function\n",
    "\n",
    "my_list = [1, 2, 3, 4, 5]\n",
    "my_tuple = tuple(my_list)\n",
    "\n",
    "print(my_tuple)  "
   ]
  },
  {
   "cell_type": "markdown",
   "metadata": {},
   "source": [
    "### Set Data Type\n",
    "\n",
    "In Python, the `set` is a built-in data type that represents an unordered collection of unique elements. Sets are used to store and manipulate data in a way that ensures each element is unique within the set. The elements in a set can be of various data types, such as integers, strings, floats, and more.\n",
    "\n",
    "Sets are particularly useful when you need to store a collection of items without duplicates and you don't require a specific order of the elements. They are commonly used for tasks like removing duplicates from a list, checking for membership, and performing set operations.\n",
    "\n",
    "Keep in mind that sets are mutable, but their elements must be hashable (immutable). This is because sets use hash-based techniques to maintain uniqueness and fast membership checks."
   ]
  },
  {
   "cell_type": "code",
   "execution_count": 32,
   "metadata": {},
   "outputs": [],
   "source": [
    "# Creating a Set\n",
    "\n",
    "my_set = {1, 2, 3, 4, 4}  # Duplicate elements are automatically removed\n",
    "another_set = set([3, 4, 5, 6])"
   ]
  },
  {
   "cell_type": "code",
   "execution_count": 33,
   "metadata": {},
   "outputs": [
    {
     "name": "stdout",
     "output_type": "stream",
     "text": [
      "<class 'set'>\n"
     ]
    }
   ],
   "source": [
    "# Check the Data Type\n",
    "\n",
    "print(type(my_set))"
   ]
  },
  {
   "cell_type": "code",
   "execution_count": 37,
   "metadata": {},
   "outputs": [
    {
     "name": "stdout",
     "output_type": "stream",
     "text": [
      "{1, 2, 3}\n"
     ]
    }
   ],
   "source": [
    "# Unique Elements\n",
    "\n",
    "my_set = {1, 2, 2, 3, 3}\n",
    "print(my_set)  "
   ]
  },
  {
   "cell_type": "code",
   "execution_count": 38,
   "metadata": {},
   "outputs": [
    {
     "name": "stdout",
     "output_type": "stream",
     "text": [
      "None\n",
      "None\n",
      "None\n",
      "True\n",
      "2\n"
     ]
    }
   ],
   "source": [
    "# Basic Operations\n",
    "\n",
    "print(my_set.add(5))     # Add an element\n",
    "print(my_set.remove(2))  # Remove an element; raises KeyError if element is not found\n",
    "print(my_set.discard(3)) # Remove an element if it exists, no error if element is not found\n",
    "print(5 in my_set)       # Check if an element is in the set; returns True or False\n",
    "print(len(my_set))       # Get the number of elements in the set"
   ]
  },
  {
   "cell_type": "code",
   "execution_count": 39,
   "metadata": {},
   "outputs": [
    {
     "name": "stdout",
     "output_type": "stream",
     "text": [
      "{1, 2, 3, 4, 5, 6}\n",
      "{3, 4}\n",
      "{1, 2}\n"
     ]
    }
   ],
   "source": [
    "# Set Operations\n",
    "\n",
    "set1 = {1, 2, 3, 4}\n",
    "set2 = {3, 4, 5, 6}\n",
    "\n",
    "union = set1 | set2         # Union of two sets\n",
    "intersection = set1 & set2  # Intersection of two sets\n",
    "difference = set1 - set2    # Elements in set1 but not in set2\n",
    "\n",
    "print(union)\n",
    "print(intersection)\n",
    "print(difference)"
   ]
  },
  {
   "cell_type": "code",
   "execution_count": 40,
   "metadata": {},
   "outputs": [
    {
     "name": "stdout",
     "output_type": "stream",
     "text": [
      "1\n",
      "5\n"
     ]
    }
   ],
   "source": [
    "# Iterating Through a Set\n",
    "\n",
    "for item in my_set:\n",
    "    print(item)"
   ]
  },
  {
   "cell_type": "markdown",
   "metadata": {},
   "source": [
    "##### *Slicing is not directly applicable to sets in Python."
   ]
  },
  {
   "cell_type": "code",
   "execution_count": 41,
   "metadata": {},
   "outputs": [
    {
     "name": "stdout",
     "output_type": "stream",
     "text": [
      "[1, 2, 3, 4, 5]\n"
     ]
    }
   ],
   "source": [
    "# Convert a set to a list in Python using the built-in list() function\n",
    "\n",
    "my_set = {1, 2, 3, 4, 5}\n",
    "my_list = list(my_set)\n",
    "print(my_list)"
   ]
  },
  {
   "cell_type": "code",
   "execution_count": 42,
   "metadata": {},
   "outputs": [
    {
     "name": "stdout",
     "output_type": "stream",
     "text": [
      "{1, 2, 3, 4, 5}\n"
     ]
    }
   ],
   "source": [
    "# Convert a list to a set in Python using the set() constructor\n",
    "\n",
    "my_list = [1, 2, 2, 3, 4, 4, 5]\n",
    "my_set = set(my_list)\n",
    "print(my_set)  \n"
   ]
  },
  {
   "cell_type": "markdown",
   "metadata": {},
   "source": [
    "### Difference between List, Tuple and Set\n",
    "\n",
    "\n",
    "In Python, `list`, `tuple`, and `set` are three different types of data structures used for storing collections of items. Each of these structures has its own characteristics and use cases. Here's a comparison of the key differences between them:\n",
    "\n",
    "1. **Mutability:**\n",
    "   - List: Lists are mutable, meaning you can add, remove, or modify elements after creation.\n",
    "   - Tuple: Tuples are immutable, meaning their elements cannot be changed after creation.\n",
    "   - Set: Sets are immutable, and their elements must be hashable (immutable). You can add and remove elements from a set, but you can't change the elements themselves.\n",
    "\n",
    "2. **Syntax:**\n",
    "   - List: Defined using square brackets `[]`.\n",
    "   - Tuple: Defined using parentheses `()`.\n",
    "   - Set: Defined using curly braces `{}`.\n",
    "\n",
    "3. **Order:**\n",
    "   - List: Maintains the order of elements, so you can access elements using indices.\n",
    "   - Tuple: Also maintains the order of elements, allowing access using indices.\n",
    "   - Set: Does not guarantee any specific order of elements.\n",
    "\n",
    "4. **Duplication:**\n",
    "   - List: Allows duplicate elements.\n",
    "   - Tuple: Allows duplicate elements.\n",
    "   - Set: Automatically enforces uniqueness; no duplicate elements are allowed.\n",
    "\n",
    "5. **Use Cases:**\n",
    "   - List: Suitable for storing collections of items where you need to modify the elements frequently or maintain a specific order. Lists are versatile and commonly used in various scenarios.\n",
    "   - Tuple: Useful for situations where you want to create a collection of items that should remain unchanged, such as coordinates, records, or function return values.\n",
    "   - Set: Ideal for storing collections of unique items and performing set operations like union, intersection, and difference. Sets are efficient for membership checks.\n",
    "\n",
    "6. **Iterability:**\n",
    "   - List: Iterable, meaning you can iterate through its elements using loops.\n",
    "   - Tuple: Iterable, similar to lists, allowing iteration through elements.\n",
    "   - Set: Iterable, can be iterated through using loops.\n",
    "\n",
    "7. **Hashability:**\n",
    "   - List: Not hashable, so you cannot use lists as elements of other sets or dictionaries.\n",
    "   - Tuple: Hashable, can be used as elements of sets or keys in dictionaries.\n",
    "   - Set: Not applicable, as sets contain individual elements.\n",
    "\n",
    "In summary, the choice between lists, tuples, and sets depends on your specific use case. Lists are commonly used for general-purpose collections, tuples are used when you need immutability, and sets are used for storing unique elements and performing set operations efficiently."
   ]
  },
  {
   "cell_type": "markdown",
   "metadata": {},
   "source": [
    "### Dictionary Data Type\n",
    "\n",
    "In Python, a `dictionary` is a built-in data type that represents an unordered collection of key-value pairs. Dictionaries are also known as associative arrays or hash maps in other programming languages. They allow you to store and retrieve values based on their associated keys rather than their positions, which makes them very efficient for lookups and retrieval.\n",
    "\n",
    "Dictionaries are incredibly useful when you need to associate values with unique keys. They are commonly used to represent structured data like user profiles, configuration settings, and more. It's important to note that keys in a dictionary must be hashable (immutable), which allows for efficient lookup and retrieval of values."
   ]
  },
  {
   "cell_type": "code",
   "execution_count": 43,
   "metadata": {},
   "outputs": [],
   "source": [
    "# Creating a Dictionary\n",
    "\n",
    "my_dict = {\"name\": \"John\", \"age\": 30, \"city\": \"New York\"}"
   ]
  },
  {
   "cell_type": "code",
   "execution_count": 44,
   "metadata": {},
   "outputs": [
    {
     "name": "stdout",
     "output_type": "stream",
     "text": [
      "<class 'dict'>\n"
     ]
    }
   ],
   "source": [
    "# Check the Data Type\n",
    "\n",
    "print(type(my_dict))"
   ]
  },
  {
   "cell_type": "code",
   "execution_count": 45,
   "metadata": {},
   "outputs": [
    {
     "name": "stdout",
     "output_type": "stream",
     "text": [
      "John\n",
      "30\n"
     ]
    }
   ],
   "source": [
    "# Accessing Values in a dictionary by using their corresponding keys\n",
    "\n",
    "name = my_dict[\"name\"]\n",
    "age = my_dict[\"age\"]\n",
    "\n",
    "print(name)\n",
    "print(age)"
   ]
  },
  {
   "cell_type": "code",
   "execution_count": 46,
   "metadata": {},
   "outputs": [
    {
     "name": "stdout",
     "output_type": "stream",
     "text": [
      "{'name': 'John', 'age': 31, 'city': 'New York', 'occupation': 'Engineer'}\n"
     ]
    }
   ],
   "source": [
    "# Adding and Modifying Elements\n",
    "\n",
    "my_dict[\"occupation\"] = \"Engineer\"  # Adding a new key-value pair\n",
    "my_dict[\"age\"] = 31  # Modifying an existing value\n",
    "\n",
    "print(my_dict)"
   ]
  },
  {
   "cell_type": "code",
   "execution_count": 47,
   "metadata": {},
   "outputs": [
    {
     "name": "stdout",
     "output_type": "stream",
     "text": [
      "{'name': 'John', 'age': 31}\n"
     ]
    }
   ],
   "source": [
    "# Removing Elements\n",
    "\n",
    "del my_dict[\"city\"]  # Remove a specific key-value pair\n",
    "my_dict.pop(\"occupation\")  # Remove and return the value for a specific key\n",
    "\n",
    "print(my_dict)"
   ]
  },
  {
   "cell_type": "code",
   "execution_count": 49,
   "metadata": {},
   "outputs": [
    {
     "name": "stdout",
     "output_type": "stream",
     "text": [
      "name John\n",
      "age 31\n"
     ]
    }
   ],
   "source": [
    "# Iterating Through a Dictionary\n",
    "\n",
    "for key in my_dict:\n",
    "    print(key, my_dict[key])\n"
   ]
  },
  {
   "cell_type": "code",
   "execution_count": 50,
   "metadata": {},
   "outputs": [
    {
     "name": "stdout",
     "output_type": "stream",
     "text": [
      "John\n",
      "31\n"
     ]
    }
   ],
   "source": [
    "for value in my_dict.values():\n",
    "    print(value)"
   ]
  },
  {
   "cell_type": "code",
   "execution_count": 51,
   "metadata": {},
   "outputs": [
    {
     "name": "stdout",
     "output_type": "stream",
     "text": [
      "name John\n",
      "age 31\n"
     ]
    }
   ],
   "source": [
    "for key, value in my_dict.items():\n",
    "    print(key, value)"
   ]
  },
  {
   "cell_type": "code",
   "execution_count": 52,
   "metadata": {},
   "outputs": [
    {
     "name": "stdout",
     "output_type": "stream",
     "text": [
      "Age exists in the dictionary\n"
     ]
    }
   ],
   "source": [
    "# Checking Membership - check if a key exists in a dictionary using the 'in' operator\n",
    "\n",
    "if \"age\" in my_dict:\n",
    "    print(\"Age exists in the dictionary\")"
   ]
  },
  {
   "cell_type": "markdown",
   "metadata": {},
   "source": [
    "### Differnce between List, Tuple, Set and Dictionary\n",
    "\n",
    "Here's a comparison of the four main data structures in Python: list, tuple, set, and dictionary.\n",
    "\n",
    "1. **List:**\n",
    "   - Ordered collection of elements.\n",
    "   - Mutable: You can modify, add, or remove elements after creation.\n",
    "   - Elements can be of any data type.\n",
    "   - Duplicate elements are allowed.\n",
    "   - Accessed using zero-based indexing.\n",
    "   - Created using square brackets `[]`.\n",
    "   - Example: `my_list = [1, 2, 3, 4]`\n",
    "\n",
    "2. **Tuple:**\n",
    "   - Ordered collection of elements.\n",
    "   - Immutable: Once created, you cannot change its elements.\n",
    "   - Elements can be of any data type.\n",
    "   - Duplicate elements are allowed.\n",
    "   - Accessed using zero-based indexing.\n",
    "   - Created using parentheses `()`.\n",
    "   - Example: `my_tuple = (1, 2, 3, 4)`\n",
    "\n",
    "3. **Set:**\n",
    "   - Unordered collection of unique elements.\n",
    "   - Mutable: You can add or remove elements after creation.\n",
    "   - Elements can be of any data type.\n",
    "   - Duplicate elements are automatically removed.\n",
    "   - No indexing or order is guaranteed when iterating.\n",
    "   - Created using curly braces `{}` or the `set()` constructor.\n",
    "   - Example: `my_set = {1, 2, 3, 4}` or `my_set = set([1, 2, 3, 4])`\n",
    "\n",
    "4. **Dictionary:**\n",
    "   - Collection of key-value pairs.\n",
    "   - Mutable: You can modify, add, or remove key-value pairs after creation.\n",
    "   - Keys must be hashable (usually immutable types like strings or numbers).\n",
    "   - Values can be of any data type.\n",
    "   - No specific order of keys is guaranteed when iterating (Python 3.7+ maintains insertion order).\n",
    "   - Accessed using keys instead of indices.\n",
    "   - Created using curly braces `{}` with `key: value` pairs.\n",
    "   - Example: `my_dict = {'a': 1, 'b': 2, 'c': 3}`\n",
    "\n",
    "Use cases for each data structure:\n",
    "- Lists are versatile and commonly used for sequences of elements that need to be modified.\n",
    "- Tuples are useful when you want to create collections that shouldn't change, such as function arguments, coordinates, etc.\n",
    "- Sets are used for collections that require uniqueness and membership tests, like removing duplicates or checking for existence.\n",
    "- Dictionaries are suitable for storing key-value associations, like a mapping of names to ages, where efficient key-based lookup is essential.\n",
    "\n",
    "Remember that the choice of data structure depends on the specific needs of your program, including requirements for mutability, ordering, uniqueness, and lookup efficiency."
   ]
  },
  {
   "cell_type": "markdown",
   "metadata": {},
   "source": [
    "## In-Built Function"
   ]
  },
  {
   "cell_type": "markdown",
   "metadata": {},
   "source": [
    "### String"
   ]
  },
  {
   "cell_type": "code",
   "execution_count": 53,
   "metadata": {},
   "outputs": [
    {
     "name": "stdout",
     "output_type": "stream",
     "text": [
      "7\n"
     ]
    }
   ],
   "source": [
    "# index(substring, start, end):Returns the index of the first occurrence of substring in the string, within the specified start and end indexes\n",
    "\n",
    "my_string = \"Hello, world!\"\n",
    "index = my_string.index(\"world\")\n",
    "print(index) "
   ]
  },
  {
   "cell_type": "code",
   "execution_count": 54,
   "metadata": {},
   "outputs": [
    {
     "name": "stdout",
     "output_type": "stream",
     "text": [
      "-1\n"
     ]
    }
   ],
   "source": [
    "# find(substring, start, end):Similar to index, but returns -1 if the substring is not found\n",
    "\n",
    "my_string = \"Hello, world!\"\n",
    "index = my_string.find(\"Python\")\n",
    "print(index) "
   ]
  },
  {
   "cell_type": "code",
   "execution_count": 55,
   "metadata": {},
   "outputs": [
    {
     "name": "stdout",
     "output_type": "stream",
     "text": [
      "3\n"
     ]
    }
   ],
   "source": [
    "# count(substring, start, end):Returns the count of occurrences of substring in the string, within the specified start and end indexes\n",
    "\n",
    "my_string = \"Hello, world!\"\n",
    "count = my_string.count(\"l\")\n",
    "print(count)"
   ]
  },
  {
   "cell_type": "code",
   "execution_count": 56,
   "metadata": {},
   "outputs": [
    {
     "name": "stdout",
     "output_type": "stream",
     "text": [
      "['apple', 'banana', 'grape', 'orange']\n"
     ]
    }
   ],
   "source": [
    "# split(separator, maxsplit):Splits the string into a list of substrings using the separator. You can limit the number of splits with maxsplit\n",
    "\n",
    "my_string = \"apple,banana,grape,orange\"\n",
    "fruits = my_string.split(\",\")\n",
    "print(fruits) "
   ]
  },
  {
   "cell_type": "code",
   "execution_count": 57,
   "metadata": {},
   "outputs": [
    {
     "name": "stdout",
     "output_type": "stream",
     "text": [
      "Hello, world!\n"
     ]
    }
   ],
   "source": [
    "# capitalize():Converts the first character of the string to uppercase and the rest to lowercase\n",
    "\n",
    "my_string = \"hello, world!\"\n",
    "new_string = my_string.capitalize()\n",
    "print(new_string) "
   ]
  },
  {
   "cell_type": "code",
   "execution_count": 58,
   "metadata": {},
   "outputs": [
    {
     "name": "stdout",
     "output_type": "stream",
     "text": [
      "Welcome To Python Programming\n"
     ]
    }
   ],
   "source": [
    "# title(): Converts the first character of each word in the string to uppercase\n",
    "\n",
    "my_string = \"welcome to python programming\"\n",
    "new_string = my_string.title()\n",
    "print(new_string)\n"
   ]
  },
  {
   "cell_type": "code",
   "execution_count": 59,
   "metadata": {},
   "outputs": [
    {
     "name": "stdout",
     "output_type": "stream",
     "text": [
      "Hello, Python!\n"
     ]
    }
   ],
   "source": [
    "# replace(old, new, count):Replaces occurrences of old with new in the string. You can limit the number of replacements with count\n",
    "\n",
    "my_string = \"Hello, world!\"\n",
    "new_string = my_string.replace(\"world\", \"Python\")\n",
    "print(new_string) "
   ]
  },
  {
   "cell_type": "code",
   "execution_count": 61,
   "metadata": {},
   "outputs": [
    {
     "name": "stdout",
     "output_type": "stream",
     "text": [
      "**Hello***\n"
     ]
    }
   ],
   "source": [
    "# center(width, fillchar): Centers the string in a field of width characters, optionally padded with fillchar\n",
    "\n",
    "my_string = \"Hello\"\n",
    "centered_string = my_string.center(10, \"*\")\n",
    "print(centered_string) "
   ]
  },
  {
   "cell_type": "code",
   "execution_count": 62,
   "metadata": {},
   "outputs": [
    {
     "name": "stdout",
     "output_type": "stream",
     "text": [
      "Hello, world!\n"
     ]
    }
   ],
   "source": [
    "# rstrip(chars), lstrip(chars), strip(chars):Removes whitespace or specific characters from the right, left, or both sides of the string\n",
    "\n",
    "my_string = \"   Hello, world!   \"\n",
    "stripped_string = my_string.strip()\n",
    "print(stripped_string) "
   ]
  },
  {
   "cell_type": "code",
   "execution_count": 63,
   "metadata": {},
   "outputs": [
    {
     "name": "stdout",
     "output_type": "stream",
     "text": [
      "True\n",
      "True\n",
      "True\n"
     ]
    }
   ],
   "source": [
    "# isalnum(), isalpha(), isdigit():Check if the string contains only alphanumeric characters, only alphabetic characters, or only digits, respectively\n",
    "\n",
    "my_string1 = \"Hello123\"\n",
    "my_string2 = \"Hello\"\n",
    "my_string3 = \"123\"\n",
    "\n",
    "print(my_string1.isalnum()) \n",
    "print(my_string2.isalpha()) \n",
    "print(my_string3.isdigit()) \n"
   ]
  },
  {
   "cell_type": "markdown",
   "metadata": {},
   "source": [
    "### List - In Built Function"
   ]
  },
  {
   "cell_type": "code",
   "execution_count": 64,
   "metadata": {},
   "outputs": [
    {
     "name": "stdout",
     "output_type": "stream",
     "text": [
      "[1, 2, 3, 4]\n"
     ]
    }
   ],
   "source": [
    "# append(item):Adds an item to the end of the list\n",
    "\n",
    "my_list = [1, 2, 3]\n",
    "my_list.append(4)\n",
    "print(my_list)  "
   ]
  },
  {
   "cell_type": "code",
   "execution_count": 65,
   "metadata": {},
   "outputs": [
    {
     "name": "stdout",
     "output_type": "stream",
     "text": [
      "[1, 5, 2, 3]\n"
     ]
    }
   ],
   "source": [
    "# insert(index, item): Inserts an item at a specific index in the list\n",
    "\n",
    "my_list = [1, 2, 3]\n",
    "my_list.insert(1, 5)\n",
    "print(my_list)  "
   ]
  },
  {
   "cell_type": "code",
   "execution_count": 66,
   "metadata": {},
   "outputs": [
    {
     "name": "stdout",
     "output_type": "stream",
     "text": [
      "[1, 2, 3, 4, 5]\n"
     ]
    }
   ],
   "source": [
    "# extend(iterable): Adds the elements of an iterable (e.g., list, tuple) to the end of the list\n",
    "\n",
    "my_list = [1, 2, 3]\n",
    "my_list.extend([4, 5])\n",
    "print(my_list)  "
   ]
  },
  {
   "cell_type": "code",
   "execution_count": 67,
   "metadata": {},
   "outputs": [
    {
     "name": "stdout",
     "output_type": "stream",
     "text": [
      "2\n",
      "[1, 3]\n"
     ]
    }
   ],
   "source": [
    "# pop(index):Removes and returns the item at the specified index. If no index is provided, it removes and returns the last item\n",
    "\n",
    "my_list = [1, 2, 3]\n",
    "popped_item = my_list.pop(1)\n",
    "print(popped_item)  \n",
    "print(my_list)      "
   ]
  },
  {
   "cell_type": "code",
   "execution_count": 68,
   "metadata": {},
   "outputs": [
    {
     "name": "stdout",
     "output_type": "stream",
     "text": [
      "[1, 2, 4, 5]\n"
     ]
    }
   ],
   "source": [
    "# del:Deletes an item or a slice from the list\n",
    "\n",
    "my_list = [1, 2, 3, 4, 5]\n",
    "del my_list[2]\n",
    "print(my_list)  "
   ]
  },
  {
   "cell_type": "code",
   "execution_count": 69,
   "metadata": {},
   "outputs": [
    {
     "name": "stdout",
     "output_type": "stream",
     "text": [
      "[1, 3, 2, 4]\n"
     ]
    }
   ],
   "source": [
    "# remove(item): Removes the first occurrence of the specified item from the list\n",
    "\n",
    "my_list = [1, 2, 3, 2, 4]\n",
    "my_list.remove(2)\n",
    "print(my_list)  "
   ]
  },
  {
   "cell_type": "code",
   "execution_count": 70,
   "metadata": {},
   "outputs": [
    {
     "name": "stdout",
     "output_type": "stream",
     "text": [
      "[]\n"
     ]
    }
   ],
   "source": [
    "# clear(): Removes all elements from the list, making it empty\n",
    "\n",
    "my_list = [1, 2, 3]\n",
    "my_list.clear()\n",
    "print(my_list) "
   ]
  },
  {
   "cell_type": "code",
   "execution_count": 71,
   "metadata": {},
   "outputs": [
    {
     "name": "stdout",
     "output_type": "stream",
     "text": [
      "3\n"
     ]
    }
   ],
   "source": [
    "# count(item):Returns the number of occurrences of the specified item in the list\n",
    "\n",
    "my_list = [1, 2, 2, 3, 2, 4]\n",
    "count = my_list.count(2)\n",
    "print(count)  "
   ]
  },
  {
   "cell_type": "code",
   "execution_count": 72,
   "metadata": {},
   "outputs": [
    {
     "name": "stdout",
     "output_type": "stream",
     "text": [
      "1\n"
     ]
    }
   ],
   "source": [
    "# index(item, start, end):Returns the index of the first occurrence of the specified item between the specified start and end indexes\n",
    "\n",
    "my_list = [1, 2, 3, 4, 2]\n",
    "index = my_list.index(2)\n",
    "print(index) "
   ]
  },
  {
   "cell_type": "code",
   "execution_count": 73,
   "metadata": {},
   "outputs": [
    {
     "name": "stdout",
     "output_type": "stream",
     "text": [
      "[4, 3, 2, 1]\n"
     ]
    }
   ],
   "source": [
    "# reverse(): Reverses the order of elements in the list\n",
    "\n",
    "my_list = [1, 2, 3, 4]\n",
    "my_list.reverse()\n",
    "print(my_list)  "
   ]
  },
  {
   "cell_type": "code",
   "execution_count": 74,
   "metadata": {},
   "outputs": [
    {
     "name": "stdout",
     "output_type": "stream",
     "text": [
      "[1, 2, 3, 4]\n"
     ]
    }
   ],
   "source": [
    "# sort(key, reverse): Sorts the elements of the list in ascending order. key and reverse are optional arguments\n",
    "\n",
    "my_list = [4, 1, 3, 2]\n",
    "my_list.sort()\n",
    "print(my_list)"
   ]
  },
  {
   "cell_type": "code",
   "execution_count": 75,
   "metadata": {},
   "outputs": [
    {
     "name": "stdout",
     "output_type": "stream",
     "text": [
      "[1, 2, 3]\n"
     ]
    }
   ],
   "source": [
    "# copy(): Creates a shallow copy of the list\n",
    "\n",
    "my_list = [1, 2, 3]\n",
    "new_list = my_list.copy()\n",
    "print(new_list) "
   ]
  },
  {
   "cell_type": "code",
   "execution_count": 76,
   "metadata": {},
   "outputs": [
    {
     "name": "stdout",
     "output_type": "stream",
     "text": [
      "[1, 2, 3, 4]\n",
      "[1, 2, 3]\n",
      "[1, 2, 3, 4]\n"
     ]
    }
   ],
   "source": [
    "# The expressions list2 = list1 and list2 = list1.copy() might appear similar, but they have different effects in terms of how they create and manage the new list list2. \n",
    "\n",
    "list1 = [1, 2, 3]\n",
    "list2 = list1  # list2 points to the same list as list1\n",
    "list2.append(4)\n",
    "\n",
    "print(list1)  # Output: [1, 2, 3, 4]\n",
    "\n",
    "\n",
    "list1 = [1, 2, 3]\n",
    "list2 = list1.copy()  # Creates a new list with the same elements\n",
    "list2.append(4)\n",
    "\n",
    "print(list1)  # Output: [1, 2, 3]\n",
    "print(list2)  # Output: [1, 2, 3, 4]\n"
   ]
  },
  {
   "cell_type": "markdown",
   "metadata": {},
   "source": [
    "### Set - In Built Function"
   ]
  },
  {
   "cell_type": "code",
   "execution_count": 77,
   "metadata": {},
   "outputs": [
    {
     "name": "stdout",
     "output_type": "stream",
     "text": [
      "{1, 2, 3, 4}\n"
     ]
    }
   ],
   "source": [
    "# add(item): Adds an element to the set\n",
    "\n",
    "my_set = {1, 2, 3}\n",
    "my_set.add(4)\n",
    "print(my_set) "
   ]
  },
  {
   "cell_type": "code",
   "execution_count": 78,
   "metadata": {},
   "outputs": [
    {
     "name": "stdout",
     "output_type": "stream",
     "text": [
      "{1, 2, 4}\n"
     ]
    }
   ],
   "source": [
    "# discard(item):Removes an element from the set if it exists. Does nothing if the element is not in the set\n",
    "\n",
    "my_set = {1, 2, 3, 4}\n",
    "my_set.discard(3)\n",
    "print(my_set) "
   ]
  },
  {
   "cell_type": "code",
   "execution_count": 79,
   "metadata": {},
   "outputs": [
    {
     "name": "stdout",
     "output_type": "stream",
     "text": [
      "1\n"
     ]
    }
   ],
   "source": [
    "# pop():Removes and returns an arbitrary element from the set. Since sets are unordered, the element removed is not guaranteed to be any specific one\n",
    "\n",
    "my_set = {1, 2, 3, 4}\n",
    "popped_element = my_set.pop()\n",
    "print(popped_element)  "
   ]
  },
  {
   "cell_type": "code",
   "execution_count": 80,
   "metadata": {},
   "outputs": [
    {
     "name": "stdout",
     "output_type": "stream",
     "text": [
      "{1, 3, 4}\n"
     ]
    }
   ],
   "source": [
    "# remove(item):Removes the specified element from the set. Raises a KeyError if the element is not found in the set\n",
    "\n",
    "my_set = {1, 2, 3, 4}\n",
    "my_set.remove(2)\n",
    "print(my_set)"
   ]
  },
  {
   "cell_type": "markdown",
   "metadata": {},
   "source": [
    "### Dictionary - In-Built Function"
   ]
  },
  {
   "cell_type": "code",
   "execution_count": 81,
   "metadata": {},
   "outputs": [
    {
     "name": "stdout",
     "output_type": "stream",
     "text": [
      "dict_keys(['a', 'b', 'c'])\n"
     ]
    }
   ],
   "source": [
    "# keys():Returns a list-like view of all the keys in the dictionary\n",
    "\n",
    "my_dict = {'a': 1, 'b': 2, 'c': 3}\n",
    "keys = my_dict.keys()\n",
    "print(keys) "
   ]
  },
  {
   "cell_type": "code",
   "execution_count": 82,
   "metadata": {},
   "outputs": [
    {
     "name": "stdout",
     "output_type": "stream",
     "text": [
      "dict_values([1, 2, 3])\n"
     ]
    }
   ],
   "source": [
    "# values():Returns a list-like view of all the values in the dictionary\n",
    "\n",
    "my_dict = {'a': 1, 'b': 2, 'c': 3}\n",
    "values = my_dict.values()\n",
    "print(values)  "
   ]
  },
  {
   "cell_type": "code",
   "execution_count": 83,
   "metadata": {},
   "outputs": [
    {
     "name": "stdout",
     "output_type": "stream",
     "text": [
      "dict_items([('a', 1), ('b', 2), ('c', 3)])\n"
     ]
    }
   ],
   "source": [
    "# items():Returns a list-like view of all key-value pairs in the dictionary as tuples\n",
    "\n",
    "my_dict = {'a': 1, 'b': 2, 'c': 3}\n",
    "items = my_dict.items()\n",
    "print(items) "
   ]
  },
  {
   "cell_type": "code",
   "execution_count": 85,
   "metadata": {},
   "outputs": [],
   "source": [
    "# get(key, default):Returns the value associated with the specified key. If the key is not found, it returns the default value (or None if not provided)\n",
    "\n",
    "my_dict = {'a': 1, 'b': 2, 'c': 3}\n",
    "value = my_dict.get('b', 0) \n",
    "non_existing_value = my_dict.get('x', 0)"
   ]
  },
  {
   "cell_type": "code",
   "execution_count": 86,
   "metadata": {},
   "outputs": [],
   "source": [
    "# pop(key, default):Removes the key-value pair with the specified key and returns its value. If the key is not found, it returns the default value (or raises a KeyError if not provided)\n",
    "\n",
    "my_dict = {'a': 1, 'b': 2, 'c': 3}\n",
    "popped_value = my_dict.pop('b')  \n",
    "non_existing_value = my_dict.pop('x', 0)  "
   ]
  }
 ],
 "metadata": {
  "kernelspec": {
   "display_name": "Python 3",
   "language": "python",
   "name": "python3"
  },
  "language_info": {
   "codemirror_mode": {
    "name": "ipython",
    "version": 3
   },
   "file_extension": ".py",
   "mimetype": "text/x-python",
   "name": "python",
   "nbconvert_exporter": "python",
   "pygments_lexer": "ipython3",
   "version": "3.11.4"
  },
  "orig_nbformat": 4
 },
 "nbformat": 4,
 "nbformat_minor": 2
}
