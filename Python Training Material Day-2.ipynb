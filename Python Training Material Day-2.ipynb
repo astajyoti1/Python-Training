{
 "cells": [
  {
   "cell_type": "markdown",
   "metadata": {},
   "source": [
    "# Python Conditions Statements"
   ]
  },
  {
   "cell_type": "markdown",
   "metadata": {},
   "source": [
    "# IF statements\n",
    "\n",
    "Python supports the usual logical conditions from mathematics:\n",
    "\n",
    "1. Equals: a == b\n",
    "2. Not Equals: a != b\n",
    "3. Less than: a < b\n",
    "4. Less than or equal to: a <= b\n",
    "5. Greater than: a > b\n",
    "6. Greater than or equal to: a >= b\n",
    "\n",
    "These conditions can be used in several ways, most commonly in \"if statements\" and loops.\n",
    "\n",
    "An \"if statement\" is written by using the if keyword."
   ]
  },
  {
   "cell_type": "code",
   "execution_count": 1,
   "metadata": {},
   "outputs": [
    {
     "name": "stdout",
     "output_type": "stream",
     "text": [
      "True\n"
     ]
    }
   ],
   "source": [
    "a = 10\n",
    "\n",
    "print(a<15)"
   ]
  },
  {
   "cell_type": "markdown",
   "metadata": {},
   "source": [
    "### IF"
   ]
  },
  {
   "cell_type": "code",
   "execution_count": 2,
   "metadata": {},
   "outputs": [
    {
     "name": "stdout",
     "output_type": "stream",
     "text": [
      "My name is Astajyoti\n"
     ]
    }
   ],
   "source": [
    "if a<15:\n",
    "    print(\"My name is Astajyoti\")"
   ]
  },
  {
   "cell_type": "code",
   "execution_count": 5,
   "metadata": {},
   "outputs": [
    {
     "name": "stdout",
     "output_type": "stream",
     "text": [
      "This is Second Condition\n"
     ]
    }
   ],
   "source": [
    "if 24<15:\n",
    "    print('This is First Condition')\n",
    "    \n",
    "if 24>15:\n",
    "    print('This is Second Condition')"
   ]
  },
  {
   "cell_type": "markdown",
   "metadata": {},
   "source": [
    "### IF ... ELSE ...\n",
    "\n",
    "The else keyword catches anything which isn't caught by the preceding conditions."
   ]
  },
  {
   "cell_type": "code",
   "execution_count": 7,
   "metadata": {},
   "outputs": [
    {
     "name": "stdout",
     "output_type": "stream",
     "text": [
      "a is not less than 3\n"
     ]
    }
   ],
   "source": [
    "a = 10\n",
    "\n",
    "if a<3:\n",
    "    print('a is less than 3')\n",
    "else:\n",
    "    print('a is not less than 3')"
   ]
  },
  {
   "cell_type": "markdown",
   "metadata": {},
   "source": [
    "### ELIF...\n",
    "\n",
    "The elif keyword is Python's way of saying \"if the previous conditions were not true, then try this condition\"."
   ]
  },
  {
   "cell_type": "code",
   "execution_count": 9,
   "metadata": {},
   "outputs": [
    {
     "name": "stdout",
     "output_type": "stream",
     "text": [
      "I wont be able to buy anything\n"
     ]
    }
   ],
   "source": [
    "income = 100\n",
    "\n",
    "if income<50:\n",
    "    print('I will be able to buy a phone')\n",
    "elif income<70:\n",
    "    print('I will be able to buy a car')\n",
    "elif income<90:\n",
    "    print('I will be able to rent a house')\n",
    "else:\n",
    "    print('I wont be able to buy anything')\n",
    "    "
   ]
  },
  {
   "cell_type": "markdown",
   "metadata": {},
   "source": [
    "### Short Hand If ... Else\n",
    "\n",
    "If you have only one statement to execute, one for if, and one for else, you can put it all on the same line"
   ]
  },
  {
   "cell_type": "code",
   "execution_count": 21,
   "metadata": {},
   "outputs": [
    {
     "name": "stdout",
     "output_type": "stream",
     "text": [
      "B\n"
     ]
    }
   ],
   "source": [
    "a = 2\n",
    "b = 330\n",
    "print(\"A\") if a > b else print(\"B\")"
   ]
  },
  {
   "cell_type": "code",
   "execution_count": 20,
   "metadata": {},
   "outputs": [
    {
     "name": "stdout",
     "output_type": "stream",
     "text": [
      "Enter your coupon code: ASTAJYOTI5\n",
      "The price of the product is :  7080\n",
      "You will be able to get a discount of 5%\n",
      "The price of the product for you is : 6726.0\n"
     ]
    }
   ],
   "source": [
    "# Write a code to apply a coupon code during checkout\n",
    "\n",
    "coup = input(\"Enter your coupon code: \")\n",
    "\n",
    "Total_Amount = 7080\n",
    "\n",
    "if coup == 'ASTAJYOTI5':\n",
    "    print('The price of the product is : ',Total_Amount)\n",
    "    print('You will be able to get a discount of 5%')\n",
    "    paid_amount = Total_Amount-Total_Amount*.05\n",
    "    print('The price of the product for you is :',paid_amount)\n",
    "else:\n",
    "    print('Kindly use a valid code or Please pay the amount:  ', Total_Amount)"
   ]
  },
  {
   "cell_type": "code",
   "execution_count": 64,
   "metadata": {},
   "outputs": [
    {
     "name": "stdout",
     "output_type": "stream",
     "text": [
      "Enter the string: asta\n",
      "asta is not a palindrome\n"
     ]
    }
   ],
   "source": [
    "# Write a code to check if a string is palindrome or not\n",
    "# \"eye\"\n",
    "# \"malayalam\"\n",
    "# \"tnet\"\n",
    "\n",
    "string = input(\"Enter the string: \")\n",
    "if(string==string[::-1]):\n",
    "    print(\"%s is a palindrome\" %string)\n",
    "else:\n",
    "    print(\"%s is not a palindrome\" %string)"
   ]
  },
  {
   "cell_type": "markdown",
   "metadata": {},
   "source": [
    "# Python FOR Loop\n",
    "\n",
    "A for loop is used for iterating over a sequence (that is either a list, a tuple, a dictionary, a set, or a string).\n",
    "\n",
    "With the for loop we can execute a set of statements, once for each item in a list, tuple, set etc."
   ]
  },
  {
   "cell_type": "code",
   "execution_count": 23,
   "metadata": {},
   "outputs": [
    {
     "name": "stdout",
     "output_type": "stream",
     "text": [
      "1\n",
      "2\n",
      "3\n",
      "4\n",
      "5\n",
      "6\n"
     ]
    }
   ],
   "source": [
    "# Looping through a list\n",
    "\n",
    "l = [1,2,3,4,5,6]\n",
    "\n",
    "for i in l:\n",
    "    print(i)"
   ]
  },
  {
   "cell_type": "code",
   "execution_count": 24,
   "metadata": {},
   "outputs": [
    {
     "name": "stdout",
     "output_type": "stream",
     "text": [
      "A\n",
      "s\n",
      "t\n",
      "a\n"
     ]
    }
   ],
   "source": [
    "# Looping through a string\n",
    "\n",
    "for i in 'Asta':\n",
    "    print(i)"
   ]
  },
  {
   "cell_type": "code",
   "execution_count": 28,
   "metadata": {},
   "outputs": [
    {
     "name": "stdout",
     "output_type": "stream",
     "text": [
      "<class 'int'>\n",
      "<class 'complex'>\n",
      "<class 'bool'>\n",
      "<class 'float'>\n",
      "<class 'str'>\n",
      "<class 'int'>\n"
     ]
    }
   ],
   "source": [
    "# For getting the data type of all the element of the above list\n",
    "\n",
    "l = [1,2+3j,True,4.5,'Asta',6]\n",
    "\n",
    "for i in l:\n",
    "    print(type(i))"
   ]
  },
  {
   "cell_type": "code",
   "execution_count": 29,
   "metadata": {},
   "outputs": [
    {
     "name": "stdout",
     "output_type": "stream",
     "text": [
      "3\n",
      "5\n",
      "8.8\n"
     ]
    }
   ],
   "source": [
    "# For loop with some arithmatic operation\n",
    "\n",
    "l = [1,3,6.8]\n",
    "\n",
    "for i in l:\n",
    "    print(i+2)"
   ]
  },
  {
   "cell_type": "code",
   "execution_count": 31,
   "metadata": {},
   "outputs": [
    {
     "name": "stdout",
     "output_type": "stream",
     "text": [
      "[1, 3, 6.8]\n",
      "[3, 5, 8.8]\n"
     ]
    }
   ],
   "source": [
    "# Perform a task and return a list\n",
    "\n",
    "l = [1,3,6.8]\n",
    "\n",
    "l1= []\n",
    "for i in l:\n",
    "    l1.append(i+2)\n",
    "    \n",
    "print(l)\n",
    "print(l1)"
   ]
  },
  {
   "cell_type": "code",
   "execution_count": 32,
   "metadata": {},
   "outputs": [
    {
     "name": "stdout",
     "output_type": "stream",
     "text": [
      "2\n",
      "45\n",
      "78\n",
      "12\n"
     ]
    }
   ],
   "source": [
    "# Filter out only the integer from the baove list\n",
    "\n",
    "l = [2,45,78,12,'asta', 5+2j, [2,3,4]]\n",
    "\n",
    "for i in l:\n",
    "    if type(i) == int:\n",
    "        print(i)"
   ]
  },
  {
   "cell_type": "markdown",
   "metadata": {},
   "source": [
    "#### Break Statement in For loop\n",
    "\n",
    "With the break statement we can stop the loop before it has looped through all the items"
   ]
  },
  {
   "cell_type": "code",
   "execution_count": 36,
   "metadata": {},
   "outputs": [
    {
     "name": "stdout",
     "output_type": "stream",
     "text": [
      "apple\n",
      "banana\n",
      "cherry\n"
     ]
    }
   ],
   "source": [
    "fruits = [\"apple\", \"banana\", \"cherry\",\"mango\", 'strawberry', 'chiku']\n",
    "\n",
    "for x in fruits:\n",
    "  if x == \"mango\":\n",
    "    break\n",
    "  print(x)"
   ]
  },
  {
   "cell_type": "markdown",
   "metadata": {},
   "source": [
    "#### Continue statement in For loop\n",
    "\n",
    "With the continue statement we can stop the current iteration of the loop, and continue with the next"
   ]
  },
  {
   "cell_type": "code",
   "execution_count": 37,
   "metadata": {},
   "outputs": [
    {
     "name": "stdout",
     "output_type": "stream",
     "text": [
      "apple\n",
      "cherry\n",
      "mango\n",
      "strawberry\n",
      "chiku\n"
     ]
    }
   ],
   "source": [
    "fruits = [\"apple\", \"banana\", \"cherry\",\"mango\", 'strawberry', 'chiku']\n",
    "\n",
    "for x in fruits:\n",
    "  if x == \"banana\":\n",
    "    continue\n",
    "  print(x)"
   ]
  },
  {
   "cell_type": "markdown",
   "metadata": {},
   "source": [
    "#### Range function in For Loop\n",
    "\n",
    "To loop through a set of code a specified number of times, we can use the range() function\n",
    "\n",
    "The range() function returns a sequence of numbers, starting from 0 by default, and increments by 1 (by default), and ends at a specified number."
   ]
  },
  {
   "cell_type": "code",
   "execution_count": 44,
   "metadata": {},
   "outputs": [
    {
     "name": "stdout",
     "output_type": "stream",
     "text": [
      "0\n",
      "1\n",
      "2\n",
      "3\n",
      "4\n",
      "5\n"
     ]
    }
   ],
   "source": [
    "# Only the End parameter\n",
    "\n",
    "for x in range(6):\n",
    "  print(x)"
   ]
  },
  {
   "cell_type": "code",
   "execution_count": 45,
   "metadata": {},
   "outputs": [
    {
     "name": "stdout",
     "output_type": "stream",
     "text": [
      "2\n",
      "3\n",
      "4\n",
      "5\n"
     ]
    }
   ],
   "source": [
    "# With both Start and End parameter\n",
    "\n",
    "for x in range(2,6):\n",
    "  print(x)"
   ]
  },
  {
   "cell_type": "code",
   "execution_count": 46,
   "metadata": {},
   "outputs": [
    {
     "name": "stdout",
     "output_type": "stream",
     "text": [
      "2\n",
      "5\n",
      "8\n",
      "11\n",
      "14\n",
      "17\n",
      "20\n",
      "23\n",
      "26\n",
      "29\n"
     ]
    }
   ],
   "source": [
    "# With Start, End and Increment paramenter\n",
    "\n",
    "for x in range(2, 30, 3):\n",
    "  print(x)"
   ]
  },
  {
   "cell_type": "markdown",
   "metadata": {},
   "source": [
    "#### Else in For Loop\n",
    "\n",
    "The else keyword in a for loop specifies a block of code to be executed when the loop is finished"
   ]
  },
  {
   "cell_type": "code",
   "execution_count": 48,
   "metadata": {},
   "outputs": [
    {
     "name": "stdout",
     "output_type": "stream",
     "text": [
      "0\n",
      "1\n",
      "2\n",
      "3\n",
      "4\n",
      "5\n",
      "Finally finished!\n"
     ]
    }
   ],
   "source": [
    "for x in range(6):\n",
    "  print(x)\n",
    "else:\n",
    "  print(\"Finally finished!\")"
   ]
  },
  {
   "cell_type": "markdown",
   "metadata": {},
   "source": [
    "#### Nested For Loop\n",
    "\n",
    "A nested loop is a loop inside a loop.\n",
    "\n",
    "The \"inner loop\" will be executed one time for each iteration of the \"outer loop\":"
   ]
  },
  {
   "cell_type": "code",
   "execution_count": 49,
   "metadata": {},
   "outputs": [
    {
     "name": "stdout",
     "output_type": "stream",
     "text": [
      "red apple\n",
      "red banana\n",
      "red cherry\n",
      "big apple\n",
      "big banana\n",
      "big cherry\n",
      "tasty apple\n",
      "tasty banana\n",
      "tasty cherry\n"
     ]
    }
   ],
   "source": [
    "adj = [\"red\", \"big\", \"tasty\"]\n",
    "fruits = [\"apple\", \"banana\", \"cherry\"]\n",
    "\n",
    "for x in adj:\n",
    "  for y in fruits:\n",
    "    print(x, y)"
   ]
  },
  {
   "cell_type": "markdown",
   "metadata": {},
   "source": [
    "#### Pass statement in For Loop\n",
    "\n",
    "for loops cannot be empty, but if you for some reason have a for loop with no content, put in the pass statement to avoid getting an error"
   ]
  },
  {
   "cell_type": "code",
   "execution_count": 50,
   "metadata": {},
   "outputs": [],
   "source": [
    "for x in [0, 1, 2]:\n",
    "  pass"
   ]
  },
  {
   "cell_type": "markdown",
   "metadata": {},
   "source": [
    "# WHILE Loop\n",
    "\n",
    "With the while loop we can execute a set of statements as long as a condition is true."
   ]
  },
  {
   "cell_type": "code",
   "execution_count": 51,
   "metadata": {},
   "outputs": [
    {
     "name": "stdout",
     "output_type": "stream",
     "text": [
      "1\n",
      "2\n",
      "3\n",
      "4\n",
      "5\n"
     ]
    }
   ],
   "source": [
    "# Print i as long as i is less than 6\n",
    "\n",
    "i = 1\n",
    "while i < 6:\n",
    "  print(i)\n",
    "  i += 1"
   ]
  },
  {
   "cell_type": "markdown",
   "metadata": {},
   "source": [
    "#### Break statement in WHILE loop\n",
    "\n",
    "With the break statement we can stop the loop even if the while condition is true"
   ]
  },
  {
   "cell_type": "code",
   "execution_count": 52,
   "metadata": {},
   "outputs": [
    {
     "name": "stdout",
     "output_type": "stream",
     "text": [
      "1\n",
      "2\n",
      "3\n"
     ]
    }
   ],
   "source": [
    "i = 1\n",
    "while i < 6:\n",
    "  print(i)\n",
    "  if i == 3:\n",
    "    break\n",
    "  i += 1"
   ]
  },
  {
   "cell_type": "markdown",
   "metadata": {},
   "source": [
    "#### Continue statement in WHILE loop\n",
    "\n",
    "With the continue statement we can stop the current iteration, and continue with the next"
   ]
  },
  {
   "cell_type": "code",
   "execution_count": 54,
   "metadata": {},
   "outputs": [
    {
     "name": "stdout",
     "output_type": "stream",
     "text": [
      "1\n",
      "2\n",
      "4\n",
      "5\n",
      "6\n"
     ]
    }
   ],
   "source": [
    "i = 0\n",
    "while i < 6:\n",
    "  i += 1\n",
    "  if i == 3:\n",
    "    continue\n",
    "  print(i)"
   ]
  },
  {
   "cell_type": "markdown",
   "metadata": {},
   "source": [
    "#### Else statement in WHILE loop\n",
    "\n",
    "With the else statement we can run a block of code once when the condition no longer is true"
   ]
  },
  {
   "cell_type": "code",
   "execution_count": 55,
   "metadata": {
    "scrolled": true
   },
   "outputs": [
    {
     "name": "stdout",
     "output_type": "stream",
     "text": [
      "1\n",
      "2\n",
      "3\n",
      "4\n",
      "5\n",
      "i is no longer less than 6\n"
     ]
    }
   ],
   "source": [
    "i = 1\n",
    "while i < 6:\n",
    "  print(i)\n",
    "  i += 1\n",
    "else:\n",
    "  print(\"i is no longer less than 6\")"
   ]
  },
  {
   "cell_type": "markdown",
   "metadata": {},
   "source": [
    "# What is Modular coding approach?\n",
    "\n",
    "Modularization is the technique of splitting a large programming task into smaller, separate, and manageable subtasks. Like most modern programming languages, Python is a modular programming language. Python scripts are modularized through functions, modules, and packages.\n",
    "\n",
    "- Function\n",
    "- Object\n",
    "- Classes\n",
    "- Logging\n",
    "- Exception Handling"
   ]
  },
  {
   "cell_type": "markdown",
   "metadata": {},
   "source": [
    "# FUNCTION\n",
    "\n",
    "A function is a block of code which only runs when it is called.\n",
    "\n",
    "You can pass data, known as parameters, into a function.\n",
    "\n",
    "A function can return data as a result."
   ]
  },
  {
   "cell_type": "code",
   "execution_count": 65,
   "metadata": {},
   "outputs": [
    {
     "data": {
      "text/plain": [
       "9"
      ]
     },
     "execution_count": 65,
     "metadata": {},
     "output_type": "execute_result"
    }
   ],
   "source": [
    "# Len(), print(), ... these are some funtion created by someone and stored in some python library\n",
    "\n",
    "len(\"astajyoti\")"
   ]
  },
  {
   "cell_type": "code",
   "execution_count": 66,
   "metadata": {},
   "outputs": [
    {
     "name": "stdout",
     "output_type": "stream",
     "text": [
      "I am Astajyoti\n"
     ]
    }
   ],
   "source": [
    "print(\"I am Astajyoti\")"
   ]
  },
  {
   "cell_type": "code",
   "execution_count": 68,
   "metadata": {},
   "outputs": [],
   "source": [
    "# In Python a function is defined using the def keyword\n",
    "\n",
    "def test():\n",
    "    print(\"This is my first function\")"
   ]
  },
  {
   "cell_type": "code",
   "execution_count": 69,
   "metadata": {},
   "outputs": [
    {
     "name": "stdout",
     "output_type": "stream",
     "text": [
      "This is my first function\n"
     ]
    }
   ],
   "source": [
    "# Calling a function\n",
    "\n",
    "test()"
   ]
  },
  {
   "cell_type": "markdown",
   "metadata": {},
   "source": [
    "### Arguments of Function\n",
    "\n",
    "Information can be passed into functions as arguments.\n",
    "\n",
    "Arguments are specified after the function name, inside the parentheses. You can add as many arguments as you want, just separate them with a comma."
   ]
  },
  {
   "cell_type": "code",
   "execution_count": 73,
   "metadata": {},
   "outputs": [],
   "source": [
    "# The following example has a function with one argument (fname)\n",
    "\n",
    "def my_function(fname):\n",
    "  print(fname + \" is my name.\")"
   ]
  },
  {
   "cell_type": "code",
   "execution_count": 75,
   "metadata": {},
   "outputs": [
    {
     "name": "stdout",
     "output_type": "stream",
     "text": [
      "Astajyoti is my name.\n"
     ]
    }
   ],
   "source": [
    "my_function(\"Astajyoti\")"
   ]
  },
  {
   "cell_type": "code",
   "execution_count": 76,
   "metadata": {},
   "outputs": [],
   "source": [
    "# With 2 arguments\n",
    "\n",
    "def my_function(fname, lname):\n",
    "  print(fname + \" \" + lname)"
   ]
  },
  {
   "cell_type": "code",
   "execution_count": 78,
   "metadata": {},
   "outputs": [
    {
     "name": "stdout",
     "output_type": "stream",
     "text": [
      "Astajyoti Behera\n"
     ]
    }
   ],
   "source": [
    "my_function(\"Astajyoti\", \"Behera\")"
   ]
  },
  {
   "cell_type": "markdown",
   "metadata": {},
   "source": [
    "#### Arbitrary Arguments, *args\n",
    "\n",
    "If you do not know how many arguments that will be passed into your function, add a * before the parameter name in the function definition.\n",
    "\n",
    "This way the function will receive a tuple of arguments, and can access the items accordingly"
   ]
  },
  {
   "cell_type": "code",
   "execution_count": 89,
   "metadata": {},
   "outputs": [
    {
     "name": "stdout",
     "output_type": "stream",
     "text": [
      "The youngest child is Hari\n"
     ]
    }
   ],
   "source": [
    "def my_function(*args):\n",
    "  print(\"The youngest child is \" + args[2])\n",
    "\n",
    "my_function(\"Asta\", \"Ram\", \"Hari\")"
   ]
  },
  {
   "cell_type": "markdown",
   "metadata": {},
   "source": [
    "#### Keyword Arguments\n",
    "\n",
    "You can also send arguments with the key = value syntax.\n",
    "\n",
    "This way the order of the arguments does not matter."
   ]
  },
  {
   "cell_type": "code",
   "execution_count": 81,
   "metadata": {},
   "outputs": [
    {
     "name": "stdout",
     "output_type": "stream",
     "text": [
      "The youngest child is Shyam\n"
     ]
    }
   ],
   "source": [
    "def my_function(child3, child2, child1):\n",
    "  print(\"The youngest child is \" + child3)\n",
    "\n",
    "my_function(child1 = \"Ram\", child2 = \"Hari\", child3 = \"Shyam\")"
   ]
  },
  {
   "cell_type": "markdown",
   "metadata": {},
   "source": [
    "#### Arbitrary Keyword Arguments, **kwargs\n",
    "\n",
    "If you do not know how many keyword arguments that will be passed into your function, add two asterisk: ** before the parameter name in the function definition.\n",
    "\n",
    "This way the function will receive a dictionary of arguments, and can access the items accordingly"
   ]
  },
  {
   "cell_type": "code",
   "execution_count": 90,
   "metadata": {},
   "outputs": [
    {
     "name": "stdout",
     "output_type": "stream",
     "text": [
      "My last name is Behera\n"
     ]
    }
   ],
   "source": [
    "def my_function(**kwargs):\n",
    "  print(\"My last name is \" + kwargs[\"lname\"])\n",
    "\n",
    "my_function(fname = \"Astajyoti\", lname = \"Behera\")"
   ]
  },
  {
   "cell_type": "markdown",
   "metadata": {},
   "source": [
    "### --> Instead of 'args' also you can write any  name like asta, ram, shyam.... args is not a reserved keyword"
   ]
  },
  {
   "cell_type": "markdown",
   "metadata": {},
   "source": [
    "#### Default Parameter Value\n",
    "\n",
    "If we call the function without argument, it uses the default value"
   ]
  },
  {
   "cell_type": "code",
   "execution_count": 84,
   "metadata": {},
   "outputs": [
    {
     "name": "stdout",
     "output_type": "stream",
     "text": [
      "I am from Sweden\n",
      "I am from India\n",
      "I am from Norway\n",
      "I am from Brazil\n"
     ]
    }
   ],
   "source": [
    "def my_function(country = \"Norway\"):\n",
    "  print(\"I am from \" + country)\n",
    "\n",
    "my_function(\"Sweden\")\n",
    "my_function(\"India\")\n",
    "my_function()\n",
    "my_function(\"Brazil\")"
   ]
  },
  {
   "cell_type": "markdown",
   "metadata": {},
   "source": [
    "#### Passing a List as an Argument\n",
    "\n",
    "You can send any data types of argument to a function (string, number, list, dictionary etc.), and it will be treated as the same data type inside the function."
   ]
  },
  {
   "cell_type": "code",
   "execution_count": 85,
   "metadata": {},
   "outputs": [
    {
     "name": "stdout",
     "output_type": "stream",
     "text": [
      "apple\n",
      "banana\n",
      "cherry\n"
     ]
    }
   ],
   "source": [
    "def my_function(food):\n",
    "  for x in food:\n",
    "    print(x)\n",
    "\n",
    "fruits = [\"apple\", \"banana\", \"cherry\"]\n",
    "\n",
    "my_function(fruits)"
   ]
  },
  {
   "cell_type": "markdown",
   "metadata": {},
   "source": [
    "#### Return Values\n",
    "\n",
    "To let a function return a value, use the return statement"
   ]
  },
  {
   "cell_type": "code",
   "execution_count": 88,
   "metadata": {},
   "outputs": [
    {
     "name": "stdout",
     "output_type": "stream",
     "text": [
      "15\n",
      "25\n"
     ]
    }
   ],
   "source": [
    "def my_function(x):\n",
    "  return 5 * x\n",
    "\n",
    "a = my_function(5)\n",
    "print(my_function(3))\n",
    "print(a)"
   ]
  },
  {
   "cell_type": "markdown",
   "metadata": {},
   "source": [
    "### Function Recursion\n",
    "\n",
    "Python also accepts function recursion, which means a defined function can call itself.\n",
    "\n",
    "Recursion is a common mathematical and programming concept. It means that a function calls itself. This has the benefit of meaning that you can loop through data to reach a result."
   ]
  },
  {
   "cell_type": "code",
   "execution_count": 93,
   "metadata": {},
   "outputs": [],
   "source": [
    "# In this example, tri_recursion() is a function that we have defined to call itself (\"recurse\"). \n",
    "# We use the k variable as the data, which decrements (-1) every time we recurse. \n",
    "# The recursion ends when the condition is not greater than 0 (i.e. when it is 0).\n",
    "\n",
    "def tri_recursion(k):\n",
    "  if(k > 0):\n",
    "    result = k + tri_recursion(k - 1)\n",
    "    print(result)\n",
    "  else:\n",
    "    result = 0\n",
    "  return result"
   ]
  },
  {
   "cell_type": "code",
   "execution_count": 92,
   "metadata": {
    "scrolled": true
   },
   "outputs": [
    {
     "name": "stdout",
     "output_type": "stream",
     "text": [
      "\n",
      "\n",
      "Recursion Example Results\n",
      "1\n",
      "3\n",
      "6\n",
      "10\n",
      "15\n",
      "21\n"
     ]
    },
    {
     "data": {
      "text/plain": [
       "21"
      ]
     },
     "execution_count": 92,
     "metadata": {},
     "output_type": "execute_result"
    }
   ],
   "source": [
    "print(\"\\n\\nRecursion Example Results\")\n",
    "tri_recursion(6)"
   ]
  },
  {
   "cell_type": "code",
   "execution_count": 94,
   "metadata": {},
   "outputs": [],
   "source": [
    "# To add comments and instruction inside a function\n",
    "\n",
    "def test():\n",
    "    \"\"\" This is test Function\"\"\"\n",
    "    print(\"This is my first function\")"
   ]
  },
  {
   "cell_type": "code",
   "execution_count": 96,
   "metadata": {},
   "outputs": [
    {
     "name": "stdout",
     "output_type": "stream",
     "text": [
      "Help on function test in module __main__:\n",
      "\n",
      "test()\n",
      "    This is test Function\n",
      "\n"
     ]
    }
   ],
   "source": [
    "# test(Shift +Tab)\n",
    "\n",
    "#OR\n",
    "\n",
    "help(test)"
   ]
  },
  {
   "cell_type": "markdown",
   "metadata": {},
   "source": [
    "## LAMBDA FUNCTION\n",
    "\n",
    "A lambda function is a small anonymous function.\n",
    "\n",
    "A lambda function can take any number of arguments, but can only have one expression.\n",
    "\n",
    "lambda arguments : expression"
   ]
  },
  {
   "cell_type": "code",
   "execution_count": 97,
   "metadata": {},
   "outputs": [
    {
     "name": "stdout",
     "output_type": "stream",
     "text": [
      "15\n"
     ]
    }
   ],
   "source": [
    "# Add 10 to argument a, and return the result\n",
    "\n",
    "x = lambda a : a + 10\n",
    "print(x(5))"
   ]
  },
  {
   "cell_type": "code",
   "execution_count": 98,
   "metadata": {},
   "outputs": [
    {
     "name": "stdout",
     "output_type": "stream",
     "text": [
      "13\n"
     ]
    }
   ],
   "source": [
    "# Summarize argument a, b, and c and return the result\n",
    "\n",
    "x = lambda a, b, c : a + b + c\n",
    "print(x(5, 6, 2))"
   ]
  },
  {
   "cell_type": "markdown",
   "metadata": {},
   "source": [
    "### Lambda Function inside a Function"
   ]
  },
  {
   "cell_type": "code",
   "execution_count": 99,
   "metadata": {},
   "outputs": [],
   "source": [
    "def myfunc(n):\n",
    "  return lambda a : a * n"
   ]
  },
  {
   "cell_type": "code",
   "execution_count": 103,
   "metadata": {},
   "outputs": [
    {
     "name": "stdout",
     "output_type": "stream",
     "text": [
      "6\n"
     ]
    }
   ],
   "source": [
    "mydoubler = myfunc(3)\n",
    "\n",
    "print(mydoubler(2))"
   ]
  },
  {
   "cell_type": "code",
   "execution_count": null,
   "metadata": {},
   "outputs": [],
   "source": []
  }
 ],
 "metadata": {
  "kernelspec": {
   "display_name": "Python 3",
   "language": "python",
   "name": "python3"
  },
  "language_info": {
   "codemirror_mode": {
    "name": "ipython",
    "version": 3
   },
   "file_extension": ".py",
   "mimetype": "text/x-python",
   "name": "python",
   "nbconvert_exporter": "python",
   "pygments_lexer": "ipython3",
   "version": "3.7.4"
  }
 },
 "nbformat": 4,
 "nbformat_minor": 5
}
