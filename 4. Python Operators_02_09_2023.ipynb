{
 "cells": [
  {
   "cell_type": "markdown",
   "metadata": {},
   "source": [
    "# Python Operator"
   ]
  },
  {
   "cell_type": "markdown",
   "metadata": {},
   "source": [
    "In Python, operators are special symbols or keywords that are used to perform operations on operands. Operators allow you to perform tasks like arithmetic, comparison, assignment, and logical operations. Here's an overview of some common types of operators in Python:\n",
    "\n",
    "1. **Arithmetic Operators:**\n",
    "   - `+` (Addition)\n",
    "   - `-` (Subtraction)\n",
    "   - `*` (Multiplication)\n",
    "   - `/` (Division)\n",
    "   - `%` (Modulus, remainder of division)\n",
    "   - `**` (Exponentiation, raising to a power)\n",
    "   - `//` (Floor Division, division rounded down to the nearest whole number)\n",
    "\n",
    "2. **Comparison Operators:**\n",
    "   - `==` (Equal to)\n",
    "   - `!=` (Not equal to)\n",
    "   - `<` (Less than)\n",
    "   - `>` (Greater than)\n",
    "   - `<=` (Less than or equal to)\n",
    "   - `>=` (Greater than or equal to)\n",
    "\n",
    "3. **Assignment Operators:**\n",
    "   - `=` (Assignment)\n",
    "   - `+=` (Addition assignment)\n",
    "   - `-=` (Subtraction assignment)\n",
    "   - `*=` (Multiplication assignment)\n",
    "   - `/=` (Division assignment)\n",
    "   - `%=` (Modulus assignment)\n",
    "   - `**=` (Exponentiation assignment)\n",
    "   - `//=` (Floor division assignment)\n",
    "\n",
    "4. **Logical Operators:**\n",
    "   - `and` (Logical AND)\n",
    "   - `or` (Logical OR)\n",
    "   - `not` (Logical NOT)\n",
    "\n",
    "5. **Bitwise Operators:**\n",
    "   - `&` (Bitwise AND)\n",
    "   - `|` (Bitwise OR)\n",
    "   - `^` (Bitwise XOR)\n",
    "   - `~` (Bitwise NOT)\n",
    "   - `<<` (Left shift)\n",
    "   - `>>` (Right shift)\n",
    "\n",
    "6. **Membership Operators:**\n",
    "   - `in` (True if a value is found in the sequence)\n",
    "   - `not in` (True if a value is not found in the sequence)\n",
    "\n",
    "7. **Identity Operators:**\n",
    "   - `is` (True if both variables are the same object)\n",
    "   - `is not` (True if both variables are not the same object)\n",
    "\n",
    "8. **Ternary Operator (Conditional Expression):**\n",
    "   - `value_if_true if condition else value_if_false`\n",
    "\n",
    "These operators are fundamental to performing various operations and comparisons in Python programs. Depending on the context, you choose the appropriate operator to achieve the desired operation or comparison."
   ]
  },
  {
   "cell_type": "code",
   "execution_count": 1,
   "metadata": {},
   "outputs": [
    {
     "name": "stdout",
     "output_type": "stream",
     "text": [
      "Addition: 15\n",
      "Subtraction: 5\n",
      "Multiplication: 50\n",
      "Division: 2.0\n",
      "Modulus: 0\n",
      "Exponentiation: 100000\n",
      "Floor Division: 2\n"
     ]
    }
   ],
   "source": [
    "# Arithmetic Operators\n",
    "a = 10\n",
    "b = 5\n",
    "\n",
    "# Addition\n",
    "result_add = a + b\n",
    "print(\"Addition:\", result_add)  # Output: 15\n",
    "\n",
    "# Subtraction\n",
    "result_sub = a - b\n",
    "print(\"Subtraction:\", result_sub)  # Output: 5\n",
    "\n",
    "# Multiplication\n",
    "result_mul = a * b\n",
    "print(\"Multiplication:\", result_mul)  # Output: 50\n",
    "\n",
    "# Division\n",
    "result_div = a / b\n",
    "print(\"Division:\", result_div)  # Output: 2.0 (division always returns a float)\n",
    "\n",
    "# Modulus (Remainder)\n",
    "result_mod = a % b\n",
    "print(\"Modulus:\", result_mod)  # Output: 0\n",
    "\n",
    "# Exponentiation\n",
    "result_exp = a ** b\n",
    "print(\"Exponentiation:\", result_exp)  # Output: 100000\n",
    "\n",
    "# Floor Division (division rounded down to the nearest whole number)\n",
    "result_floor_div = a // b\n",
    "print(\"Floor Division:\", result_floor_div)  # Output: 2\n"
   ]
  },
  {
   "cell_type": "code",
   "execution_count": 2,
   "metadata": {},
   "outputs": [
    {
     "name": "stdout",
     "output_type": "stream",
     "text": [
      "Equal to: False\n",
      "Not equal to: True\n",
      "Less than: False\n",
      "Greater than: True\n",
      "Less than or equal to: False\n",
      "Greater than or equal to: True\n"
     ]
    }
   ],
   "source": [
    "# Comparison Operators\n",
    "a = 10\n",
    "b = 5\n",
    "\n",
    "# Equal to\n",
    "result_equal = a == b\n",
    "print(\"Equal to:\", result_equal)  # Output: False\n",
    "\n",
    "# Not equal to\n",
    "result_not_equal = a != b\n",
    "print(\"Not equal to:\", result_not_equal)  # Output: True\n",
    "\n",
    "# Less than\n",
    "result_less_than = a < b\n",
    "print(\"Less than:\", result_less_than)  # Output: False\n",
    "\n",
    "# Greater than\n",
    "result_greater_than = a > b\n",
    "print(\"Greater than:\", result_greater_than)  # Output: True\n",
    "\n",
    "# Less than or equal to\n",
    "result_less_than_equal = a <= b\n",
    "print(\"Less than or equal to:\", result_less_than_equal)  # Output: False\n",
    "\n",
    "# Greater than or equal to\n",
    "result_greater_than_equal = a >= b\n",
    "print(\"Greater than or equal to:\", result_greater_than_equal)  # Output: True\n"
   ]
  },
  {
   "cell_type": "code",
   "execution_count": 3,
   "metadata": {},
   "outputs": [
    {
     "name": "stdout",
     "output_type": "stream",
     "text": [
      "Assignment (c = a): 10\n",
      "Addition assignment (a += b): 15\n",
      "Subtraction assignment (a -= b): 10\n",
      "Multiplication assignment (a *= b): 50\n",
      "Division assignment (a /= b): 10.0\n",
      "Modulus assignment (a %= b): 0.0\n",
      "Exponentiation assignment (a **= b): 0.0\n",
      "Floor Division assignment (a //= b): 0.0\n"
     ]
    }
   ],
   "source": [
    "# Assignment Operators\n",
    "a = 10\n",
    "b = 5\n",
    "\n",
    "# Assignment\n",
    "c = a\n",
    "print(\"Assignment (c = a):\", c)  # Output: 10\n",
    "\n",
    "# Addition assignment\n",
    "a += b\n",
    "print(\"Addition assignment (a += b):\", a)  # Output: 15\n",
    "\n",
    "# Subtraction assignment\n",
    "a -= b\n",
    "print(\"Subtraction assignment (a -= b):\", a)  # Output: 10\n",
    "\n",
    "# Multiplication assignment\n",
    "a *= b\n",
    "print(\"Multiplication assignment (a *= b):\", a)  # Output: 50\n",
    "\n",
    "# Division assignment\n",
    "a /= b\n",
    "print(\"Division assignment (a /= b):\", a)  # Output: 10.0 (division always returns a float)\n",
    "\n",
    "# Modulus assignment\n",
    "a %= b\n",
    "print(\"Modulus assignment (a %= b):\", a)  # Output: 0\n",
    "\n",
    "# Exponentiation assignment\n",
    "a **= b\n",
    "print(\"Exponentiation assignment (a **= b):\", a)  # Output: 0\n",
    "\n",
    "# Floor Division assignment\n",
    "a //= b\n",
    "print(\"Floor Division assignment (a //= b):\", a)  # Output: 0\n"
   ]
  },
  {
   "cell_type": "code",
   "execution_count": 4,
   "metadata": {},
   "outputs": [
    {
     "name": "stdout",
     "output_type": "stream",
     "text": [
      "Logical AND: False\n",
      "Logical OR: True\n",
      "Logical NOT (not x): False\n",
      "Logical NOT (not y): True\n"
     ]
    }
   ],
   "source": [
    "# Logical Operators\n",
    "x = True\n",
    "y = False\n",
    "\n",
    "# Logical AND\n",
    "result_and = x and y\n",
    "print(\"Logical AND:\", result_and)  # Output: False\n",
    "\n",
    "# Logical OR\n",
    "result_or = x or y\n",
    "print(\"Logical OR:\", result_or)  # Output: True\n",
    "\n",
    "# Logical NOT\n",
    "result_not_x = not x\n",
    "result_not_y = not y\n",
    "print(\"Logical NOT (not x):\", result_not_x)  # Output: False\n",
    "print(\"Logical NOT (not y):\", result_not_y)  # Output: True\n"
   ]
  },
  {
   "cell_type": "code",
   "execution_count": 5,
   "metadata": {},
   "outputs": [
    {
     "name": "stdout",
     "output_type": "stream",
     "text": [
      "Bitwise AND: 0b1000\n",
      "Bitwise OR: 0b1111\n",
      "Bitwise XOR: 0b111\n",
      "Bitwise NOT (x): -0b1110\n",
      "Bitwise NOT (y): -0b1011\n",
      "Left Shift: 0b110100\n",
      "Right Shift: 0b101\n"
     ]
    }
   ],
   "source": [
    "# Bitwise Operators\n",
    "x = 0b1101  # Binary representation of 13\n",
    "y = 0b1010  # Binary representation of 10\n",
    "\n",
    "# Bitwise AND\n",
    "result_and = x & y\n",
    "print(\"Bitwise AND:\", bin(result_and))  # Output: 0b1000 (Binary representation of 8)\n",
    "\n",
    "# Bitwise OR\n",
    "result_or = x | y\n",
    "print(\"Bitwise OR:\", bin(result_or))    # Output: 0b1111 (Binary representation of 15)\n",
    "\n",
    "# Bitwise XOR\n",
    "result_xor = x ^ y\n",
    "print(\"Bitwise XOR:\", bin(result_xor))  # Output: 0b0111 (Binary representation of 7)\n",
    "\n",
    "# Bitwise NOT (Inverts all the bits)\n",
    "result_not_x = ~x\n",
    "result_not_y = ~y\n",
    "print(\"Bitwise NOT (x):\", bin(result_not_x))  # Output: -0b1110 (Binary representation of -14)\n",
    "print(\"Bitwise NOT (y):\", bin(result_not_y))  # Output: -0b1011 (Binary representation of -11)\n",
    "\n",
    "# Left Shift\n",
    "result_left_shift = x << 2\n",
    "print(\"Left Shift:\", bin(result_left_shift))  # Output: 0b110100 (Binary representation of 52)\n",
    "\n",
    "# Right Shift\n",
    "result_right_shift = y >> 1\n",
    "print(\"Right Shift:\", bin(result_right_shift))  # Output: 0b1001 (Binary representation of 9)\n"
   ]
  },
  {
   "cell_type": "code",
   "execution_count": 6,
   "metadata": {},
   "outputs": [
    {
     "name": "stdout",
     "output_type": "stream",
     "text": [
      "3 in my_list: True\n",
      "6 not in my_list: True\n",
      "'World' in my_string: True\n",
      "'Python' not in my_string: True\n"
     ]
    }
   ],
   "source": [
    "# Membership Operators\n",
    "my_list = [1, 2, 3, 4, 5]\n",
    "\n",
    "# in (True if a value is found in the sequence)\n",
    "result_in = 3 in my_list\n",
    "print(\"3 in my_list:\", result_in)  # Output: True\n",
    "\n",
    "# not in (True if a value is not found in the sequence)\n",
    "result_not_in = 6 not in my_list\n",
    "print(\"6 not in my_list:\", result_not_in)  # Output: True\n",
    "\n",
    "my_string = \"Hello, World!\"\n",
    "\n",
    "# in (True if a substring is found in the string)\n",
    "result_str_in = \"World\" in my_string\n",
    "print(\"'World' in my_string:\", result_str_in)  # Output: True\n",
    "\n",
    "# not in (True if a substring is not found in the string)\n",
    "result_str_not_in = \"Python\" not in my_string\n",
    "print(\"'Python' not in my_string:\", result_str_not_in)  # Output: True\n"
   ]
  },
  {
   "cell_type": "code",
   "execution_count": 7,
   "metadata": {},
   "outputs": [
    {
     "name": "stdout",
     "output_type": "stream",
     "text": [
      "x is y: True\n",
      "x is not z: True\n",
      "a is b: True\n",
      "a is not z: True\n"
     ]
    }
   ],
   "source": [
    "# Identity Operators\n",
    "x = [1, 2, 3]\n",
    "y = x  # y refers to the same object as x\n",
    "z = [1, 2, 3]\n",
    "\n",
    "# is (True if both variables are the same object)\n",
    "result_is = x is y\n",
    "print(\"x is y:\", result_is)  # Output: True\n",
    "\n",
    "result_is_not = x is not z\n",
    "print(\"x is not z:\", result_is_not)  # Output: True\n",
    "\n",
    "# Identity operators also work with None\n",
    "a = None\n",
    "b = None\n",
    "\n",
    "result_none_is = a is b\n",
    "print(\"a is b:\", result_none_is)  # Output: True\n",
    "\n",
    "result_none_is_not = a is not z\n",
    "print(\"a is not z:\", result_none_is_not)  # Output: True\n"
   ]
  },
  {
   "cell_type": "code",
   "execution_count": 8,
   "metadata": {},
   "outputs": [
    {
     "name": "stdout",
     "output_type": "stream",
     "text": [
      "Greater\n",
      "10\n",
      "[1, 4, 3, 16, 5]\n"
     ]
    }
   ],
   "source": [
    "# Ternary Operator (Conditional Expression)\n",
    "a = 10\n",
    "b = 5\n",
    "\n",
    "# Syntax: value_if_true if condition else value_if_false\n",
    "\n",
    "result = \"Greater\" if a > b else \"Less or Equal\"\n",
    "print(result)  # Output: \"Greater\"\n",
    "\n",
    "result = a if a > b else b\n",
    "print(result)  # Output: 10\n",
    "\n",
    "# You can also use ternary expressions inside list comprehensions\n",
    "numbers = [1, 2, 3, 4, 5]\n",
    "squared_numbers = [x**2 if x % 2 == 0 else x for x in numbers]\n",
    "print(squared_numbers)  # Output: [1, 4, 3, 16, 5]\n"
   ]
  },
  {
   "cell_type": "code",
   "execution_count": null,
   "metadata": {},
   "outputs": [],
   "source": []
  }
 ],
 "metadata": {
  "kernelspec": {
   "display_name": "Python 3",
   "language": "python",
   "name": "python3"
  },
  "language_info": {
   "codemirror_mode": {
    "name": "ipython",
    "version": 3
   },
   "file_extension": ".py",
   "mimetype": "text/x-python",
   "name": "python",
   "nbconvert_exporter": "python",
   "pygments_lexer": "ipython3",
   "version": "3.11.5"
  },
  "orig_nbformat": 4
 },
 "nbformat": 4,
 "nbformat_minor": 2
}
