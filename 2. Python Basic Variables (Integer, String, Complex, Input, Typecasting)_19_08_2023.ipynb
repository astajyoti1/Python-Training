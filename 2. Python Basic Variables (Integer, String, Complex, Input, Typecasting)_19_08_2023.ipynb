{
 "cells": [
  {
   "cell_type": "markdown",
   "id": "2ba14940-2a1f-4763-bbd5-373816bad13b",
   "metadata": {},
   "source": [
    "# Python Variable"
   ]
  },
  {
   "cell_type": "markdown",
   "id": "e87b53c2-b5e9-43c7-a2fb-68933ecb717b",
   "metadata": {},
   "source": [
    "What is python variable?\n",
    "\n",
    "A Python variable is a symbolic name that represents a memory location where data can be stored and manipulated during the execution of a Python program. Variables are used to store values such as numbers, strings, lists, or other data types, which can then be referenced and used in various parts of your code.\n",
    "\n",
    "In Python, you don't need to explicitly declare the type of a variable. The type of the variable is inferred based on the value assigned to it. This is known as dynamic typing."
   ]
  },
  {
   "cell_type": "code",
   "execution_count": 1,
   "id": "3109e335-64da-4b7b-ba76-2cc41affeb1d",
   "metadata": {},
   "outputs": [],
   "source": [
    "# Variable assignment\n",
    "age = 25\n",
    "name = \"John\"\n",
    "is_student = True\n",
    "pi = 3.14159"
   ]
  },
  {
   "cell_type": "code",
   "execution_count": 2,
   "id": "93e2b698-9123-493a-8d69-0c2592ee673f",
   "metadata": {},
   "outputs": [],
   "source": [
    "# Using variables in expressions\n",
    "birth_year = 2023 - age\n",
    "greeting = \"Hello, \" + name"
   ]
  },
  {
   "cell_type": "code",
   "execution_count": 3,
   "id": "560e7401-1a40-48bd-b71a-fda6a0c32efe",
   "metadata": {},
   "outputs": [
    {
     "name": "stdout",
     "output_type": "stream",
     "text": [
      "Name: John\n",
      "Age: 25\n",
      "Is Student: True\n",
      "Pi: 3.14159\n",
      "Birth Year: 1998\n",
      "Hello, John\n"
     ]
    }
   ],
   "source": [
    "# Displaying variables\n",
    "print(\"Name:\", name)\n",
    "print(\"Age:\", age)\n",
    "print(\"Is Student:\", is_student)\n",
    "print(\"Pi:\", pi)\n",
    "print(\"Birth Year:\", birth_year)\n",
    "print(greeting)"
   ]
  },
  {
   "cell_type": "markdown",
   "id": "50edb17c-f7ba-4b03-adbe-68d17fc460fe",
   "metadata": {},
   "source": [
    "### In Python, you can use the built-in type() function to check the type of a variable. "
   ]
  },
  {
   "cell_type": "code",
   "execution_count": 4,
   "id": "29e0158e-07a5-42b5-9d41-2a23306b673e",
   "metadata": {},
   "outputs": [
    {
     "name": "stdout",
     "output_type": "stream",
     "text": [
      "<class 'int'>\n",
      "<class 'str'>\n",
      "<class 'bool'>\n",
      "<class 'float'>\n"
     ]
    }
   ],
   "source": [
    "age = 25\n",
    "name = \"John\"\n",
    "is_student = True\n",
    "pi = 3.14159\n",
    "\n",
    "print(type(age))        \n",
    "print(type(name))       \n",
    "print(type(is_student)) \n",
    "print(type(pi))"
   ]
  },
  {
   "cell_type": "markdown",
   "id": "ebedadda-b108-44c6-95da-8766064bfb42",
   "metadata": {},
   "source": [
    "#### Declare Multiple variable in a single line"
   ]
  },
  {
   "cell_type": "code",
   "execution_count": 5,
   "id": "35511acf-a506-4836-a27e-d8695b286488",
   "metadata": {},
   "outputs": [],
   "source": [
    "# Tuple unpacking\n",
    "a, b, c = 1, 2, 3\n",
    "\n",
    "# Multiple assignment\n",
    "x = y = z = 0\n",
    "\n",
    "# Mixed types\n",
    "name, age, is_student = \"Alice\", 22, True"
   ]
  },
  {
   "cell_type": "code",
   "execution_count": 6,
   "id": "dc468dfb-491a-4ec9-b84d-7e2303655cb0",
   "metadata": {},
   "outputs": [
    {
     "name": "stdout",
     "output_type": "stream",
     "text": [
      "1\n",
      "2\n",
      "3\n",
      "0 0 0\n",
      "Alice 22 True\n"
     ]
    }
   ],
   "source": [
    "print(a)\n",
    "print(b)\n",
    "print(c)\n",
    "print(x,y,z)\n",
    "print(name, age, is_student)"
   ]
  },
  {
   "cell_type": "markdown",
   "id": "d0203b76-b1b7-463a-8c01-a41137e6d798",
   "metadata": {
    "tags": []
   },
   "source": [
    "### Python Variable Naming Conventions\n",
    "\n",
    "In Python, there are some naming conventions and guidelines that are widely followed to write clean, readable, and consistent code. While Python is flexible in terms of variable naming, adhering to these conventions makes your code more understandable to others and helps maintain a consistent style across projects. Here are the key points to consider for variable naming conventions in Python:\n",
    "\n",
    "#### 1. Use Descriptive Names: \n",
    "    Choose variable names that are meaningful and convey the purpose of the variable. This makes your code more self-explanatory and reduces the need for comments.\n",
    "\n",
    "#### 2. Snake Case: \n",
    "    Variable names are typically written in lowercase letters and words are separated by underscores. This convention is known as \"snake_case.\" For example: user_name, total_amount, data_set.\n",
    "\n",
    "#### 3. Avoid Reserved Keywords: \n",
    "    Avoid using Python's reserved keywords (e.g., if, for, while, class, etc.) as variable names. This would cause conflicts and errors in your code.\n",
    "\n",
    "#### 4. Be Consistent: \n",
    "    Maintain consistency in your naming conventions throughout your codebase. If you start using snake_case, stick to it across all variables.\n",
    "\n",
    "#### 5. Use Clear and Concise Names: \n",
    "    Aim for clear and concise variable names that convey their purpose. Avoid overly short or cryptic names, as they can make the code harder to understand.\n",
    "\n",
    "#### 6. Start with a Letter: \n",
    "    Variable names must start with a letter (a-z, A-Z) or an underscore (_) followed by letters, underscores, or digits.\n",
    "\n",
    "#### 7. Avoid Starting with Underscore: \n",
    "    While it's allowed to start a variable name with an underscore, this convention is often used to indicate that a variable is intended to be private or internal to a module. It's best to avoid using leading underscores for regular variables.\n",
    "\n",
    "#### 8. Constants: \n",
    "    Constants (values that are not meant to be modified) are usually written in all uppercase letters with underscores between words. For example: MAX_VALUE, PI, DEFAULT_TIMEOUT.\n",
    "\n",
    "#### 9. Class Names: \n",
    "    Class names should use CamelCase, where each word starts with an uppercase letter and no underscores are used. For example: MyClass, PersonDetails.\n",
    "\n",
    "#### 10. Module Names: \n",
    "    Module names should be in lowercase and can include underscores. For example: my_module, data_processing.\n",
    "\n",
    "#### 11. Packages: \n",
    "    Package names are also in lowercase, but without underscores. For example: mypackage, utils.\n",
    "\n",
    "#### 12. Avoid Single-Character Names: \n",
    "    Except for very specific cases (like loop counters), avoid using single-character variable names as they are not descriptive and can make code harder to understand."
   ]
  },
  {
   "cell_type": "code",
   "execution_count": 7,
   "id": "7f4c8c72-8c52-4de4-a156-6c6683bd04a8",
   "metadata": {},
   "outputs": [],
   "source": [
    "# Example of some good naming conventions\n",
    "\n",
    "total_amount = 100\n",
    "user_name = \"Alice\"\n",
    "num_iterations = 10"
   ]
  },
  {
   "cell_type": "code",
   "execution_count": 8,
   "id": "fd16e7c1-0632-473c-9980-1680be1ccbd8",
   "metadata": {},
   "outputs": [
    {
     "name": "stdout",
     "output_type": "stream",
     "text": [
      "['False', 'None', 'True', 'and', 'as', 'assert', 'async', 'await', 'break', 'class', 'continue', 'def', 'del', 'elif', 'else', 'except', 'finally', 'for', 'from', 'global', 'if', 'import', 'in', 'is', 'lambda', 'nonlocal', 'not', 'or', 'pass', 'raise', 'return', 'try', 'while', 'with', 'yield']\n"
     ]
    }
   ],
   "source": [
    "# Use the keyword module in Python to get a list of reserved keywords\n",
    "\n",
    "import keyword\n",
    "\n",
    "reserved_keywords = keyword.kwlist\n",
    "print(reserved_keywords)\n"
   ]
  },
  {
   "cell_type": "markdown",
   "id": "b16b93ab-8afe-4fa7-9a2e-1677efb17b36",
   "metadata": {},
   "source": [
    "### Integer Data Type\n",
    "\n",
    "In Python, the integer data type (int) is used to represent whole numbers, both positive and negative, without any decimal point. Integers can be used for various mathematical operations such as addition, subtraction, multiplication, and division."
   ]
  },
  {
   "cell_type": "code",
   "execution_count": 9,
   "id": "f4b2b39f-199a-42ff-880e-c2113e890054",
   "metadata": {},
   "outputs": [],
   "source": [
    "# Integer assignments\n",
    "x = 10\n",
    "y = -5\n",
    "z = 0"
   ]
  },
  {
   "cell_type": "code",
   "execution_count": 10,
   "id": "96af9ce0-b84d-4d90-a90c-3d74ef39c90f",
   "metadata": {},
   "outputs": [],
   "source": [
    "# Basic arithmetic operations\n",
    "sum_result = x + y\n",
    "difference = x - y\n",
    "product = x * y\n",
    "quotient = x / y  # This division will result in a floating-point number"
   ]
  },
  {
   "cell_type": "code",
   "execution_count": 11,
   "id": "d59736fd-0060-44fb-8fdf-a27c2fb7765d",
   "metadata": {},
   "outputs": [
    {
     "name": "stdout",
     "output_type": "stream",
     "text": [
      "Sum: 5\n",
      "Difference: 15\n",
      "Product: -50\n",
      "Quotient: -2.0\n"
     ]
    }
   ],
   "source": [
    "# Displaying results\n",
    "print(\"Sum:\", sum_result)\n",
    "print(\"Difference:\", difference)\n",
    "print(\"Product:\", product)\n",
    "print(\"Quotient:\", quotient)"
   ]
  },
  {
   "cell_type": "code",
   "execution_count": 12,
   "id": "1ef1e218-d635-479a-961c-d1642c1acb91",
   "metadata": {},
   "outputs": [],
   "source": [
    "# Integer division (floor division)\n",
    "floor_division = x // y"
   ]
  },
  {
   "cell_type": "code",
   "execution_count": 13,
   "id": "acd7e225-b97d-4fec-a6ff-7adec87f4fc3",
   "metadata": {},
   "outputs": [
    {
     "name": "stdout",
     "output_type": "stream",
     "text": [
      "Floor Division: -2\n"
     ]
    }
   ],
   "source": [
    "# Displaying results\n",
    "print(\"Floor Division:\", floor_division)"
   ]
  },
  {
   "cell_type": "code",
   "execution_count": 14,
   "id": "1a9c18b2-f51e-4919-afe8-0e0c614c04f3",
   "metadata": {},
   "outputs": [],
   "source": [
    "# Modulus (remainder)\n",
    "remainder = x % y"
   ]
  },
  {
   "cell_type": "code",
   "execution_count": 15,
   "id": "9f045bd8-9390-46c1-ae8e-2de2e52fcd14",
   "metadata": {},
   "outputs": [
    {
     "name": "stdout",
     "output_type": "stream",
     "text": [
      "Remainder: 0\n"
     ]
    }
   ],
   "source": [
    "# Displaying results\n",
    "print(\"Remainder:\", remainder)"
   ]
  },
  {
   "cell_type": "code",
   "execution_count": 16,
   "id": "55c4d630-a851-41b7-8626-409ab78a6856",
   "metadata": {},
   "outputs": [],
   "source": [
    "# Exponentiation\n",
    "power = x ** 2"
   ]
  },
  {
   "cell_type": "code",
   "execution_count": 17,
   "id": "ae079af7-878e-4989-a1e8-a1d03181e20d",
   "metadata": {},
   "outputs": [
    {
     "name": "stdout",
     "output_type": "stream",
     "text": [
      "Power: 100\n"
     ]
    }
   ],
   "source": [
    "# Displaying results\n",
    "print(\"Power:\", power)"
   ]
  },
  {
   "cell_type": "markdown",
   "id": "d1603cc6-59ed-40cd-9739-c0e430d17cec",
   "metadata": {},
   "source": [
    "### String Data Type\n",
    "\n",
    "In Python, a string is a data type that represents a sequence of characters. Strings are used to store and manipulate textual data. Strings can be created using single quotes (') or double quotes (\")."
   ]
  },
  {
   "cell_type": "code",
   "execution_count": 18,
   "id": "b1e7301b-01ba-47f4-9d9a-233bb819cc9e",
   "metadata": {},
   "outputs": [],
   "source": [
    "single_quoted_string = 'Hello, world!'\n",
    "double_quoted_string = \"Python is amazing\""
   ]
  },
  {
   "cell_type": "code",
   "execution_count": 19,
   "id": "a57561de-5ce5-40ed-b7e0-d58f0173eb4e",
   "metadata": {},
   "outputs": [
    {
     "name": "stdout",
     "output_type": "stream",
     "text": [
      "Hello, world!\n",
      "Python is amazing\n"
     ]
    }
   ],
   "source": [
    "print(single_quoted_string)\n",
    "print(double_quoted_string)"
   ]
  },
  {
   "cell_type": "code",
   "execution_count": 20,
   "id": "15451508-5825-4fd9-ad78-10f67a1da2cb",
   "metadata": {},
   "outputs": [],
   "source": [
    "# You can also use triple quotes for multi-line strings\n",
    "multi_line_string = \"\"\"This is a multi-line\n",
    "string in Python.\n",
    "It can span multiple lines.\"\"\""
   ]
  },
  {
   "cell_type": "code",
   "execution_count": 21,
   "id": "4cdcfefa-c443-4ebc-806d-5b6842e938c5",
   "metadata": {},
   "outputs": [
    {
     "name": "stdout",
     "output_type": "stream",
     "text": [
      "This is a multi-line\n",
      "string in Python.\n",
      "It can span multiple lines.\n"
     ]
    }
   ],
   "source": [
    "print(multi_line_string)"
   ]
  },
  {
   "cell_type": "code",
   "execution_count": 22,
   "id": "5ddec5b8-882d-4760-9d33-515eb9cdaae3",
   "metadata": {},
   "outputs": [],
   "source": [
    "# String concatenation\n",
    "first_name = \"John\"\n",
    "last_name = \"Doe\"\n",
    "full_name = first_name + \" \" + last_name"
   ]
  },
  {
   "cell_type": "code",
   "execution_count": 23,
   "id": "6537dd33-d678-4410-b092-95ccc162a42b",
   "metadata": {},
   "outputs": [
    {
     "name": "stdout",
     "output_type": "stream",
     "text": [
      "John Doe\n"
     ]
    }
   ],
   "source": [
    "print(full_name)"
   ]
  },
  {
   "cell_type": "code",
   "execution_count": 24,
   "id": "4cb47bf4-a945-48b9-bbc3-85d66a8b4be0",
   "metadata": {},
   "outputs": [],
   "source": [
    "# Accessing characters in a string\n",
    "greeting = \"Hello\"\n",
    "first_char = greeting[0]   # 'H'\n",
    "second_char = greeting[1]  # 'e'"
   ]
  },
  {
   "cell_type": "code",
   "execution_count": 25,
   "id": "1f63d74e-d860-4ff4-aaa0-f2f01e67784d",
   "metadata": {},
   "outputs": [
    {
     "name": "stdout",
     "output_type": "stream",
     "text": [
      "H\n",
      "e\n"
     ]
    }
   ],
   "source": [
    "print(first_char)\n",
    "print(second_char)"
   ]
  },
  {
   "cell_type": "code",
   "execution_count": 26,
   "id": "86b71a7e-f4cb-4968-8cd4-9e691b8ce073",
   "metadata": {},
   "outputs": [
    {
     "name": "stdout",
     "output_type": "stream",
     "text": [
      "5\n"
     ]
    }
   ],
   "source": [
    "# String length\n",
    "length = len(greeting)\n",
    "\n",
    "print(length)"
   ]
  },
  {
   "cell_type": "code",
   "execution_count": 27,
   "id": "39531d5e-ab2d-4886-8b64-5f6acb06ac58",
   "metadata": {},
   "outputs": [],
   "source": [
    "message = \"This is a message with spaces.   \"\n",
    "trimmed_message = message.strip()  # Removes leading and trailing spaces\n",
    "lowercase_message = message.lower()\n",
    "uppercase_message = message.upper()\n",
    "split_message = message.split()  # Splits the string into a list of words\n"
   ]
  },
  {
   "cell_type": "code",
   "execution_count": 28,
   "id": "28844090-b64c-49a1-b168-2a4d47ee32d0",
   "metadata": {},
   "outputs": [
    {
     "name": "stdout",
     "output_type": "stream",
     "text": [
      "This is a message with spaces.\n",
      "this is a message with spaces.   \n",
      "THIS IS A MESSAGE WITH SPACES.   \n",
      "['This', 'is', 'a', 'message', 'with', 'spaces.']\n"
     ]
    }
   ],
   "source": [
    "print(trimmed_message)\n",
    "print(lowercase_message)\n",
    "print(uppercase_message)\n",
    "print(split_message)"
   ]
  },
  {
   "cell_type": "code",
   "execution_count": 29,
   "id": "08851dca-c1ba-4bbf-b62a-69262d346a2d",
   "metadata": {},
   "outputs": [],
   "source": [
    "# Check if a string starts or ends with a certain substring\n",
    "starts_with = message.startswith(\"This\")  # True\n",
    "ends_with = message.endswith(\"spaces.\")    # False\n"
   ]
  },
  {
   "cell_type": "code",
   "execution_count": 30,
   "id": "6d950cea-7a34-4fba-9977-7061ab21bc49",
   "metadata": {},
   "outputs": [
    {
     "name": "stdout",
     "output_type": "stream",
     "text": [
      "True\n",
      "False\n"
     ]
    }
   ],
   "source": [
    "print(starts_with)\n",
    "print(ends_with)"
   ]
  },
  {
   "cell_type": "code",
   "execution_count": 31,
   "id": "43de4dca-783a-4952-a715-c756a742290e",
   "metadata": {},
   "outputs": [
    {
     "name": "stdout",
     "output_type": "stream",
     "text": [
      "This is a message with characters.   \n"
     ]
    }
   ],
   "source": [
    "# Replace substrings within a string\n",
    "new_message = message.replace(\"spaces\", \"characters\")\n",
    "\n",
    "print(new_message)"
   ]
  },
  {
   "cell_type": "markdown",
   "id": "08799ca5-b753-475f-90cb-ede115ad2646",
   "metadata": {},
   "source": [
    "### Complex Number Data Type\n",
    "\n",
    "In Python, the complex number data type is used to represent numbers with both a real and an imaginary part. Complex numbers are often encountered in mathematics and engineering when dealing with equations and calculations involving the square root of negative numbers. In Python, complex numbers are created by using the syntax real + imaginary*j, where j represents the imaginary unit."
   ]
  },
  {
   "cell_type": "code",
   "execution_count": 32,
   "id": "f79184b2-67bd-4426-bb39-e5791dd832f3",
   "metadata": {},
   "outputs": [],
   "source": [
    "# Creating complex numbers\n",
    "z1 = 3 + 2j\n",
    "z2 = 1 - 4j\n",
    "z3 = complex(0, 1)  # Using the complex() constructor"
   ]
  },
  {
   "cell_type": "code",
   "execution_count": 33,
   "id": "3160e893-3c26-4368-94d1-40d67af621a0",
   "metadata": {},
   "outputs": [],
   "source": [
    "# Basic operations with complex numbers\n",
    "sum_result = z1 + z2\n",
    "product_result = z1 * z2\n",
    "conjugate_z1 = z1.conjugate()"
   ]
  },
  {
   "cell_type": "code",
   "execution_count": 34,
   "id": "45aaf11f-cbdb-4b06-beb5-3634667e9739",
   "metadata": {},
   "outputs": [
    {
     "name": "stdout",
     "output_type": "stream",
     "text": [
      "z1: (3+2j)\n",
      "z2: (1-4j)\n",
      "z3: 1j\n",
      "Sum: (4-2j)\n",
      "Product: (11-10j)\n",
      "Conjugate of z1: (3-2j)\n"
     ]
    }
   ],
   "source": [
    "print(\"z1:\", z1)\n",
    "print(\"z2:\", z2)\n",
    "print(\"z3:\", z3)\n",
    "print(\"Sum:\", sum_result)\n",
    "print(\"Product:\", product_result)\n",
    "print(\"Conjugate of z1:\", conjugate_z1)"
   ]
  },
  {
   "cell_type": "markdown",
   "id": "83dcd8a5-a5d3-4ff7-97c9-4d16fafe8e21",
   "metadata": {},
   "source": [
    "### Boolean Data Type\n",
    "\n",
    "In Python, the boolean data type represents two values: True and False. Booleans are used to represent the truth values of logical expressions and are crucial for control flow in programming. They are often used in conditions and comparisons to make decisions in your code."
   ]
  },
  {
   "cell_type": "code",
   "execution_count": 35,
   "id": "5ed79dff-c08e-4bb1-9fc0-37dc0775f62b",
   "metadata": {},
   "outputs": [],
   "source": [
    "# Boolean variables\n",
    "is_raining = True\n",
    "has_subscription = False"
   ]
  },
  {
   "cell_type": "code",
   "execution_count": 36,
   "id": "fcfd84f1-daca-4515-9c2f-3d4e3bc852fb",
   "metadata": {},
   "outputs": [
    {
     "name": "stdout",
     "output_type": "stream",
     "text": [
      "True\n",
      "False\n"
     ]
    }
   ],
   "source": [
    "print(is_raining)\n",
    "print(has_subscription)"
   ]
  },
  {
   "cell_type": "code",
   "execution_count": 37,
   "id": "5c6dfb31-6ef8-4d05-84db-dfa885c48611",
   "metadata": {},
   "outputs": [
    {
     "name": "stdout",
     "output_type": "stream",
     "text": [
      "False\n",
      "False\n",
      "False\n",
      "False\n",
      "True\n"
     ]
    }
   ],
   "source": [
    "x = 5\n",
    "y = 10\n",
    "\n",
    "is_greater = x > y        # False\n",
    "is_equal = x == y         # False\n",
    "logical_and = is_greater and is_equal  # False\n",
    "logical_or = is_greater or is_equal    # False\n",
    "logical_not = not is_greater           # True\n",
    "\n",
    "print(is_greater)\n",
    "print(is_equal)\n",
    "print(logical_and)\n",
    "print(logical_or)\n",
    "print(logical_not)\n"
   ]
  },
  {
   "cell_type": "code",
   "execution_count": 38,
   "id": "bde6b889-4a37-4fc6-8da3-6b3e9245a8ee",
   "metadata": {},
   "outputs": [
    {
     "name": "stdout",
     "output_type": "stream",
     "text": [
      "Bring an umbrella!\n",
      "Please subscribe to access premium content.\n"
     ]
    }
   ],
   "source": [
    "# Using boolean values in conditions\n",
    "if is_raining:\n",
    "    print(\"Bring an umbrella!\")\n",
    "\n",
    "if not has_subscription:\n",
    "    print(\"Please subscribe to access premium content.\")"
   ]
  },
  {
   "cell_type": "markdown",
   "id": "50a89369-30c9-4df9-8a2e-bdd8d1d8b096",
   "metadata": {},
   "source": [
    "### Type Casting\n",
    "\n",
    "Type casting, also known as type conversion or type coercion, refers to the process of changing the data type of a value from one type to another. In programming, type casting is often necessary when you want to perform operations or use values that require compatible data types. Different programming languages have different ways of handling type casting.\n",
    "\n",
    "In Python, you can perform type casting using various built-in functions to convert values from one data type to another. Here are a few common type casting functions in Python:\n",
    "\n",
    "1. int(): Converts a value to an integer.\n",
    "2. float(): Converts a value to a floating-point number.\n",
    "3. str(): Converts a value to a string.\n",
    "4. bool(): Converts a value to a boolean.\n",
    "5. list(): Converts a value to a list.\n",
    "6. tuple(): Converts a value to a tuple."
   ]
  },
  {
   "cell_type": "code",
   "execution_count": 39,
   "id": "4d2a7f02-3e47-4fe5-8e84-7397e6201bc5",
   "metadata": {},
   "outputs": [
    {
     "name": "stdout",
     "output_type": "stream",
     "text": [
      "float_value:  <class 'float'>\n",
      "integer_number:  <class 'int'>\n",
      "age_string:  <class 'str'>\n",
      "numeric_int:  <class 'int'>\n",
      "pi_float:  <class 'float'>\n",
      "true_as_int:  <class 'int'>\n",
      "false_as_int:  <class 'int'>\n"
     ]
    }
   ],
   "source": [
    "# Integer to Float\n",
    "int_value = 10\n",
    "float_value = float(int_value)  # Converts 10 to 10.0\n",
    "print(\"float_value: \",type(float_value))\n",
    "\n",
    "# Float to Integer\n",
    "float_number = 3.14\n",
    "integer_number = int(float_number)  # Converts 3.14 to 3\n",
    "print(\"integer_number: \",type(integer_number))\n",
    "\n",
    "# Integer to String\n",
    "age = 25\n",
    "age_string = str(age)  # Converts 25 to \"25\"\n",
    "print(\"age_string: \",type(age_string))\n",
    "\n",
    "# String to Integer\n",
    "numeric_string = \"123\"\n",
    "numeric_int = int(numeric_string)  # Converts \"123\" to 123\n",
    "print(\"numeric_int: \",type(numeric_int))\n",
    "\n",
    "# String to Float\n",
    "pi_string = \"3.14159\"\n",
    "pi_float = float(pi_string)  # Converts \"3.14159\" to 3.14159\n",
    "print(\"pi_float: \",type(pi_float))\n",
    "\n",
    "# Boolean to Integer\n",
    "is_true = True\n",
    "is_false = False\n",
    "true_as_int = int(is_true)    # Converts True to 1\n",
    "false_as_int = int(is_false)  # Converts False to 0\n",
    "print(\"true_as_int: \",type(true_as_int))\n",
    "print(\"false_as_int: \",type(false_as_int))"
   ]
  },
  {
   "cell_type": "code",
   "execution_count": 40,
   "id": "7812a7e7-4296-4125-8408-f0a6bcc9569b",
   "metadata": {},
   "outputs": [
    {
     "name": "stdout",
     "output_type": "stream",
     "text": [
      "Hello, Alice!\n",
      "Age: 30, Student: True\n"
     ]
    }
   ],
   "source": [
    "# String concatenation in Python involves combining strings together to form a single string. \n",
    "# You can concatenate strings with variables of different data types, \n",
    "# but you have to convert non-string variables into strings when performing the concatenation\n",
    "\n",
    "name = \"Alice\"\n",
    "age = 30\n",
    "is_student = True\n",
    "\n",
    "# Using string concatenation\n",
    "greeting = \"Hello, \" + name + \"!\"\n",
    "info = \"Age: \" + str(age) + \", Student: \" + str(is_student)\n",
    "\n",
    "print(greeting)  \n",
    "print(info)      \n"
   ]
  },
  {
   "cell_type": "markdown",
   "id": "4cd73a34-de1c-4497-9302-0680e9775b2d",
   "metadata": {},
   "source": [
    "### User Input\n",
    "\n",
    "In Python, you can use the input() function to prompt the user for input from the keyboard. The input() function reads a line of text entered by the user until they press the \"Enter\" key and returns the entered text as a string."
   ]
  },
  {
   "cell_type": "code",
   "execution_count": 41,
   "id": "1b44742b-6484-4e3f-b0b1-ef87aaee113e",
   "metadata": {},
   "outputs": [
    {
     "name": "stdout",
     "output_type": "stream",
     "text": [
      "Hello, Astajyoti Behera!\n",
      "You are 30 years old.\n"
     ]
    }
   ],
   "source": [
    "# Prompt the user for their name\n",
    "name = input(\"Please enter your name: \")\n",
    "\n",
    "# Prompt the user for their age\n",
    "age = input(\"Please enter your age: \")\n",
    "\n",
    "# Display the entered information\n",
    "print(\"Hello, \" + name + \"!\")\n",
    "print(\"You are \" + age + \" years old.\")"
   ]
  },
  {
   "cell_type": "code",
   "execution_count": 42,
   "id": "a945d0f4-c589-4fba-8d78-0b19384e655e",
   "metadata": {},
   "outputs": [
    {
     "name": "stdout",
     "output_type": "stream",
     "text": [
      "Next year, you will be 31 years old.\n"
     ]
    }
   ],
   "source": [
    "# Prompt the user for their age as an integer\n",
    "age = int(input(\"Please enter your age: \"))\n",
    "\n",
    "# Perform some calculations with the entered age\n",
    "next_year_age = age + 1\n",
    "print(\"Next year, you will be \" + str(next_year_age) + \" years old.\")"
   ]
  },
  {
   "cell_type": "markdown",
   "id": "667dfafb-8491-40c9-aef3-e0e3a3e2bc97",
   "metadata": {},
   "source": [
    "### Indexing in Python\n",
    "\n",
    "Indexing in Python refers to accessing individual elements within a sequence, such as strings, lists, tuples, or other iterable data types. Each element within a sequence has a unique index, starting from 0 for the first element and increasing by 1 for each subsequent element.\n",
    "\n",
    "Forward Indexing:\n",
    "- Forward indexing refers to accessing elements from the beginning of a sequence using positive indices.\n",
    "- The index of the first element is 0, the second element is 1, and so on.\n",
    "- For example, in the string `\"Python\"`, `'P'` is at index 0, `'y'` is at index 1, and so on.\n",
    "\n",
    "Backward Indexing:\n",
    "- Backward indexing, also known as negative indexing, allows you to access elements from the end of a sequence using negative indices.\n",
    "- The index of the last element is -1, the second-to-last element is -2, and so on.\n",
    "- Negative indices count backwards from the end of the sequence.\n",
    "- For example, in the string `\"Python\"`, `'n'` is at index -1, `'o'` is at index -2, and so on.\n",
    "\n",
    "Here's a visual representation of the indexing concept for the string `\"Python\"`:\n",
    "\n",
    "```\n",
    "+---+---+---+---+---+---+\n",
    "| P | y | t | h | o | n |\n",
    "+---+---+---+---+---+---+\n",
    "  0   1   2   3   4   5\n",
    " -6  -5  -4  -3  -2  -1\n"
   ]
  },
  {
   "cell_type": "code",
   "execution_count": 43,
   "id": "882ec888-f946-4c2c-afcf-d8693b22584c",
   "metadata": {},
   "outputs": [
    {
     "name": "stdout",
     "output_type": "stream",
     "text": [
      "P\n",
      "n\n",
      "30\n",
      "30\n"
     ]
    }
   ],
   "source": [
    "text = \"Python\"\n",
    "print(text[0])    \n",
    "print(text[-1])   \n",
    "\n",
    "numbers = [10, 20, 30, 40, 50]\n",
    "print(numbers[2])   \n",
    "print(numbers[-3])  \n"
   ]
  },
  {
   "cell_type": "code",
   "execution_count": 44,
   "id": "cdc97122-1c11-4d08-82c6-9f4ad6aefb29",
   "metadata": {},
   "outputs": [
    {
     "name": "stdout",
     "output_type": "stream",
     "text": [
      "Start Slice: rogramming\n",
      "End Slice: Python\n"
     ]
    }
   ],
   "source": [
    "# Only one index (either the start index or the end index) for slicing\n",
    "\n",
    "text = \"PythonProgramming\"\n",
    "\n",
    "# Slicing with only start index\n",
    "start_slice = text[7:]  # Extracts characters from index 7 to the end\n",
    "print(\"Start Slice:\", start_slice)  \n",
    "\n",
    "# Slicing with only end index\n",
    "end_slice = text[:6]  # Extracts characters from the beginning up to index 5 (exclusive)\n",
    "print(\"End Slice:\", end_slice)  \n"
   ]
  },
  {
   "cell_type": "code",
   "execution_count": 45,
   "id": "10d9ce58-60e2-436a-8550-53038b315488",
   "metadata": {},
   "outputs": [
    {
     "name": "stdout",
     "output_type": "stream",
     "text": [
      "Forward Slice: Python\n",
      "Backward Slice: Programm\n",
      "Mixed Slice: thonProgramm\n"
     ]
    }
   ],
   "source": [
    "# Extract multiple elements from a string variable using slicing\n",
    "\n",
    "text = \"PythonProgramming\"\n",
    "\n",
    "# Forward slicing\n",
    "forward_slice = text[0:6]  # Extracts characters at index 0 to 5 (exclusive)\n",
    "print(\"Forward Slice:\", forward_slice)  \n",
    "\n",
    "# Backward slicing\n",
    "backward_slice = text[-11:-3]  # Extracts characters at index -11 to -4 (exclusive)\n",
    "print(\"Backward Slice:\", backward_slice)  \n",
    "\n",
    "# Mixed indexing and slicing\n",
    "mixed_slice = text[2:-3]  # Extracts characters at index 2 to -4 (exclusive)\n",
    "print(\"Mixed Slice:\", mixed_slice)  \n"
   ]
  },
  {
   "cell_type": "code",
   "execution_count": 48,
   "id": "17f278b8-5b2f-46bf-b951-76a5eb4d30cd",
   "metadata": {},
   "outputs": [
    {
     "name": "stdout",
     "output_type": "stream",
     "text": [
      "Every Second: PtoPormig\n",
      "Every Third: tnoai\n",
      "Every Fifth from End: gaPy\n",
      "Reversed Text: gnimmargorPnohtyP\n",
      "Nagative Text: gimr\n"
     ]
    }
   ],
   "source": [
    "# Indexing with a step value (also known as a stride) \n",
    "\n",
    "# sequence[start:end:step]\n",
    "\n",
    "text = \"PythonProgramming\"\n",
    "\n",
    "# Extract every second character starting from index 0\n",
    "every_second = text[::2]\n",
    "print(\"Every Second:\", every_second)  \n",
    "\n",
    "# Extract every third character starting from index 2\n",
    "every_third = text[2::3]\n",
    "print(\"Every Third:\", every_third)    \n",
    "\n",
    "# Extract every fifth character starting from the end\n",
    "every_fifth_from_end = text[::-5]\n",
    "print(\"Every Fifth from End:\", every_fifth_from_end)  \n",
    "\n",
    "# Extract a reversed version of the string\n",
    "reversed_text = text[::-1]\n",
    "print(\"Reversed Text:\", reversed_text)  \n",
    "\n",
    "# Extract a reversed version of the string\n",
    "negative_text = text[-1:-9:-2]\n",
    "print(\"Nagative Text:\", negative_text)  \n"
   ]
  }
 ],
 "metadata": {
  "kernelspec": {
   "display_name": "Python 3 (ipykernel)",
   "language": "python",
   "name": "python3"
  },
  "language_info": {
   "codemirror_mode": {
    "name": "ipython",
    "version": 3
   },
   "file_extension": ".py",
   "mimetype": "text/x-python",
   "name": "python",
   "nbconvert_exporter": "python",
   "pygments_lexer": "ipython3",
   "version": "3.11.4"
  }
 },
 "nbformat": 4,
 "nbformat_minor": 5
}
