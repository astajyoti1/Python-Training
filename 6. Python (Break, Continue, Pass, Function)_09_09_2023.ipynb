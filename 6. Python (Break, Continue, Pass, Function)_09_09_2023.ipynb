{
 "cells": [
  {
   "cell_type": "markdown",
   "metadata": {},
   "source": [
    "## Control Flow - Break, Continue and Pass"
   ]
  },
  {
   "cell_type": "markdown",
   "metadata": {},
   "source": [
    "### Break Statement"
   ]
  },
  {
   "cell_type": "markdown",
   "metadata": {},
   "source": [
    "The `break` statement is commonly used in both `while` and `for` loops to exit the loop prematurely when a certain condition is met. However, it's not typically used directly within an `if...else` block. Instead, you use `break` within the loop, and you can include `if...else` statements inside the loop to conditionally decide whether to break or continue the loop. Here are examples of how to use the `break` statement in `if...else`, `while`, and `for` loops in Python:"
   ]
  },
  {
   "cell_type": "code",
   "execution_count": 3,
   "metadata": {},
   "outputs": [
    {
     "name": "stdout",
     "output_type": "stream",
     "text": [
      "i is 0, continuing...\n",
      "i is 1, continuing...\n",
      "i is 2, continuing...\n",
      "Condition met. Breaking the loop.\n"
     ]
    }
   ],
   "source": [
    "# Using break in a while loop with if...else:\n",
    "\n",
    "i = 0\n",
    "while i < 5:\n",
    "    if i == 3:\n",
    "        print(\"Condition met. Breaking the loop.\")\n",
    "        break\n",
    "    else:\n",
    "        print(f\"i is {i}, continuing...\")\n",
    "    i += 1\n",
    "else:\n",
    "    print(\"Loop finished\")\n"
   ]
  },
  {
   "cell_type": "code",
   "execution_count": 4,
   "metadata": {},
   "outputs": [
    {
     "name": "stdout",
     "output_type": "stream",
     "text": [
      "i is 0, continuing...\n",
      "i is 1, continuing...\n",
      "i is 2, continuing...\n",
      "Condition met. Breaking the loop.\n"
     ]
    }
   ],
   "source": [
    "# Using break in a for loop with if...else:\n",
    "\n",
    "for i in range(5):\n",
    "    if i == 3:\n",
    "        print(\"Condition met. Breaking the loop.\")\n",
    "        break\n",
    "    else:\n",
    "        print(f\"i is {i}, continuing...\")\n",
    "else:\n",
    "    print(\"Loop finished\")\n"
   ]
  },
  {
   "cell_type": "markdown",
   "metadata": {},
   "source": [
    "### Continue Statement"
   ]
  },
  {
   "cell_type": "markdown",
   "metadata": {},
   "source": [
    "In Python, the `continue` statement is used to skip the current iteration of a loop and move on to the next iteration. You can use it in `if...else` statements, `while` loops, and `for` loops to control the flow of your program. Here are examples of how to use `continue` in each of these contexts:"
   ]
  },
  {
   "cell_type": "code",
   "execution_count": 5,
   "metadata": {},
   "outputs": [
    {
     "name": "stdout",
     "output_type": "stream",
     "text": [
      "2 is even.\n",
      "This line is executed for even numbers.\n",
      "4 is even.\n",
      "This line is executed for even numbers.\n"
     ]
    }
   ],
   "source": [
    "# Using continue in an if...else statement:\n",
    "\n",
    "for i in range(1, 6):\n",
    "    if i % 2 == 0:\n",
    "        print(f\"{i} is even.\")\n",
    "    else:\n",
    "        continue  # Skip odd numbers\n",
    "    print(\"This line is executed for even numbers.\")\n"
   ]
  },
  {
   "cell_type": "code",
   "execution_count": 6,
   "metadata": {},
   "outputs": [
    {
     "name": "stdout",
     "output_type": "stream",
     "text": [
      "Count is 1\n",
      "Count is 2\n",
      "Count is 4\n",
      "Count is 5\n"
     ]
    }
   ],
   "source": [
    "# Using continue in a while loop:\n",
    "\n",
    "count = 1\n",
    "while count <= 5:\n",
    "    if count == 3:\n",
    "        count += 1\n",
    "        continue  # Skip count 3\n",
    "    print(f\"Count is {count}\")\n",
    "    count += 1\n"
   ]
  },
  {
   "cell_type": "code",
   "execution_count": 7,
   "metadata": {},
   "outputs": [
    {
     "name": "stdout",
     "output_type": "stream",
     "text": [
      "Number is 1\n",
      "Number is 2\n",
      "Number is 4\n",
      "Number is 5\n"
     ]
    }
   ],
   "source": [
    "# Using continue in a for loop:\n",
    "\n",
    "numbers = [1, 2, 3, 4, 5]\n",
    "for num in numbers:\n",
    "    if num == 3:\n",
    "        continue  # Skip number 3\n",
    "    print(f\"Number is {num}\")\n"
   ]
  },
  {
   "cell_type": "markdown",
   "metadata": {},
   "source": [
    "### Pass Statement"
   ]
  },
  {
   "cell_type": "markdown",
   "metadata": {},
   "source": [
    "In Python, the `pass` statement is a placeholder that does nothing. It is often used when you need a syntactically correct block of code but don't want to execute any specific statements. You can use the `pass` statement in `if...else` statements, `while` loops, and `for` loops when you need an empty block of code. Here's how it can be used in each of these control flow structures:"
   ]
  },
  {
   "cell_type": "code",
   "execution_count": 11,
   "metadata": {},
   "outputs": [
    {
     "name": "stdout",
     "output_type": "stream",
     "text": [
      "Program continues\n"
     ]
    }
   ],
   "source": [
    "# Using pass in an if...else statement:\n",
    "\n",
    "x = 10\n",
    "\n",
    "if x < 5:\n",
    "    print(\"x is less than 5\")\n",
    "else:\n",
    "    pass  # This block does nothing\n",
    "\n",
    "print(\"Program continues\")\n",
    "\n"
   ]
  },
  {
   "cell_type": "code",
   "execution_count": 12,
   "metadata": {},
   "outputs": [
    {
     "name": "stdout",
     "output_type": "stream",
     "text": [
      "Processing 0\n",
      "Processing 1\n",
      "Processing 3\n",
      "Processing 4\n"
     ]
    }
   ],
   "source": [
    "# Using pass in a while loop:\n",
    "\n",
    "i = 0\n",
    "while i < 5:\n",
    "    if i == 2:\n",
    "        pass  # This iteration does nothing\n",
    "    else:\n",
    "        print(f\"Processing {i}\")\n",
    "    i += 1\n",
    "\n"
   ]
  },
  {
   "cell_type": "code",
   "execution_count": 13,
   "metadata": {},
   "outputs": [
    {
     "name": "stdout",
     "output_type": "stream",
     "text": [
      "Processing 1\n",
      "Processing 3\n",
      "Processing 5\n"
     ]
    }
   ],
   "source": [
    "# Using pass in a for loop:\n",
    "\n",
    "for i in range(1, 6):\n",
    "    if i % 2 == 0:\n",
    "        pass  # This iteration does nothing for even numbers\n",
    "    else:\n",
    "        print(f\"Processing {i}\")\n",
    "\n"
   ]
  },
  {
   "cell_type": "markdown",
   "metadata": {},
   "source": [
    "# Function"
   ]
  },
  {
   "cell_type": "markdown",
   "metadata": {},
   "source": [
    "In Python, a function is a block of reusable code that performs a specific task or set of tasks. Functions are a fundamental concept in programming and offer several advantages, including code reusability, modularity, and better organization of your code. "
   ]
  },
  {
   "cell_type": "markdown",
   "metadata": {},
   "source": [
    "1. Function Definition:\n",
    "\n",
    "You define a function using the def keyword, followed by the function name and a pair of parentheses. Any input values or parameters the function takes are listed within the parentheses. The function body is indented below the def statement."
   ]
  },
  {
   "cell_type": "code",
   "execution_count": 14,
   "metadata": {},
   "outputs": [],
   "source": [
    "def greet(name):\n",
    "    \"\"\"This function greets the person passed in as a parameter.\"\"\"\n",
    "    print(f\"Hello, {name}!\")\n",
    "\n",
    "def add(a, b):\n",
    "    \"\"\"This function adds two numbers and returns the result.\"\"\"\n",
    "    result = a + b\n",
    "    return result\n"
   ]
  },
  {
   "cell_type": "markdown",
   "metadata": {},
   "source": [
    "2. Function Calling:\n",
    "\n",
    "To use a function, you call it by its name and pass the required arguments (if any) inside the parentheses. If the function returns a value, you can store or use that value."
   ]
  },
  {
   "cell_type": "code",
   "execution_count": 15,
   "metadata": {},
   "outputs": [
    {
     "name": "stdout",
     "output_type": "stream",
     "text": [
      "Hello, Alice!\n"
     ]
    }
   ],
   "source": [
    "greet(\"Alice\")  # Calls the greet function with \"Alice\" as the argument"
   ]
  },
  {
   "cell_type": "code",
   "execution_count": 17,
   "metadata": {},
   "outputs": [
    {
     "name": "stdout",
     "output_type": "stream",
     "text": [
      "7\n"
     ]
    }
   ],
   "source": [
    "result = add(3, 4)  # Calls the add function with 3 and 4 as arguments and stores the result\n",
    "print(result)"
   ]
  },
  {
   "cell_type": "markdown",
   "metadata": {},
   "source": [
    "#### Difference between Return and Print in a Function"
   ]
  },
  {
   "cell_type": "markdown",
   "metadata": {},
   "source": [
    "In Python, `return` and `print` are two different ways to output information from a function, and they serve distinct purposes:\n",
    "\n",
    "1. **`return` Statement:**\n",
    "   \n",
    "   - The `return` statement is used to exit a function and return a value (or multiple values) to the caller.\n",
    "   - It allows you to pass data back to the part of the program that called the function.\n",
    "   - The value returned by `return` can be stored in a variable or used in expressions for further computation.\n",
    "   - A function can have multiple `return` statements, but only one of them will be executed, terminating the function.\n",
    "\n",
    " \n",
    "2. **`print` Function:**\n",
    "\n",
    "   - The `print()` function is used to display output on the screen or in the console.\n",
    "   - It does not return any value that can be used in further computations; it is primarily for human-readable output.\n",
    "   - `print` is often used for debugging, displaying intermediate results, or providing information to the user.\n",
    "\n",
    " "
   ]
  },
  {
   "cell_type": "code",
   "execution_count": 27,
   "metadata": {},
   "outputs": [],
   "source": [
    "def add(a, b):\n",
    "    \"\"\"This function returns the sum of two numbers.\"\"\"\n",
    "    result = a + b\n",
    "    return result\n",
    "\n",
    "sum_result = add(3, 4)  # The value 7 is returned and stored in sum_result\n"
   ]
  },
  {
   "cell_type": "code",
   "execution_count": 28,
   "metadata": {},
   "outputs": [
    {
     "name": "stdout",
     "output_type": "stream",
     "text": [
      "Hello, Alice!\n"
     ]
    }
   ],
   "source": [
    "def greet(name):\n",
    "    \"\"\"This function greets the person with the provided name.\"\"\"\n",
    "    print(f\"Hello, {name}!\")\n",
    "\n",
    "greet(\"Alice\")  # Outputs \"Hello, Alice!\" to the console, but doesn't return a value\n"
   ]
  },
  {
   "cell_type": "markdown",
   "metadata": {},
   "source": [
    "3. Function Documentation (Docstring):\n",
    "\n",
    "It's a good practice to include a docstring (a string enclosed in triple quotes) immediately after the def statement to describe what the function does. This helps document your code and makes it easier for others (and yourself) to understand the purpose of the function."
   ]
  },
  {
   "cell_type": "code",
   "execution_count": 22,
   "metadata": {},
   "outputs": [],
   "source": [
    "def greet(name=\"Guest\"):\n",
    "    \"\"\"This function greets the person with the provided name (or \"Guest\" if no name is provided).\"\"\"\n",
    "    print(f\"Hello, {name}!\")\n"
   ]
  },
  {
   "cell_type": "code",
   "execution_count": 23,
   "metadata": {},
   "outputs": [
    {
     "name": "stdout",
     "output_type": "stream",
     "text": [
      "Help on function greet in module __main__:\n",
      "\n",
      "greet(name='Guest')\n",
      "    This function greets the person with the provided name (or \"Guest\" if no name is provided).\n",
      "\n"
     ]
    }
   ],
   "source": [
    "help(greet)"
   ]
  },
  {
   "cell_type": "markdown",
   "metadata": {},
   "source": [
    "4. Return Statement:\n",
    "\n",
    "Functions can return values using the return statement. You can return one or multiple values. If no return statement is specified, the function returns None by default."
   ]
  },
  {
   "cell_type": "code",
   "execution_count": 18,
   "metadata": {},
   "outputs": [],
   "source": [
    "def add(a, b):\n",
    "    \"\"\"This function adds two numbers and returns the result.\"\"\"\n",
    "    result = a + b\n",
    "    return result\n",
    "\n",
    "sum = add(3, 4)\n"
   ]
  },
  {
   "cell_type": "markdown",
   "metadata": {},
   "source": [
    "5. Function Parameters:\n",
    "\n",
    "Functions can accept parameters, which are values passed to the function when it's called. These parameters can be used within the function to perform operations."
   ]
  },
  {
   "cell_type": "code",
   "execution_count": 19,
   "metadata": {},
   "outputs": [],
   "source": [
    "def multiply(x, y):\n",
    "    \"\"\"This function multiplies two numbers and returns the result.\"\"\"\n",
    "    result = x * y\n",
    "    return result\n",
    "\n",
    "product = multiply(5, 6)  # Calls multiply with 5 and 6 as arguments\n"
   ]
  },
  {
   "cell_type": "markdown",
   "metadata": {},
   "source": [
    "6. Default Parameters:\n",
    "\n",
    "You can provide default values for function parameters. These default values are used if no argument is provided when calling the function."
   ]
  },
  {
   "cell_type": "code",
   "execution_count": 20,
   "metadata": {},
   "outputs": [
    {
     "name": "stdout",
     "output_type": "stream",
     "text": [
      "Hello, Guest!\n",
      "Hello, Alice!\n"
     ]
    }
   ],
   "source": [
    "def greet(name=\"Guest\"):\n",
    "    \"\"\"This function greets the person with the provided name (or \"Guest\" if no name is provided).\"\"\"\n",
    "    print(f\"Hello, {name}!\")\n",
    "\n",
    "greet()  # Outputs \"Hello, Guest!\"\n",
    "greet(\"Alice\")  # Outputs \"Hello, Alice!\"\n"
   ]
  },
  {
   "cell_type": "code",
   "execution_count": 26,
   "metadata": {},
   "outputs": [
    {
     "name": "stdout",
     "output_type": "stream",
     "text": [
      "The absolute value of -5 is 5\n"
     ]
    }
   ],
   "source": [
    "# create a simple Python function that returns the absolute value of a number using the built-in abs() function. \n",
    "\n",
    "def absolute_value(number):\n",
    "    \"\"\"This function returns the absolute value of a given number.\"\"\"\n",
    "    return abs(number)\n",
    "\n",
    "# Example usage:\n",
    "num = -5\n",
    "result = absolute_value(num)\n",
    "print(f\"The absolute value of {num} is {result}\")\n"
   ]
  },
  {
   "cell_type": "code",
   "execution_count": 29,
   "metadata": {},
   "outputs": [
    {
     "name": "stdout",
     "output_type": "stream",
     "text": [
      "The area of the circle with radius 5 is 78.54\n"
     ]
    }
   ],
   "source": [
    "# Calculate the area of a circle given its radius.\n",
    "\n",
    "import math\n",
    "\n",
    "def calculate_circle_area(radius):\n",
    "    \"\"\"Calculate the area of a circle given its radius.\"\"\"\n",
    "    if radius < 0:\n",
    "        return \"Radius cannot be negative.\"\n",
    "    \n",
    "    area = math.pi * radius**2\n",
    "    return area\n",
    "\n",
    "# Example usage:\n",
    "radius = 5\n",
    "area = calculate_circle_area(radius)\n",
    "print(f\"The area of the circle with radius {radius} is {area:.2f}\")\n"
   ]
  },
  {
   "cell_type": "code",
   "execution_count": 30,
   "metadata": {},
   "outputs": [
    {
     "name": "stdout",
     "output_type": "stream",
     "text": [
      "The area of the rectangle with length 5 and width 3 is 15\n"
     ]
    }
   ],
   "source": [
    "# calculates the area of a rectangle.\n",
    "\n",
    "def calculate_rectangle_area(length, width):\n",
    "    \"\"\"This function calculates the area of a rectangle.\"\"\"\n",
    "    area = length * width\n",
    "    return area\n",
    "\n",
    "# Example usage:\n",
    "length = 5\n",
    "width = 3\n",
    "area = calculate_rectangle_area(length, width)\n",
    "print(f\"The area of the rectangle with length {length} and width {width} is {area}\")\n"
   ]
  },
  {
   "cell_type": "code",
   "execution_count": 31,
   "metadata": {},
   "outputs": [
    {
     "name": "stdout",
     "output_type": "stream",
     "text": [
      "The area of the triangle with sides 5.0, 6.0, and 7.0 is 14.696938456699069\n"
     ]
    }
   ],
   "source": [
    "# Calculate the area of a triangle\n",
    "\n",
    "import math\n",
    "\n",
    "def triangle_area(a, b, c):\n",
    "    \"\"\"Calculate the area of a triangle using Heron's formula.\"\"\"\n",
    "    # Calculate the semi-perimeter\n",
    "    s = (a + b + c) / 2\n",
    "\n",
    "    # Calculate the area using Heron's formula\n",
    "    area = math.sqrt(s * (s - a) * (s - b) * (s - c))\n",
    "    \n",
    "    return area\n",
    "\n",
    "# Example usage:\n",
    "side1 = 5.0\n",
    "side2 = 6.0\n",
    "side3 = 7.0\n",
    "\n",
    "area = triangle_area(side1, side2, side3)\n",
    "print(f\"The area of the triangle with sides {side1}, {side2}, and {side3} is {area}\")\n"
   ]
  },
  {
   "cell_type": "code",
   "execution_count": 35,
   "metadata": {},
   "outputs": [
    {
     "name": "stdout",
     "output_type": "stream",
     "text": [
      "Even numbers between 10 and 20:\n",
      "10\n",
      "12\n",
      "14\n",
      "16\n",
      "18\n",
      "20\n"
     ]
    }
   ],
   "source": [
    "# Prompt the user for a range limit and print all even numbers up to that limit\n",
    "\n",
    "def print_even_numbers():\n",
    "    \"\"\"Print all even numbers in a user-defined range.\"\"\"\n",
    "    try:\n",
    "        start = int(input(\"Enter the starting number: \"))\n",
    "        end = int(input(\"Enter the ending number: \"))\n",
    "        \n",
    "        if start > end:\n",
    "            print(\"Invalid range: Starting number is greater than the ending number.\")\n",
    "            return\n",
    "\n",
    "        print(f\"Even numbers between {start} and {end}:\")\n",
    "        for num in range(start, end + 1):\n",
    "            if num % 2 == 0:\n",
    "                print(num)\n",
    "    except ValueError:\n",
    "        print(\"Invalid input. Please enter valid integers for the range.\")\n",
    "\n",
    "if __name__ == \"__main__\":\n",
    "    print_even_numbers()\n",
    "\n"
   ]
  }
 ],
 "metadata": {
  "kernelspec": {
   "display_name": "Python 3",
   "language": "python",
   "name": "python3"
  },
  "language_info": {
   "codemirror_mode": {
    "name": "ipython",
    "version": 3
   },
   "file_extension": ".py",
   "mimetype": "text/x-python",
   "name": "python",
   "nbconvert_exporter": "python",
   "pygments_lexer": "ipython3",
   "version": "3.11.5"
  },
  "orig_nbformat": 4
 },
 "nbformat": 4,
 "nbformat_minor": 2
}
