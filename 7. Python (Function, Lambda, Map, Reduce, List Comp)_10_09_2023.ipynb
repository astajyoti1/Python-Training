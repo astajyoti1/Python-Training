{
 "cells": [
  {
   "cell_type": "markdown",
   "metadata": {},
   "source": [
    "## Function"
   ]
  },
  {
   "cell_type": "markdown",
   "metadata": {},
   "source": [
    "1. **Global Scope:**\n",
    "   - Variables defined outside of any function have global scope.\n",
    "   - Global variables can be accessed from anywhere in your code, including both inside and outside functions.\n",
    "   - They persist throughout the program's lifetime."
   ]
  },
  {
   "cell_type": "code",
   "execution_count": 1,
   "metadata": {},
   "outputs": [
    {
     "name": "stdout",
     "output_type": "stream",
     "text": [
      "10\n",
      "10\n"
     ]
    }
   ],
   "source": [
    "global_var = 10\n",
    "\n",
    "def some_function():\n",
    "    print(global_var)  # Accessing global_var from within the function\n",
    "\n",
    "some_function()\n",
    "print(global_var)  # Accessing global_var outside the function\n"
   ]
  },
  {
   "cell_type": "markdown",
   "metadata": {},
   "source": [
    "2. **Local Scope:**\n",
    "   - Variables defined inside a function have local scope.\n",
    "   - Local variables can only be accessed within the function in which they are defined.\n",
    "   - They are created when the function is called and destroyed when the function exits.\n",
    "\n",
    " "
   ]
  },
  {
   "cell_type": "code",
   "execution_count": 2,
   "metadata": {},
   "outputs": [
    {
     "name": "stdout",
     "output_type": "stream",
     "text": [
      "20\n"
     ]
    }
   ],
   "source": [
    "def some_function():\n",
    "    local_var = 20\n",
    "    print(local_var)\n",
    "\n",
    "some_function()\n",
    "# Attempting to access local_var outside the function will result in an error\n"
   ]
  },
  {
   "cell_type": "markdown",
   "metadata": {},
   "source": [
    "3. **Accessing Global Variables Within a Function:**\n",
    "   - To access a global variable within a function, you can use the `global` keyword to indicate that you intend to use the global variable and not create a new local variable with the same name."
   ]
  },
  {
   "cell_type": "code",
   "execution_count": 3,
   "metadata": {},
   "outputs": [
    {
     "name": "stdout",
     "output_type": "stream",
     "text": [
      "10\n"
     ]
    }
   ],
   "source": [
    "global_var = 10\n",
    "\n",
    "def some_function():\n",
    "    global global_var  # Using the global keyword to access the global variable\n",
    "    print(global_var)\n",
    "\n",
    "some_function()\n"
   ]
  },
  {
   "cell_type": "markdown",
   "metadata": {},
   "source": [
    "4. **Nested Scopes:**\n",
    "   - Python allows for nested scopes, where a function can have access to variables in its local scope as well as in the outer (enclosing) function's scope or global scope."
   ]
  },
  {
   "cell_type": "code",
   "execution_count": 4,
   "metadata": {},
   "outputs": [
    {
     "name": "stdout",
     "output_type": "stream",
     "text": [
      "20\n",
      "10\n"
     ]
    }
   ],
   "source": [
    "global_var = 10\n",
    "\n",
    "def outer_function():\n",
    "    outer_var = 20\n",
    "\n",
    "    def inner_function():\n",
    "        print(outer_var)  # Accessing outer_var from the inner function\n",
    "        print(global_var)  # Accessing global_var from the inner function\n",
    "\n",
    "    inner_function()\n",
    "\n",
    "outer_function()\n"
   ]
  },
  {
   "cell_type": "markdown",
   "metadata": {},
   "source": [
    "### Python Functional Arguments"
   ]
  },
  {
   "cell_type": "markdown",
   "metadata": {},
   "source": [
    "1. **Positional Arguments:**\n",
    "   - These are the most common type of arguments.\n",
    "   - They are matched to parameters based on their position in the function call.\n",
    "   - The order and number of arguments must match the order and number of parameters defined in the function.\n",
    "\n",
    " "
   ]
  },
  {
   "cell_type": "code",
   "execution_count": 6,
   "metadata": {},
   "outputs": [],
   "source": [
    "def add(a, b):\n",
    "    return a + b\n",
    "\n",
    "result = add(3, 4)  # Here, 3 is assigned to 'a' and 4 is assigned to 'b'\n"
   ]
  },
  {
   "cell_type": "markdown",
   "metadata": {},
   "source": [
    "2. **Keyword Arguments:**\n",
    "   - These are specified by name, along with their values.\n",
    "   - They allow you to pass arguments in any order, as long as you specify the parameter names.\n",
    "   \n",
    " "
   ]
  },
  {
   "cell_type": "code",
   "execution_count": 7,
   "metadata": {},
   "outputs": [],
   "source": [
    "def greet(name, message):\n",
    "    return f\"Hello, {name}! {message}\"\n",
    "\n",
    "result = greet(message=\"How are you?\", name=\"Alice\")\n"
   ]
  },
  {
   "cell_type": "markdown",
   "metadata": {},
   "source": [
    "3. **Default Arguments:**\n",
    "   - You can assign default values to parameters when defining a function.\n",
    "   - If an argument is not provided when calling the function, it uses the default value."
   ]
  },
  {
   "cell_type": "code",
   "execution_count": 8,
   "metadata": {},
   "outputs": [],
   "source": [
    "def greet(name, message=\"Hello\"):\n",
    "    return f\"{message}, {name}!\"\n",
    "\n",
    "result1 = greet(\"Alice\")  # Uses the default message \"Hello\"\n",
    "result2 = greet(\"Bob\", \"Hi\")  # Overrides the default message with \"Hi\"\n"
   ]
  },
  {
   "cell_type": "markdown",
   "metadata": {},
   "source": [
    "4. **Variable-Length Argument Lists:**\n",
    "   - Python allows you to define functions that accept a variable number of arguments.\n",
    "   - You can use `*args` to pass a variable-length list of non-keyword arguments and `**kwargs` to pass a variable-length list of keyword arguments."
   ]
  },
  {
   "cell_type": "markdown",
   "metadata": {},
   "source": [
    "4.1. Arbitrary Positional Arguments (*args):\n",
    "\n",
    "When you use *args as a parameter in a function definition, it allows you to pass a variable-length list of positional arguments to the function. These arguments are collected into a tuple within the function, and you can access them using the args variable name (or any other name you choose)."
   ]
  },
  {
   "cell_type": "code",
   "execution_count": 13,
   "metadata": {},
   "outputs": [
    {
     "name": "stdout",
     "output_type": "stream",
     "text": [
      "1\n",
      "2\n",
      "3\n",
      "hello\n",
      "[4, 5]\n"
     ]
    }
   ],
   "source": [
    "def print_arguments(*args):\n",
    "    for arg in args:\n",
    "        print(arg)\n",
    "\n",
    "print_arguments(1, 2, 3, \"hello\", [4, 5])\n"
   ]
  },
  {
   "cell_type": "markdown",
   "metadata": {},
   "source": [
    "4.2 Arbitrary Keyword Arguments (**kwargs):\n",
    "\n",
    "When you use **kwargs as a parameter in a function definition, it allows you to pass a variable-length list of keyword arguments (key-value pairs) to the function. These arguments are collected into a dictionary within the function, and you can access them using the kwargs variable name (or any other name you choose)."
   ]
  },
  {
   "cell_type": "code",
   "execution_count": 12,
   "metadata": {},
   "outputs": [
    {
     "name": "stdout",
     "output_type": "stream",
     "text": [
      "name: Alice\n",
      "age: 30\n",
      "city: Wonderland\n"
     ]
    }
   ],
   "source": [
    "def print_keyword_arguments(**kwargs):\n",
    "    for key, value in kwargs.items():\n",
    "        print(f\"{key}: {value}\")\n",
    "\n",
    "print_keyword_arguments(name=\"Alice\", age=30, city=\"Wonderland\")\n"
   ]
  },
  {
   "cell_type": "markdown",
   "metadata": {},
   "source": [
    "5. **Arbitrary Argument Ordering:**\n",
    "   - You can use a combination of positional, keyword, default, and variable-length arguments in a function."
   ]
  },
  {
   "cell_type": "code",
   "execution_count": 11,
   "metadata": {},
   "outputs": [],
   "source": [
    "def complex_function(a, b, *args, c=0, **kwargs):\n",
    "    # 'a' and 'b' are positional arguments\n",
    "    # '*args' is a variable-length list of positional arguments\n",
    "    # 'c' is a default argument\n",
    "    # '**kwargs' is a variable-length list of keyword arguments\n",
    "    pass\n"
   ]
  },
  {
   "cell_type": "markdown",
   "metadata": {},
   "source": [
    "## Lambda Function"
   ]
  },
  {
   "cell_type": "markdown",
   "metadata": {},
   "source": [
    "In Python, a lambda function, also known as an anonymous function or a lambda expression, is a small, unnamed function that can have any number of arguments but can only have one expression. Lambda functions are defined using the `lambda` keyword, followed by the arguments and the expression you want to evaluate.\n",
    "\n",
    "The general syntax of a lambda function is as follows:\n",
    "\n",
    "```python\n",
    "lambda arguments: expression\n",
    "```"
   ]
  },
  {
   "cell_type": "code",
   "execution_count": 14,
   "metadata": {},
   "outputs": [
    {
     "name": "stdout",
     "output_type": "stream",
     "text": [
      "7\n"
     ]
    }
   ],
   "source": [
    "add = lambda x, y: x + y\n",
    "\n",
    "result = add(3, 4)\n",
    "print(result)  # Output: 7\n"
   ]
  },
  {
   "cell_type": "markdown",
   "metadata": {},
   "source": [
    "### Using lambda with map()"
   ]
  },
  {
   "cell_type": "markdown",
   "metadata": {},
   "source": [
    "In Python, the `map()` function is used to apply a given function to each item in an iterable (e.g., a list, tuple, or string) and returns a map object. You can convert the map object into other iterable types, like a list, using `list()`. When working with `map()`, you can also use lambda functions to define the transformation that should be applied to each item in the iterable.\n",
    "\n",
    "Here's the general syntax of the `map()` function:\n",
    "\n",
    "```python\n",
    "map(function, iterable)\n",
    "```\n",
    "\n",
    "- `function`: The function that you want to apply to each item in the iterable.\n",
    "- `iterable`: The iterable (e.g., a list, tuple, or string) containing the items to be processed."
   ]
  },
  {
   "cell_type": "code",
   "execution_count": 15,
   "metadata": {},
   "outputs": [
    {
     "name": "stdout",
     "output_type": "stream",
     "text": [
      "[1, 4, 9, 16, 25]\n"
     ]
    }
   ],
   "source": [
    "numbers = [1, 2, 3, 4, 5]\n",
    "squared = map(lambda x: x**2, numbers)\n",
    "squared_list = list(squared)  # Convert the map object to a list\n",
    "print(squared_list)  # Output: [1, 4, 9, 16, 25]\n"
   ]
  },
  {
   "cell_type": "markdown",
   "metadata": {},
   "source": [
    "### Using lambda with filter() "
   ]
  },
  {
   "cell_type": "markdown",
   "metadata": {},
   "source": [
    "In Python, you can use the `filter()` function in combination with a lambda function to filter elements from an iterable (like a list) based on a specified condition. The `filter()` function takes two arguments: a function (the filtering condition) and an iterable. It returns an iterator containing the elements from the iterable for which the function returns `True`.\n",
    "\n",
    "Here's the general syntax of the `filter()` function:\n",
    "\n",
    "```python\n",
    "filter(function, iterable)\n",
    "```\n",
    "\n",
    "- `function`: This is the filtering condition, often specified as a lambda function.\n",
    "- `iterable`: This is the iterable (e.g., a list, tuple, or other iterable) from which you want to filter elements."
   ]
  },
  {
   "cell_type": "code",
   "execution_count": 16,
   "metadata": {},
   "outputs": [
    {
     "name": "stdout",
     "output_type": "stream",
     "text": [
      "[2, 4, 6, 8, 10]\n"
     ]
    }
   ],
   "source": [
    "numbers = [1, 2, 3, 4, 5, 6, 7, 8, 9, 10]\n",
    "\n",
    "# Using filter with a lambda function to filter even numbers\n",
    "even_numbers = list(filter(lambda x: x % 2 == 0, numbers))\n",
    "\n",
    "print(even_numbers)  # Output: [2, 4, 6, 8, 10]\n"
   ]
  },
  {
   "cell_type": "markdown",
   "metadata": {},
   "source": [
    "### Using lambda with sorted()"
   ]
  },
  {
   "cell_type": "markdown",
   "metadata": {},
   "source": [
    "In Python, the `sorted()` function is used to sort iterable objects, such as lists, tuples, or strings. You can use a lambda function with the `key` parameter of `sorted()` to customize the sorting order based on a specific criterion. The `key` parameter expects a function that takes an element from the iterable and returns a value by which to sort the elements.\n",
    "\n",
    "\n",
    "\n",
    "You can also use the `reverse` parameter of the `sorted()` function to sort in descending order:\n",
    "\n"
   ]
  },
  {
   "cell_type": "code",
   "execution_count": 17,
   "metadata": {},
   "outputs": [
    {
     "name": "stdout",
     "output_type": "stream",
     "text": [
      "[{'name': 'Bob', 'age': 25}, {'name': 'Alice', 'age': 30}, {'name': 'Charlie', 'age': 35}]\n"
     ]
    }
   ],
   "source": [
    "data = [\n",
    "    {'name': 'Alice', 'age': 30},\n",
    "    {'name': 'Bob', 'age': 25},\n",
    "    {'name': 'Charlie', 'age': 35},\n",
    "]\n",
    "\n",
    "sorted_data = sorted(data, key=lambda x: x['age'])\n",
    "print(sorted_data)\n"
   ]
  },
  {
   "cell_type": "code",
   "execution_count": 18,
   "metadata": {},
   "outputs": [
    {
     "name": "stdout",
     "output_type": "stream",
     "text": [
      "[{'name': 'Charlie', 'age': 35}, {'name': 'Alice', 'age': 30}, {'name': 'Bob', 'age': 25}]\n"
     ]
    }
   ],
   "source": [
    "sorted_data_descending = sorted(data, key=lambda x: x['age'], reverse=True)\n",
    "print(sorted_data_descending)\n"
   ]
  },
  {
   "cell_type": "markdown",
   "metadata": {},
   "source": [
    "### Using lambda with reduce()"
   ]
  },
  {
   "cell_type": "markdown",
   "metadata": {},
   "source": [
    "In Python, the `reduce()` function is used to repeatedly apply a function to the elements of an iterable (e.g., a list) to accumulate results. While `reduce()` doesn't inherently require a lambda function, it is often used in conjunction with lambda functions to specify the operation to be applied during the reduction process. To use `reduce()` with a lambda function, you need to import it from the `functools` module in Python 3. Here's how it works:\n",
    "\n",
    "\n",
    "The `reduce()` function applies the lambda function cumulatively to the elements in the iterable from left to right. It starts with the first two elements, applies the lambda function to them, and then takes the result and combines it with the next element in the iterable. This process continues until all elements have been processed, resulting in a single final value.\n"
   ]
  },
  {
   "cell_type": "code",
   "execution_count": 21,
   "metadata": {},
   "outputs": [
    {
     "name": "stdout",
     "output_type": "stream",
     "text": [
      "15\n"
     ]
    }
   ],
   "source": [
    "from functools import reduce\n",
    "\n",
    "# Example 1: Sum all elements in a list using reduce and a lambda function\n",
    "numbers = [1, 2, 3, 4, 5]\n",
    "total = reduce(lambda x, y: x + y, numbers)\n",
    "print(total)  # Output: 15\n"
   ]
  },
  {
   "cell_type": "code",
   "execution_count": 20,
   "metadata": {},
   "outputs": [
    {
     "name": "stdout",
     "output_type": "stream",
     "text": [
      "8\n"
     ]
    }
   ],
   "source": [
    "# Example 2: Find the maximum value in a list using reduce and a lambda function\n",
    "numbers = [3, 7, 2, 8, 5]\n",
    "max_value = reduce(lambda x, y: x if x > y else y, numbers)\n",
    "print(max_value)  # Output: 8"
   ]
  },
  {
   "cell_type": "markdown",
   "metadata": {},
   "source": [
    "### Differnece between map() and reduce()\n",
    "\n",
    "`map()` and `reduce()` are both higher-order functions in Python, but they serve different purposes and operate on iterables (e.g., lists, tuples). Here are the key differences between `map()` and `reduce()`:\n",
    "\n",
    "1. **Purpose:**\n",
    "\n",
    "   - `map()` is used to apply a given function to each item in an iterable and return a new iterable with the results.\n",
    "   \n",
    "   - `reduce()` is used to accumulate values from an iterable into a single result by applying a given function cumulatively.\n",
    "\n",
    "2. **Return Value:**\n",
    "\n",
    "   - `map()` returns an iterable (e.g., a list) containing the results of applying a function to each item in the input iterable. The output iterable has the same length as the input iterable.\n",
    "\n",
    "   - `reduce()` returns a single accumulated result after applying a function cumulatively to the items in the iterable. The output is a single value.\n",
    "\n",
    "3. **Number of Arguments:**\n",
    "\n",
    "   - `map()` takes two arguments: a function and an iterable to which the function is applied.\n",
    "\n",
    "   - `reduce()` takes two arguments: a function and an iterable. Additionally, it can take an optional initializer as a third argument, which serves as the starting value for the accumulation. If no initializer is provided, the first two elements of the iterable are used as the initial values.\n",
    "\n",
    "4. **Use Cases:**\n",
    "\n",
    "   - `map()` is typically used when you want to apply a function element-wise to an iterable and get a new iterable with the results. For example, you can use `map()` to square all elements in a list.\n",
    "\n",
    "   - `reduce()` is used when you want to accumulate values from an iterable into a single result. It is useful for tasks like finding the sum of all elements in a list, calculating the product of all elements, or finding the maximum or minimum value in an iterable.\n",
    "\n",
    "Here's a brief example to illustrate the difference:\n",
    "\n",
    "\n",
    "In summary, `map()` is used to transform each element in an iterable, while `reduce()` is used to accumulate values in an iterable into a single result. Both functions have their own specific use cases and are valuable tools for data processing in Python."
   ]
  },
  {
   "cell_type": "code",
   "execution_count": 23,
   "metadata": {},
   "outputs": [
    {
     "name": "stdout",
     "output_type": "stream",
     "text": [
      "[1, 4, 9, 16, 25]\n",
      "15\n"
     ]
    }
   ],
   "source": [
    "from functools import reduce\n",
    "\n",
    "# Using map to square each element in a list\n",
    "numbers = [1, 2, 3, 4, 5]\n",
    "squared = list(map(lambda x: x**2, numbers))  # [1, 4, 9, 16, 25]\n",
    "print(squared)\n",
    "\n",
    "# Using reduce to find the sum of all elements in a list\n",
    "total = reduce(lambda x, y: x + y, numbers)  # 15\n",
    "print(total)"
   ]
  }
 ],
 "metadata": {
  "kernelspec": {
   "display_name": "Python 3",
   "language": "python",
   "name": "python3"
  },
  "language_info": {
   "codemirror_mode": {
    "name": "ipython",
    "version": 3
   },
   "file_extension": ".py",
   "mimetype": "text/x-python",
   "name": "python",
   "nbconvert_exporter": "python",
   "pygments_lexer": "ipython3",
   "version": "3.11.5"
  },
  "orig_nbformat": 4
 },
 "nbformat": 4,
 "nbformat_minor": 2
}
