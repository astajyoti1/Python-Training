{
 "cells": [
  {
   "cell_type": "markdown",
   "metadata": {},
   "source": [
    "## Function"
   ]
  },
  {
   "cell_type": "markdown",
   "metadata": {},
   "source": [
    "1. **Global Scope:**\n",
    "   - Variables defined outside of any function have global scope.\n",
    "   - Global variables can be accessed from anywhere in your code, including both inside and outside functions.\n",
    "   - They persist throughout the program's lifetime."
   ]
  },
  {
   "cell_type": "code",
   "execution_count": 1,
   "metadata": {},
   "outputs": [
    {
     "name": "stdout",
     "output_type": "stream",
     "text": [
      "10\n",
      "10\n"
     ]
    }
   ],
   "source": [
    "global_var = 10\n",
    "\n",
    "def some_function():\n",
    "    print(global_var)  # Accessing global_var from within the function\n",
    "\n",
    "some_function()\n",
    "print(global_var)  # Accessing global_var outside the function\n"
   ]
  },
  {
   "cell_type": "markdown",
   "metadata": {},
   "source": [
    "2. **Local Scope:**\n",
    "   - Variables defined inside a function have local scope.\n",
    "   - Local variables can only be accessed within the function in which they are defined.\n",
    "   - They are created when the function is called and destroyed when the function exits.\n",
    "\n",
    " "
   ]
  },
  {
   "cell_type": "code",
   "execution_count": 2,
   "metadata": {},
   "outputs": [
    {
     "name": "stdout",
     "output_type": "stream",
     "text": [
      "20\n"
     ]
    }
   ],
   "source": [
    "def some_function():\n",
    "    local_var = 20\n",
    "    print(local_var)\n",
    "\n",
    "some_function()\n",
    "# Attempting to access local_var outside the function will result in an error\n"
   ]
  },
  {
   "cell_type": "markdown",
   "metadata": {},
   "source": [
    "3. **Accessing Global Variables Within a Function:**\n",
    "   - To access a global variable within a function, you can use the `global` keyword to indicate that you intend to use the global variable and not create a new local variable with the same name."
   ]
  },
  {
   "cell_type": "code",
   "execution_count": 3,
   "metadata": {},
   "outputs": [
    {
     "name": "stdout",
     "output_type": "stream",
     "text": [
      "10\n"
     ]
    }
   ],
   "source": [
    "global_var = 10\n",
    "\n",
    "def some_function():\n",
    "    global global_var  # Using the global keyword to access the global variable\n",
    "    print(global_var)\n",
    "\n",
    "some_function()\n"
   ]
  },
  {
   "cell_type": "markdown",
   "metadata": {},
   "source": [
    "4. **Nested Scopes:**\n",
    "   - Python allows for nested scopes, where a function can have access to variables in its local scope as well as in the outer (enclosing) function's scope or global scope."
   ]
  },
  {
   "cell_type": "code",
   "execution_count": 4,
   "metadata": {},
   "outputs": [
    {
     "name": "stdout",
     "output_type": "stream",
     "text": [
      "20\n",
      "10\n"
     ]
    }
   ],
   "source": [
    "global_var = 10\n",
    "\n",
    "def outer_function():\n",
    "    outer_var = 20\n",
    "\n",
    "    def inner_function():\n",
    "        print(outer_var)  # Accessing outer_var from the inner function\n",
    "        print(global_var)  # Accessing global_var from the inner function\n",
    "\n",
    "    inner_function()\n",
    "\n",
    "outer_function()\n"
   ]
  },
  {
   "cell_type": "markdown",
   "metadata": {},
   "source": [
    "### Python Functional Arguments"
   ]
  },
  {
   "cell_type": "markdown",
   "metadata": {},
   "source": [
    "1. **Positional Arguments:**\n",
    "   - These are the most common type of arguments.\n",
    "   - They are matched to parameters based on their position in the function call.\n",
    "   - The order and number of arguments must match the order and number of parameters defined in the function.\n",
    "\n",
    " "
   ]
  },
  {
   "cell_type": "code",
   "execution_count": 6,
   "metadata": {},
   "outputs": [],
   "source": [
    "def add(a, b):\n",
    "    return a + b\n",
    "\n",
    "result = add(3, 4)  # Here, 3 is assigned to 'a' and 4 is assigned to 'b'\n"
   ]
  },
  {
   "cell_type": "markdown",
   "metadata": {},
   "source": [
    "2. **Keyword Arguments:**\n",
    "   - These are specified by name, along with their values.\n",
    "   - They allow you to pass arguments in any order, as long as you specify the parameter names.\n",
    "   \n",
    " "
   ]
  },
  {
   "cell_type": "code",
   "execution_count": 7,
   "metadata": {},
   "outputs": [],
   "source": [
    "def greet(name, message):\n",
    "    return f\"Hello, {name}! {message}\"\n",
    "\n",
    "result = greet(message=\"How are you?\", name=\"Alice\")\n"
   ]
  },
  {
   "cell_type": "markdown",
   "metadata": {},
   "source": [
    "3. **Default Arguments:**\n",
    "   - You can assign default values to parameters when defining a function.\n",
    "   - If an argument is not provided when calling the function, it uses the default value."
   ]
  },
  {
   "cell_type": "code",
   "execution_count": 8,
   "metadata": {},
   "outputs": [],
   "source": [
    "def greet(name, message=\"Hello\"):\n",
    "    return f\"{message}, {name}!\"\n",
    "\n",
    "result1 = greet(\"Alice\")  # Uses the default message \"Hello\"\n",
    "result2 = greet(\"Bob\", \"Hi\")  # Overrides the default message with \"Hi\"\n"
   ]
  },
  {
   "cell_type": "markdown",
   "metadata": {},
   "source": [
    "4. **Variable-Length Argument Lists:**\n",
    "   - Python allows you to define functions that accept a variable number of arguments.\n",
    "   - You can use `*args` to pass a variable-length list of non-keyword arguments and `**kwargs` to pass a variable-length list of keyword arguments."
   ]
  },
  {
   "cell_type": "markdown",
   "metadata": {},
   "source": [
    "4.1. Arbitrary Positional Arguments (*args):\n",
    "\n",
    "When you use *args as a parameter in a function definition, it allows you to pass a variable-length list of positional arguments to the function. These arguments are collected into a tuple within the function, and you can access them using the args variable name (or any other name you choose)."
   ]
  },
  {
   "cell_type": "code",
   "execution_count": 13,
   "metadata": {},
   "outputs": [
    {
     "name": "stdout",
     "output_type": "stream",
     "text": [
      "1\n",
      "2\n",
      "3\n",
      "hello\n",
      "[4, 5]\n"
     ]
    }
   ],
   "source": [
    "def print_arguments(*args):\n",
    "    for arg in args:\n",
    "        print(arg)\n",
    "\n",
    "print_arguments(1, 2, 3, \"hello\", [4, 5])\n"
   ]
  },
  {
   "cell_type": "markdown",
   "metadata": {},
   "source": [
    "4.2 Arbitrary Keyword Arguments (**kwargs):\n",
    "\n",
    "When you use **kwargs as a parameter in a function definition, it allows you to pass a variable-length list of keyword arguments (key-value pairs) to the function. These arguments are collected into a dictionary within the function, and you can access them using the kwargs variable name (or any other name you choose)."
   ]
  },
  {
   "cell_type": "code",
   "execution_count": 12,
   "metadata": {},
   "outputs": [
    {
     "name": "stdout",
     "output_type": "stream",
     "text": [
      "name: Alice\n",
      "age: 30\n",
      "city: Wonderland\n"
     ]
    }
   ],
   "source": [
    "def print_keyword_arguments(**kwargs):\n",
    "    for key, value in kwargs.items():\n",
    "        print(f\"{key}: {value}\")\n",
    "\n",
    "print_keyword_arguments(name=\"Alice\", age=30, city=\"Wonderland\")\n"
   ]
  },
  {
   "cell_type": "markdown",
   "metadata": {},
   "source": [
    "5. **Arbitrary Argument Ordering:**\n",
    "   - You can use a combination of positional, keyword, default, and variable-length arguments in a function."
   ]
  },
  {
   "cell_type": "code",
   "execution_count": 11,
   "metadata": {},
   "outputs": [],
   "source": [
    "def complex_function(a, b, *args, c=0, **kwargs):\n",
    "    # 'a' and 'b' are positional arguments\n",
    "    # '*args' is a variable-length list of positional arguments\n",
    "    # 'c' is a default argument\n",
    "    # '**kwargs' is a variable-length list of keyword arguments\n",
    "    pass\n"
   ]
  },
  {
   "cell_type": "markdown",
   "metadata": {},
   "source": [
    "## Lambda Function"
   ]
  },
  {
   "cell_type": "markdown",
   "metadata": {},
   "source": [
    "In Python, a lambda function, also known as an anonymous function or a lambda expression, is a small, unnamed function that can have any number of arguments but can only have one expression. Lambda functions are defined using the `lambda` keyword, followed by the arguments and the expression you want to evaluate.\n",
    "\n",
    "The general syntax of a lambda function is as follows:\n",
    "\n",
    "```python\n",
    "lambda arguments: expression\n",
    "```"
   ]
  },
  {
   "cell_type": "code",
   "execution_count": 14,
   "metadata": {},
   "outputs": [
    {
     "name": "stdout",
     "output_type": "stream",
     "text": [
      "7\n"
     ]
    }
   ],
   "source": [
    "add = lambda x, y: x + y\n",
    "\n",
    "result = add(3, 4)\n",
    "print(result)  # Output: 7\n"
   ]
  },
  {
   "cell_type": "code",
   "execution_count": 26,
   "metadata": {},
   "outputs": [
    {
     "name": "stdout",
     "output_type": "stream",
     "text": [
      "Even\n",
      "Odd\n"
     ]
    }
   ],
   "source": [
    "# Determines whether a number is even or odd \n",
    "\n",
    "is_even_or_odd = lambda x: \"Even\" if x % 2 == 0 else \"Odd\"\n",
    "\n",
    "# Example usage:\n",
    "print(is_even_or_odd(4))  # Output: \"Even\"\n",
    "print(is_even_or_odd(7))  # Output: \"Odd\"\n"
   ]
  },
  {
   "cell_type": "code",
   "execution_count": 25,
   "metadata": {},
   "outputs": [
    {
     "name": "stdout",
     "output_type": "stream",
     "text": [
      "12\n"
     ]
    }
   ],
   "source": [
    "# create a lambda function that takes three numbers \n",
    "\n",
    "sum_of_three = lambda a, b, c: a + b + c\n",
    "\n",
    "# Example usage:\n",
    "result = sum_of_three(3, 4, 5)\n",
    "print(result)  # Output: 12\n"
   ]
  },
  {
   "cell_type": "code",
   "execution_count": 27,
   "metadata": {},
   "outputs": [
    {
     "name": "stdout",
     "output_type": "stream",
     "text": [
      "The maximum number is 7\n",
      "The maximum number is 12\n"
     ]
    }
   ],
   "source": [
    "# Create a lambda function that finds the maximum of two numbers \n",
    "\n",
    "find_and_print_max = lambda x, y: print(f\"The maximum number is {x}\" if x >= y else f\"The maximum number is {y}\")\n",
    "\n",
    "# Example usage:\n",
    "find_and_print_max(4, 7)  # Output: \"The maximum number is 7\"\n",
    "find_and_print_max(12, 8)  # Output: \"The maximum number is 12\"\n"
   ]
  },
  {
   "cell_type": "markdown",
   "metadata": {},
   "source": [
    "### Using lambda with map()"
   ]
  },
  {
   "cell_type": "markdown",
   "metadata": {},
   "source": [
    "In Python, the `map()` function is used to apply a given function to each item in an iterable (e.g., a list, tuple, or string) and returns a map object. You can convert the map object into other iterable types, like a list, using `list()`. When working with `map()`, you can also use lambda functions to define the transformation that should be applied to each item in the iterable.\n",
    "\n",
    "Here's the general syntax of the `map()` function:\n",
    "\n",
    "```python\n",
    "map(function, iterable)\n",
    "```\n",
    "\n",
    "- `function`: The function that you want to apply to each item in the iterable.\n",
    "- `iterable`: The iterable (e.g., a list, tuple, or string) containing the items to be processed."
   ]
  },
  {
   "cell_type": "code",
   "execution_count": 15,
   "metadata": {},
   "outputs": [
    {
     "name": "stdout",
     "output_type": "stream",
     "text": [
      "[1, 4, 9, 16, 25]\n"
     ]
    }
   ],
   "source": [
    "numbers = [1, 2, 3, 4, 5]\n",
    "squared = map(lambda x: x**2, numbers)\n",
    "squared_list = list(squared)  # Convert the map object to a list\n",
    "print(squared_list)  # Output: [1, 4, 9, 16, 25]\n"
   ]
  },
  {
   "cell_type": "markdown",
   "metadata": {},
   "source": [
    "### Using lambda with filter() "
   ]
  },
  {
   "cell_type": "markdown",
   "metadata": {},
   "source": [
    "In Python, you can use the `filter()` function in combination with a lambda function to filter elements from an iterable (like a list) based on a specified condition. The `filter()` function takes two arguments: a function (the filtering condition) and an iterable. It returns an iterator containing the elements from the iterable for which the function returns `True`.\n",
    "\n",
    "Here's the general syntax of the `filter()` function:\n",
    "\n",
    "```python\n",
    "filter(function, iterable)\n",
    "```\n",
    "\n",
    "- `function`: This is the filtering condition, often specified as a lambda function.\n",
    "- `iterable`: This is the iterable (e.g., a list, tuple, or other iterable) from which you want to filter elements."
   ]
  },
  {
   "cell_type": "code",
   "execution_count": 16,
   "metadata": {},
   "outputs": [
    {
     "name": "stdout",
     "output_type": "stream",
     "text": [
      "[2, 4, 6, 8, 10]\n"
     ]
    }
   ],
   "source": [
    "numbers = [1, 2, 3, 4, 5, 6, 7, 8, 9, 10]\n",
    "\n",
    "# Using filter with a lambda function to filter even numbers\n",
    "even_numbers = list(filter(lambda x: x % 2 == 0, numbers))\n",
    "\n",
    "print(even_numbers)  # Output: [2, 4, 6, 8, 10]\n"
   ]
  },
  {
   "cell_type": "markdown",
   "metadata": {},
   "source": [
    "### Using lambda with sorted()"
   ]
  },
  {
   "cell_type": "markdown",
   "metadata": {},
   "source": [
    "In Python, the `sorted()` function is used to sort iterable objects, such as lists, tuples, or strings. You can use a lambda function with the `key` parameter of `sorted()` to customize the sorting order based on a specific criterion. The `key` parameter expects a function that takes an element from the iterable and returns a value by which to sort the elements.\n",
    "\n",
    "\n",
    "\n",
    "You can also use the `reverse` parameter of the `sorted()` function to sort in descending order:\n",
    "\n"
   ]
  },
  {
   "cell_type": "code",
   "execution_count": 17,
   "metadata": {},
   "outputs": [
    {
     "name": "stdout",
     "output_type": "stream",
     "text": [
      "[{'name': 'Bob', 'age': 25}, {'name': 'Alice', 'age': 30}, {'name': 'Charlie', 'age': 35}]\n"
     ]
    }
   ],
   "source": [
    "data = [\n",
    "    {'name': 'Alice', 'age': 30},\n",
    "    {'name': 'Bob', 'age': 25},\n",
    "    {'name': 'Charlie', 'age': 35},\n",
    "]\n",
    "\n",
    "sorted_data = sorted(data, key=lambda x: x['age'])\n",
    "print(sorted_data)\n"
   ]
  },
  {
   "cell_type": "code",
   "execution_count": 18,
   "metadata": {},
   "outputs": [
    {
     "name": "stdout",
     "output_type": "stream",
     "text": [
      "[{'name': 'Charlie', 'age': 35}, {'name': 'Alice', 'age': 30}, {'name': 'Bob', 'age': 25}]\n"
     ]
    }
   ],
   "source": [
    "sorted_data_descending = sorted(data, key=lambda x: x['age'], reverse=True)\n",
    "print(sorted_data_descending)\n"
   ]
  },
  {
   "cell_type": "code",
   "execution_count": 28,
   "metadata": {},
   "outputs": [
    {
     "name": "stdout",
     "output_type": "stream",
     "text": [
      "eoiiaaeiioe\n"
     ]
    }
   ],
   "source": [
    "# Create a lambda function to extract vowels from a string using the filter() function\n",
    "\n",
    "# Input string\n",
    "text = \"Hello, this is a sample string with vowels.\"\n",
    "\n",
    "# Lambda function to filter vowels\n",
    "extract_vowels = lambda char: char in 'aeiouAEIOU'\n",
    "\n",
    "# Use filter to extract vowels from the string\n",
    "vowels = filter(extract_vowels, text)\n",
    "\n",
    "# Convert the result to a list (or a string, if needed)\n",
    "vowels_list = list(vowels)\n",
    "\n",
    "# Print the extracted vowels\n",
    "print(\"\".join(vowels_list))\n"
   ]
  },
  {
   "cell_type": "markdown",
   "metadata": {},
   "source": [
    "### Using lambda with reduce()"
   ]
  },
  {
   "cell_type": "markdown",
   "metadata": {},
   "source": [
    "In Python, the `reduce()` function is used to repeatedly apply a function to the elements of an iterable (e.g., a list) to accumulate results. While `reduce()` doesn't inherently require a lambda function, it is often used in conjunction with lambda functions to specify the operation to be applied during the reduction process. To use `reduce()` with a lambda function, you need to import it from the `functools` module in Python 3. Here's how it works:\n",
    "\n",
    "\n",
    "The `reduce()` function applies the lambda function cumulatively to the elements in the iterable from left to right. It starts with the first two elements, applies the lambda function to them, and then takes the result and combines it with the next element in the iterable. This process continues until all elements have been processed, resulting in a single final value.\n"
   ]
  },
  {
   "cell_type": "code",
   "execution_count": 21,
   "metadata": {},
   "outputs": [
    {
     "name": "stdout",
     "output_type": "stream",
     "text": [
      "15\n"
     ]
    }
   ],
   "source": [
    "from functools import reduce\n",
    "\n",
    "# Example 1: Sum all elements in a list using reduce and a lambda function\n",
    "numbers = [1, 2, 3, 4, 5]\n",
    "total = reduce(lambda x, y: x + y, numbers)\n",
    "print(total)  # Output: 15\n"
   ]
  },
  {
   "cell_type": "code",
   "execution_count": 20,
   "metadata": {},
   "outputs": [
    {
     "name": "stdout",
     "output_type": "stream",
     "text": [
      "8\n"
     ]
    }
   ],
   "source": [
    "# Example 2: Find the maximum value in a list using reduce and a lambda function\n",
    "numbers = [3, 7, 2, 8, 5]\n",
    "max_value = reduce(lambda x, y: x if x > y else y, numbers)\n",
    "print(max_value)  # Output: 8"
   ]
  },
  {
   "cell_type": "markdown",
   "metadata": {},
   "source": [
    "### Differnece between map() and reduce()\n",
    "\n",
    "`map()` and `reduce()` are both higher-order functions in Python, but they serve different purposes and operate on iterables (e.g., lists, tuples). Here are the key differences between `map()` and `reduce()`:\n",
    "\n",
    "1. **Purpose:**\n",
    "\n",
    "   - `map()` is used to apply a given function to each item in an iterable and return a new iterable with the results.\n",
    "   \n",
    "   - `reduce()` is used to accumulate values from an iterable into a single result by applying a given function cumulatively.\n",
    "\n",
    "2. **Return Value:**\n",
    "\n",
    "   - `map()` returns an iterable (e.g., a list) containing the results of applying a function to each item in the input iterable. The output iterable has the same length as the input iterable.\n",
    "\n",
    "   - `reduce()` returns a single accumulated result after applying a function cumulatively to the items in the iterable. The output is a single value.\n",
    "\n",
    "3. **Number of Arguments:**\n",
    "\n",
    "   - `map()` takes two arguments: a function and an iterable to which the function is applied.\n",
    "\n",
    "   - `reduce()` takes two arguments: a function and an iterable. Additionally, it can take an optional initializer as a third argument, which serves as the starting value for the accumulation. If no initializer is provided, the first two elements of the iterable are used as the initial values.\n",
    "\n",
    "4. **Use Cases:**\n",
    "\n",
    "   - `map()` is typically used when you want to apply a function element-wise to an iterable and get a new iterable with the results. For example, you can use `map()` to square all elements in a list.\n",
    "\n",
    "   - `reduce()` is used when you want to accumulate values from an iterable into a single result. It is useful for tasks like finding the sum of all elements in a list, calculating the product of all elements, or finding the maximum or minimum value in an iterable.\n",
    "\n",
    "Here's a brief example to illustrate the difference:\n",
    "\n",
    "\n",
    "In summary, `map()` is used to transform each element in an iterable, while `reduce()` is used to accumulate values in an iterable into a single result. Both functions have their own specific use cases and are valuable tools for data processing in Python."
   ]
  },
  {
   "cell_type": "code",
   "execution_count": 23,
   "metadata": {},
   "outputs": [
    {
     "name": "stdout",
     "output_type": "stream",
     "text": [
      "[1, 4, 9, 16, 25]\n",
      "15\n"
     ]
    }
   ],
   "source": [
    "from functools import reduce\n",
    "\n",
    "# Using map to square each element in a list\n",
    "numbers = [1, 2, 3, 4, 5]\n",
    "squared = list(map(lambda x: x**2, numbers))  # [1, 4, 9, 16, 25]\n",
    "print(squared)\n",
    "\n",
    "# Using reduce to find the sum of all elements in a list\n",
    "total = reduce(lambda x, y: x + y, numbers)  # 15\n",
    "print(total)"
   ]
  },
  {
   "cell_type": "markdown",
   "metadata": {},
   "source": [
    "## Built In Function in Python\n",
    "\n",
    "Python comes with a wide range of built-in functions that are readily available for use without the need for importing any external modules. These functions cover a variety of operations and are an essential part of Python's standard library. Here are some commonly used built-in functions in Python:\n",
    "\n",
    "1. **Print Functions:**\n",
    "   - `print()`: Outputs data to the console.\n",
    "   - `input()`: Reads input from the user via the console.\n",
    "\n",
    "2. **Type Conversion Functions:**\n",
    "   - `int()`: Converts a value to an integer.\n",
    "   - `float()`: Converts a value to a floating-point number.\n",
    "   - `str()`: Converts a value to a string.\n",
    "   - `bool()`: Converts a value to a boolean.\n",
    "\n",
    "3. **Math Functions:**\n",
    "   - `abs()`: Returns the absolute value of a number.\n",
    "   - `max()`: Returns the maximum value from a sequence.\n",
    "   - `min()`: Returns the minimum value from a sequence.\n",
    "   - `sum()`: Returns the sum of elements in a sequence.\n",
    "\n",
    "4. **Iterable Functions:**\n",
    "   - `len()`: Returns the length of an iterable.\n",
    "   - `range()`: Generates a sequence of numbers.\n",
    "   - `enumerate()`: Returns an iterable with index and value pairs.\n",
    "   - `zip()`: Combines multiple iterables element-wise.\n",
    "\n",
    "5. **List and Dictionary Functions:**\n",
    "   - `list()`: Converts an iterable to a list.\n",
    "   - `dict()`: Creates a dictionary.\n",
    "   - `sorted()`: Returns a sorted version of an iterable.\n",
    "   - `filter()`: Filters elements of an iterable based on a function.\n",
    "   - `map()`: Applies a function to elements of an iterable.\n",
    "\n",
    "6. **String Functions:**\n",
    "   - `len()`: Returns the length of a string.\n",
    "   - `str.lower()`: Converts a string to lowercase.\n",
    "   - `str.upper()`: Converts a string to uppercase.\n",
    "   - `str.strip()`: Removes leading and trailing whitespace.\n",
    "   - `str.split()`: Splits a string into a list of substrings.\n",
    "   - `str.join()`: Joins a list of strings into one string.\n",
    "\n",
    "7. **File I/O Functions:**\n",
    "   - `open()`: Opens a file for reading, writing, or appending.\n",
    "   - `read()`: Reads the contents of a file.\n",
    "   - `write()`: Writes data to a file.\n",
    "\n",
    "8. **Exception Handling Functions:**\n",
    "   - `try`, `except`, `finally`: Used for exception handling.\n",
    "   - `raise`: Raises an exception.\n",
    "\n",
    "9. **Functional Programming Functions:**\n",
    "   - `lambda`: Defines anonymous functions.\n",
    "   - `map()`, `filter()`, `reduce()`: Functional programming tools.\n",
    "\n",
    "10. **Object-Oriented Programming Functions:**\n",
    "    - `isinstance()`: Checks if an object is an instance of a class.\n",
    "    - `getattr()`, `setattr()`, `delattr()`: Access and modify object attributes.\n",
    "\n",
    "These are just a few examples of built-in functions in Python. The Python standard library offers many more functions and modules for a wide range of tasks, making it a versatile and powerful programming language."
   ]
  },
  {
   "cell_type": "code",
   "execution_count": 29,
   "metadata": {},
   "outputs": [
    {
     "name": "stdout",
     "output_type": "stream",
     "text": [
      "Index 0: apple\n",
      "Index 1: banana\n",
      "Index 2: cherry\n",
      "Index 3: date\n"
     ]
    }
   ],
   "source": [
    "# enumerate() function in Python is used to iterate over an iterable (such as a list, tuple, or string) while \n",
    "# keeping track of the index or position of the current item in the iterable.\n",
    "\n",
    "my_list = ['apple', 'banana', 'cherry', 'date']\n",
    "\n",
    "for index, item in enumerate(my_list):\n",
    "    print(f\"Index {index}: {item}\")\n"
   ]
  },
  {
   "cell_type": "markdown",
   "metadata": {},
   "source": [
    "## List Comprehension"
   ]
  },
  {
   "cell_type": "markdown",
   "metadata": {},
   "source": [
    "List comprehensions in Python provide a concise and readable way to create lists. They allow you to generate a new list by applying an expression to each item in an existing iterable (e.g., a list, tuple, or range) while optionally filtering the elements. List comprehensions are a powerful feature in Python and can help simplify your code. Here's the basic syntax of a list comprehension:\n",
    "\n",
    "```python\n",
    "new_list = [expression for item in iterable if condition]\n",
    "```\n",
    "\n",
    "- `expression` is the operation you want to perform on each item.\n",
    "- `item` is a variable that takes each item from the iterable one at a time.\n",
    "- `iterable` is the source of items.\n",
    "- `condition` is an optional filter that determines whether the item is included in the new list."
   ]
  },
  {
   "cell_type": "code",
   "execution_count": 40,
   "metadata": {},
   "outputs": [
    {
     "name": "stdout",
     "output_type": "stream",
     "text": [
      "[1, 4, 9, 16, 25]\n"
     ]
    }
   ],
   "source": [
    "# 1. Creating a List of Squares:\n",
    "\n",
    "numbers = [1, 2, 3, 4, 5]\n",
    "squares = [x**2 for x in numbers]\n",
    "print(squares)"
   ]
  },
  {
   "cell_type": "code",
   "execution_count": 41,
   "metadata": {},
   "outputs": [
    {
     "name": "stdout",
     "output_type": "stream",
     "text": [
      "[2, 4, 6]\n"
     ]
    }
   ],
   "source": [
    "# 2. Filtering Even Numbers:\n",
    "\n",
    "numbers = [1, 2, 3, 4, 5, 6]\n",
    "evens = [x for x in numbers if x % 2 == 0]\n",
    "print(evens)"
   ]
  },
  {
   "cell_type": "code",
   "execution_count": 42,
   "metadata": {},
   "outputs": [
    {
     "name": "stdout",
     "output_type": "stream",
     "text": [
      "['JD', 'AS', 'BJ']\n"
     ]
    }
   ],
   "source": [
    "# 3. Extracting Initials from Names:\n",
    "\n",
    "names = ['John Doe', 'Alice Smith', 'Bob Johnson']\n",
    "initials = [name.split()[0][0] + name.split()[1][0] for name in names]\n",
    "print(initials)"
   ]
  },
  {
   "cell_type": "code",
   "execution_count": 43,
   "metadata": {},
   "outputs": [
    {
     "name": "stdout",
     "output_type": "stream",
     "text": [
      "[1, 2, 3, 4, 5, 6, 7, 8, 9]\n"
     ]
    }
   ],
   "source": [
    "# Nested List Comprehension:\n",
    "\n",
    "matrix = [[1, 2, 3], [4, 5, 6], [7, 8, 9]]\n",
    "flattened = [x for row in matrix for x in row]\n",
    "print(flattened)"
   ]
  },
  {
   "cell_type": "code",
   "execution_count": 44,
   "metadata": {},
   "outputs": [
    {
     "name": "stdout",
     "output_type": "stream",
     "text": [
      "['Odd', 'Even', 'Odd', 'Even', 'Odd']\n"
     ]
    }
   ],
   "source": [
    "# 5. Using a Conditional Expression:\n",
    "\n",
    "numbers = [1, 2, 3, 4, 5]\n",
    "even_or_odd = [\"Even\" if x % 2 == 0 else \"Odd\" for x in numbers]\n",
    "print(even_or_odd)\n"
   ]
  },
  {
   "cell_type": "code",
   "execution_count": 45,
   "metadata": {},
   "outputs": [
    {
     "name": "stdout",
     "output_type": "stream",
     "text": [
      "[2, 8, 12]\n"
     ]
    }
   ],
   "source": [
    "9# 6. Filtering Even and Positive Numbers (Nested If):\n",
    "\n",
    "numbers = [-3, 2, 5, -10, 8, -7, 12]\n",
    "filtered_numbers = [x for x in numbers if x % 2 == 0 if x > 0]\n",
    "print(filtered_numbers)\n"
   ]
  }
 ],
 "metadata": {
  "kernelspec": {
   "display_name": "Python 3",
   "language": "python",
   "name": "python3"
  },
  "language_info": {
   "codemirror_mode": {
    "name": "ipython",
    "version": 3
   },
   "file_extension": ".py",
   "mimetype": "text/x-python",
   "name": "python",
   "nbconvert_exporter": "python",
   "pygments_lexer": "ipython3",
   "version": "3.11.5"
  },
  "orig_nbformat": 4
 },
 "nbformat": 4,
 "nbformat_minor": 2
}
