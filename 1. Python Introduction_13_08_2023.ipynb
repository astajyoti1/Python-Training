{
 "cells": [
  {
   "cell_type": "markdown",
   "id": "a0ef6b20",
   "metadata": {},
   "source": [
    "# Python Training"
   ]
  },
  {
   "cell_type": "markdown",
   "id": "593ae609",
   "metadata": {},
   "source": [
    "## What is Python?\n",
    "\n",
    "Python is an interpreted, object-oriented, high-level programming language with dynamic semantics. Its high-level built in data structures, combined with dynamic typing and dynamic binding, make it very attractive for Rapid Application Development, as well as for use as a scripting or glue language to connect existing components together"
   ]
  },
  {
   "cell_type": "markdown",
   "id": "e92e4824",
   "metadata": {},
   "source": [
    "### Features of Python:\n",
    "    \n",
    "1. Machine Learning\n",
    "2. GUI Applications (like Kivy, Tkinter, PyQt etc. )\n",
    "3. Web frameworks like Django (used by YouTube, Instagram, Dropbox)\n",
    "4. Image processing (like OpenCV, Pillow)\n",
    "5. Web scraping (like Scrapy, BeautifulSoup, Selenium)\n",
    "6. Test frameworks\n",
    "7. Multimedia\n",
    "8. Scientific computing\n",
    "9. Text processing and many more.."
   ]
  },
  {
   "cell_type": "markdown",
   "id": "b300d7da",
   "metadata": {},
   "source": [
    "### Why Python?\n",
    "\n",
    "1. Python is easy to learn\n",
    "2. It uses a simplified syntax with an emphasis on natural language, for a much easier learning curve for beginners. \n",
    "3. Python is free to use and is supported by an extremely large ecosystem of libraries and packages\n",
    "4. it's often the first-choice language for new developers.\n"
   ]
  },
  {
   "cell_type": "markdown",
   "id": "8803a4cb",
   "metadata": {},
   "source": [
    "### Trends of different Languages\n",
    "\n",
    "https://trends.google.co.in/trends/explore?date=today%205-y&q=%2Fm%2F05z1_,%2Fm%2F07sbkfb,%2Fm%2F01t6b,%2Fm%2F0jgqg,%2Fm%2F0212jm"
   ]
  },
  {
   "cell_type": "markdown",
   "id": "f52ead6e",
   "metadata": {},
   "source": [
    "### Python Version available\n",
    "1. 2.x\n",
    "2. 3.x"
   ]
  },
  {
   "cell_type": "markdown",
   "id": "d61ec00e",
   "metadata": {},
   "source": [
    "### IDEs (Integrated development environment Software) for Python\n",
    "\n",
    "1. Jupyter\n",
    "2. Spyder\n",
    "3. PyCharm\n",
    "4. VS Code\n",
    "5. Sublime\n",
    "\n",
    "....."
   ]
  },
  {
   "cell_type": "markdown",
   "id": "01bb2dc2",
   "metadata": {},
   "source": [
    "### Python Installation Link\n",
    "https://www.python.org/downloads/\n",
    "\n",
    "### Anaconda Installation Link\n",
    "https://www.anaconda.com/\n",
    "\n",
    "### VS Code Installation Link\n",
    "https://code.visualstudio.com/Download\n",
    "\n",
    "### PyCharm Installation Link\n",
    "https://www.jetbrains.com/pycharm/download/#section=windows\n",
    "\n",
    "### Google Colab (Online Interpretor)\n",
    "https://colab.research.google.com/"
   ]
  },
  {
   "cell_type": "markdown",
   "id": "4904e615",
   "metadata": {},
   "source": [
    "## Jupyter Notebook Overview"
   ]
  },
  {
   "cell_type": "code",
   "execution_count": 2,
   "id": "ddcda1eb",
   "metadata": {},
   "outputs": [
    {
     "data": {
      "text/html": [
       "<img src=\"https://pythonnumericalmethods.berkeley.edu/_images/01.04.02-within_notebook.png\"/>"
      ],
      "text/plain": [
       "<IPython.core.display.Image object>"
      ]
     },
     "execution_count": 2,
     "metadata": {},
     "output_type": "execute_result"
    }
   ],
   "source": [
    "from IPython.display import Image\n",
    "from IPython.core.display import HTML \n",
    "Image(url= \"https://pythonnumericalmethods.berkeley.edu/_images/01.04.02-within_notebook.png\")"
   ]
  },
  {
   "cell_type": "markdown",
   "id": "30c61f87",
   "metadata": {},
   "source": [
    "### Theme of Python (Tagline of Python)"
   ]
  },
  {
   "cell_type": "code",
   "execution_count": 2,
   "id": "3aa3baac",
   "metadata": {},
   "outputs": [
    {
     "name": "stdout",
     "output_type": "stream",
     "text": [
      "The Zen of Python, by Tim Peters\n",
      "\n",
      "Beautiful is better than ugly.\n",
      "Explicit is better than implicit.\n",
      "Simple is better than complex.\n",
      "Complex is better than complicated.\n",
      "Flat is better than nested.\n",
      "Sparse is better than dense.\n",
      "Readability counts.\n",
      "Special cases aren't special enough to break the rules.\n",
      "Although practicality beats purity.\n",
      "Errors should never pass silently.\n",
      "Unless explicitly silenced.\n",
      "In the face of ambiguity, refuse the temptation to guess.\n",
      "There should be one-- and preferably only one --obvious way to do it.\n",
      "Although that way may not be obvious at first unless you're Dutch.\n",
      "Now is better than never.\n",
      "Although never is often better than *right* now.\n",
      "If the implementation is hard to explain, it's a bad idea.\n",
      "If the implementation is easy to explain, it may be a good idea.\n",
      "Namespaces are one honking great idea -- let's do more of those!\n"
     ]
    }
   ],
   "source": [
    "import this"
   ]
  },
  {
   "cell_type": "markdown",
   "id": "a1e5aaf7",
   "metadata": {},
   "source": [
    "### For help press Shift + Tab"
   ]
  },
  {
   "cell_type": "raw",
   "id": "9cfee547",
   "metadata": {},
   "source": [
    "print(<Press Shift + Tab>)"
   ]
  },
  {
   "cell_type": "code",
   "execution_count": 3,
   "id": "4f71a11a",
   "metadata": {},
   "outputs": [
    {
     "name": "stdout",
     "output_type": "stream",
     "text": [
      "This is my first program.\n"
     ]
    }
   ],
   "source": [
    "print(\"This is my first program.\")"
   ]
  },
  {
   "cell_type": "markdown",
   "id": "ab3b3f86",
   "metadata": {},
   "source": [
    "### To check the working directory or the location of the Jupyter Notebook"
   ]
  },
  {
   "cell_type": "code",
   "execution_count": 4,
   "id": "47905aaa",
   "metadata": {},
   "outputs": [
    {
     "data": {
      "text/plain": [
       "'D:\\\\Trainings\\\\Python\\\\Python Training'"
      ]
     },
     "execution_count": 4,
     "metadata": {},
     "output_type": "execute_result"
    }
   ],
   "source": [
    "pwd()"
   ]
  },
  {
   "cell_type": "markdown",
   "id": "d3a9e942",
   "metadata": {},
   "source": [
    "### Data Type: \n",
    "In python you do not have to declare your data type explicitly. Python will internally understand the data type.\n",
    "\n",
    "To check the data type of variable - type( )"
   ]
  },
  {
   "cell_type": "code",
   "execution_count": 154,
   "id": "17c93bc5",
   "metadata": {},
   "outputs": [
    {
     "data": {
      "text/html": [
       "<img src=\"https://media.geeksforgeeks.org/wp-content/uploads/20191023173512/Python-data-structure.jpg\"/>"
      ],
      "text/plain": [
       "<IPython.core.display.Image object>"
      ]
     },
     "execution_count": 154,
     "metadata": {},
     "output_type": "execute_result"
    }
   ],
   "source": [
    "Image(url= \"https://media.geeksforgeeks.org/wp-content/uploads/20191023173512/Python-data-structure.jpg\")"
   ]
  },
  {
   "cell_type": "markdown",
   "id": "f9aee935",
   "metadata": {},
   "source": [
    "## Python Operator"
   ]
  },
  {
   "cell_type": "code",
   "execution_count": 3,
   "id": "9e211eac",
   "metadata": {},
   "outputs": [
    {
     "data": {
      "text/html": [
       "<img src=\"https://dotnettutorials.net/wp-content/uploads/2020/06/word-image-71.png\"/>"
      ],
      "text/plain": [
       "<IPython.core.display.Image object>"
      ]
     },
     "execution_count": 3,
     "metadata": {},
     "output_type": "execute_result"
    }
   ],
   "source": [
    "Image(url= \"https://dotnettutorials.net/wp-content/uploads/2020/06/word-image-71.png\")"
   ]
  }
 ],
 "metadata": {
  "kernelspec": {
   "display_name": "Python 3 (ipykernel)",
   "language": "python",
   "name": "python3"
  },
  "language_info": {
   "codemirror_mode": {
    "name": "ipython",
    "version": 3
   },
   "file_extension": ".py",
   "mimetype": "text/x-python",
   "name": "python",
   "nbconvert_exporter": "python",
   "pygments_lexer": "ipython3",
   "version": "3.10.10"
  }
 },
 "nbformat": 4,
 "nbformat_minor": 5
}
