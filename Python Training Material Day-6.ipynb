{
 "cells": [
  {
   "cell_type": "markdown",
   "id": "d2679f84",
   "metadata": {},
   "source": [
    "# Generators in Python"
   ]
  },
  {
   "cell_type": "markdown",
   "id": "428c3b11",
   "metadata": {},
   "source": [
    "Prerequisites: Yield Keyword and Iterators There are two terms involved when we discuss generators.\n",
    "\n",
    "Generator-Function: A generator-function is defined like a normal function, but whenever it needs to generate a value, \n",
    "    it does so with the yield keyword rather than return. If the body of a def contains yield, \n",
    "    the function automatically becomes a generator function. \n",
    "    \n",
    "Generator-Object : Generator functions return a generator object. \n",
    "\n",
    "    Generator objects are used either by calling the next method on the generator object or \n",
    "    \n",
    "    Using the generator object in a “for in” loop (as shown in the above program). "
   ]
  },
  {
   "cell_type": "code",
   "execution_count": 7,
   "id": "f9bc338d",
   "metadata": {},
   "outputs": [
    {
     "data": {
      "text/html": [
       "<img src=\"https://www.scaler.com/topics/media/Fibonacci-Series-in-Java-768x622.webp\"/>"
      ],
      "text/plain": [
       "<IPython.core.display.Image object>"
      ]
     },
     "execution_count": 7,
     "metadata": {},
     "output_type": "execute_result"
    }
   ],
   "source": [
    "from IPython.display import Image\n",
    "from IPython.core.display import HTML\n",
    "Image(url= \"https://www.scaler.com/topics/media/Fibonacci-Series-in-Java-768x622.webp\")"
   ]
  },
  {
   "cell_type": "code",
   "execution_count": 2,
   "id": "9d73d2ea",
   "metadata": {},
   "outputs": [],
   "source": [
    "# A simple generator for Fibonacci Numbers\n",
    "def fib(limit):\n",
    "     \n",
    "    # Initialize first two Fibonacci Numbers\n",
    "    a, b = 0, 1\n",
    " \n",
    "    # One by one yield next Fibonacci Number\n",
    "    while a < limit:\n",
    "        yield a\n",
    "        a, b = b, a + b\n",
    " "
   ]
  },
  {
   "cell_type": "code",
   "execution_count": 3,
   "id": "a770e396",
   "metadata": {},
   "outputs": [],
   "source": [
    "# Create a generator object\n",
    "x = fib(5)"
   ]
  },
  {
   "cell_type": "code",
   "execution_count": 4,
   "id": "7fc80557",
   "metadata": {},
   "outputs": [
    {
     "name": "stdout",
     "output_type": "stream",
     "text": [
      "0\n",
      "1\n",
      "1\n",
      "2\n",
      "3\n"
     ]
    }
   ],
   "source": [
    "# Iterating over the generator object using next\n",
    "print(next(x)) # In Python 3, __next__()\n",
    "print(next(x))\n",
    "print(next(x))\n",
    "print(next(x))\n",
    "print(next(x))"
   ]
  },
  {
   "cell_type": "code",
   "execution_count": 5,
   "id": "b888d26b",
   "metadata": {},
   "outputs": [
    {
     "name": "stdout",
     "output_type": "stream",
     "text": [
      "\n",
      "Using for in loop\n",
      "0\n",
      "1\n",
      "1\n",
      "2\n",
      "3\n"
     ]
    }
   ],
   "source": [
    "# Iterating over the generator object using for\n",
    "# in loop.\n",
    "print(\"\\nUsing for in loop\")\n",
    "for i in fib(5):\n",
    "    print(i)"
   ]
  },
  {
   "cell_type": "markdown",
   "id": "38cb915d",
   "metadata": {},
   "source": [
    "# Python Classes and Objects"
   ]
  },
  {
   "cell_type": "markdown",
   "id": "44b6ebac",
   "metadata": {},
   "source": [
    "Python is an object oriented programming language.\n",
    "\n",
    "Almost everything in Python is an object, with its properties and methods.\n",
    "\n",
    "A Class is like an object constructor, or a \"blueprint\" for creating objects."
   ]
  },
  {
   "cell_type": "code",
   "execution_count": 8,
   "id": "c2cf27ea",
   "metadata": {},
   "outputs": [
    {
     "data": {
      "text/html": [
       "<img src=\"https://pynative.com/wp-content/uploads/2021/08/class_and_objects.jpg\"/>"
      ],
      "text/plain": [
       "<IPython.core.display.Image object>"
      ]
     },
     "execution_count": 8,
     "metadata": {},
     "output_type": "execute_result"
    }
   ],
   "source": [
    "Image(url= \"https://pynative.com/wp-content/uploads/2021/08/class_and_objects.jpg\")"
   ]
  },
  {
   "cell_type": "raw",
   "id": "988c6448",
   "metadata": {},
   "source": [
    "class ClassName:\n",
    "    # Statement\n",
    "    \n",
    "    \n",
    "obj = ClassName()\n",
    "print(obj.atrr)"
   ]
  },
  {
   "cell_type": "markdown",
   "id": "e969ab70",
   "metadata": {},
   "source": [
    "### Class Objects\n",
    "\n",
    "An Object is an instance of a Class. A class is like a blueprint while an instance is a copy of the class with actual values. \n",
    "It’s not an idea anymore, it’s an actual dog, like a dog of breed pug who’s seven years old. \n",
    "You can have many dogs to create many different instances, \n",
    "but without the class as a guide, you would be lost, not knowing what information is required.\n",
    "\n",
    "\n",
    "An object consists of : \n",
    "\n",
    "State: It is represented by the attributes of an object. It also reflects the properties of an object.\n",
    "\n",
    "Behaviour: It is represented by the methods of an object. It also reflects the response of an object to other objects.\n",
    "        \n",
    "Identity: It gives a unique name to an object and enables one object to interact with other objects."
   ]
  },
  {
   "cell_type": "code",
   "execution_count": 9,
   "id": "e3ea2058",
   "metadata": {},
   "outputs": [
    {
     "data": {
      "text/html": [
       "<img src=\"https://media.geeksforgeeks.org/wp-content/uploads/Blank-Diagram-Page-1-5.png\"/>"
      ],
      "text/plain": [
       "<IPython.core.display.Image object>"
      ]
     },
     "execution_count": 9,
     "metadata": {},
     "output_type": "execute_result"
    }
   ],
   "source": [
    "Image(url= \"https://media.geeksforgeeks.org/wp-content/uploads/Blank-Diagram-Page-1-5.png\")"
   ]
  },
  {
   "cell_type": "code",
   "execution_count": 10,
   "id": "2ee51a56",
   "metadata": {},
   "outputs": [
    {
     "data": {
      "text/html": [
       "<img src=\"https://media.geeksforgeeks.org/wp-content/uploads/Blank-Diagram-Page-1-3.png\"/>"
      ],
      "text/plain": [
       "<IPython.core.display.Image object>"
      ]
     },
     "execution_count": 10,
     "metadata": {},
     "output_type": "execute_result"
    }
   ],
   "source": [
    "Image(url= \"https://media.geeksforgeeks.org/wp-content/uploads/Blank-Diagram-Page-1-3.png\")"
   ]
  },
  {
   "cell_type": "code",
   "execution_count": 15,
   "id": "7f7ca3b6",
   "metadata": {},
   "outputs": [],
   "source": [
    "# Create a class named MyClass, with a property named x:\n",
    "\n",
    "class MyClass:\n",
    "  x = 5"
   ]
  },
  {
   "cell_type": "code",
   "execution_count": 13,
   "id": "722ca830",
   "metadata": {},
   "outputs": [
    {
     "name": "stdout",
     "output_type": "stream",
     "text": [
      "5\n"
     ]
    }
   ],
   "source": [
    "# Create an object named p1, and print the value of x:\n",
    "\n",
    "p1 = MyClass()\n",
    "print(p1.x)"
   ]
  },
  {
   "cell_type": "markdown",
   "id": "67149bc3",
   "metadata": {},
   "source": [
    "### The __init__() Function"
   ]
  },
  {
   "cell_type": "raw",
   "id": "3b9845d4",
   "metadata": {},
   "source": [
    "The examples above are classes and objects in their simplest form, and are not really useful in real life applications.\n",
    "\n",
    "To understand the meaning of classes we have to understand the built-in __init__() function.\n",
    "\n",
    "All classes have a function called __init__(), which is always executed when the class is being initiated.\n",
    "\n",
    "Use the __init__() function to assign values to object properties, or other operations that are necessary to \n",
    "do when the object is being created:"
   ]
  },
  {
   "cell_type": "code",
   "execution_count": 17,
   "id": "30bf83be",
   "metadata": {},
   "outputs": [
    {
     "name": "stdout",
     "output_type": "stream",
     "text": [
      "John\n",
      "36\n"
     ]
    }
   ],
   "source": [
    "# Create a class named Person, use the __init__() function to assign values for name and age:\n",
    "\n",
    "class Person:\n",
    "  def __init__(self, name, age):\n",
    "    self.name = name\n",
    "    self.age = age\n",
    "\n",
    "p1 = Person(\"John\", 36)\n",
    "\n",
    "print(p1.name)\n",
    "print(p1.age)"
   ]
  },
  {
   "cell_type": "markdown",
   "id": "074ea265",
   "metadata": {},
   "source": [
    "## Object Methods\n",
    "\n",
    "Objects can also contain methods. Methods in objects are functions that belong to the object.\n",
    "\n",
    "Let us create a method in the Person class:"
   ]
  },
  {
   "cell_type": "code",
   "execution_count": 20,
   "id": "4477db01",
   "metadata": {},
   "outputs": [
    {
     "name": "stdout",
     "output_type": "stream",
     "text": [
      "Hello my name is John\n"
     ]
    }
   ],
   "source": [
    "# Insert a function that prints a greeting, and execute it on the p1 object:\n",
    "\n",
    "class Person:\n",
    "  def __init__(self, name, age):\n",
    "    self.name = name\n",
    "    self.age = age\n",
    "\n",
    "  def myfunc(self):\n",
    "    print(\"Hello my name is \" + self.name)\n",
    "\n",
    "p1 = Person(\"John\", 36)\n",
    "p1.myfunc()"
   ]
  },
  {
   "cell_type": "markdown",
   "id": "8e5549b7",
   "metadata": {},
   "source": [
    "## The self Parameter\n",
    "\n",
    "The self parameter is a reference to the current instance of the class, and is used to access variables that belongs \n",
    "to the class.\n",
    "\n",
    "It does not have to be named self , you can call it whatever you like, but it has to be the first parameter of any \n",
    "function in the class:"
   ]
  },
  {
   "cell_type": "code",
   "execution_count": 22,
   "id": "8425e9ce",
   "metadata": {},
   "outputs": [
    {
     "name": "stdout",
     "output_type": "stream",
     "text": [
      "Hello my name is John\n"
     ]
    }
   ],
   "source": [
    "# Use the words mysillyobject and abc instead of self:\n",
    "\n",
    "class Person:\n",
    "  def __init__(mysillyobject, name, age):\n",
    "    mysillyobject.name = name\n",
    "    mysillyobject.age = age\n",
    "\n",
    "  def myfunc(abc):\n",
    "    print(\"Hello my name is \" + abc.name)\n",
    "\n",
    "p1 = Person(\"John\", 36)\n",
    "p1.myfunc()"
   ]
  },
  {
   "cell_type": "markdown",
   "id": "229905fc",
   "metadata": {},
   "source": [
    "### Modify Object Properties"
   ]
  },
  {
   "cell_type": "code",
   "execution_count": 23,
   "id": "f4756ee3",
   "metadata": {},
   "outputs": [],
   "source": [
    "# Set the age of p1 to 40:\n",
    "\n",
    "p1.age = 40"
   ]
  },
  {
   "cell_type": "code",
   "execution_count": 24,
   "id": "10fbcf97",
   "metadata": {},
   "outputs": [
    {
     "data": {
      "text/plain": [
       "40"
      ]
     },
     "execution_count": 24,
     "metadata": {},
     "output_type": "execute_result"
    }
   ],
   "source": [
    "p1.age"
   ]
  },
  {
   "cell_type": "markdown",
   "id": "6956db5e",
   "metadata": {},
   "source": [
    "### Delete Object Properties"
   ]
  },
  {
   "cell_type": "code",
   "execution_count": 25,
   "id": "1b8dbb0b",
   "metadata": {},
   "outputs": [],
   "source": [
    "# Delete the age property from the p1 object:\n",
    "\n",
    "del p1.age"
   ]
  },
  {
   "cell_type": "code",
   "execution_count": 26,
   "id": "8d23a22f",
   "metadata": {},
   "outputs": [
    {
     "ename": "AttributeError",
     "evalue": "'Person' object has no attribute 'age'",
     "output_type": "error",
     "traceback": [
      "\u001b[1;31m---------------------------------------------------------------------------\u001b[0m",
      "\u001b[1;31mAttributeError\u001b[0m                            Traceback (most recent call last)",
      "Cell \u001b[1;32mIn [26], line 1\u001b[0m\n\u001b[1;32m----> 1\u001b[0m \u001b[43mp1\u001b[49m\u001b[38;5;241;43m.\u001b[39;49m\u001b[43mage\u001b[49m\n",
      "\u001b[1;31mAttributeError\u001b[0m: 'Person' object has no attribute 'age'"
     ]
    }
   ],
   "source": [
    "p1.age"
   ]
  },
  {
   "cell_type": "markdown",
   "id": "ce906295",
   "metadata": {},
   "source": [
    "### Delete Objects"
   ]
  },
  {
   "cell_type": "code",
   "execution_count": 28,
   "id": "0cc7b10f",
   "metadata": {},
   "outputs": [],
   "source": [
    "# Delete the p1 object:\n",
    "\n",
    "del p1"
   ]
  },
  {
   "cell_type": "markdown",
   "id": "9baa133f",
   "metadata": {},
   "source": [
    "# Inheritance in Python"
   ]
  },
  {
   "cell_type": "markdown",
   "id": "6bf58cd4",
   "metadata": {},
   "source": [
    "It is a mechanism that allows you to create a hierarchy of classes that share a set of properties and methods \n",
    "by deriving a class from another class. \n",
    "Inheritance is the capability of one class to derive or inherit the properties from another class. \n",
    "\n",
    "Benefits of inheritance are:\n",
    "\n",
    "1. It represents real-world relationships well.\n",
    "2. It provides the reusability of a code. We don’t have to write the same code again and again. Also, it allows us to add more features to a class without modifying it.\n",
    "3. It is transitive in nature, which means that if class B inherits from another class A, then all the subclasses of B would automatically inherit from class A.\n",
    "4. Inheritance offers a simple, understandable model structure. \n",
    "5. Less development and maintenance expenses result from an inheritance. "
   ]
  },
  {
   "cell_type": "raw",
   "id": "caf76f7d",
   "metadata": {},
   "source": [
    "Python Inheritance Syntax:\n",
    "    \n",
    "Class BaseClass:\n",
    "    {Body}\n",
    "Class DerivedClass(BaseClass):\n",
    "    {Body}"
   ]
  },
  {
   "cell_type": "code",
   "execution_count": 30,
   "id": "92d7b1f2",
   "metadata": {},
   "outputs": [
    {
     "name": "stdout",
     "output_type": "stream",
     "text": [
      "Satyam 102\n"
     ]
    }
   ],
   "source": [
    "# A Python program to demonstrate inheritance\n",
    " \n",
    "class Person(object):\n",
    "   \n",
    "  # Constructor\n",
    "  def __init__(self, name, id):\n",
    "    self.name = name\n",
    "    self.id = id\n",
    " \n",
    "  # To check if this person is an employee\n",
    "  def Display(self):\n",
    "    print(self.name, self.id)\n",
    " \n",
    " \n",
    "# Driver code\n",
    "emp = Person(\"Satyam\", 102) # An Object of Person\n",
    "emp.Display()"
   ]
  },
  {
   "cell_type": "code",
   "execution_count": 35,
   "id": "4078d0a8",
   "metadata": {},
   "outputs": [
    {
     "name": "stdout",
     "output_type": "stream",
     "text": [
      "Mayank 103\n",
      "Emp class called -  Mayank\n"
     ]
    }
   ],
   "source": [
    "# Creating a Child Class\n",
    "\n",
    "# Here Emp is another class which is going to inherit the properties of the Person class(base class).\n",
    "\n",
    "class Emp(Person):\n",
    "   \n",
    "  def Print(self_x):\n",
    "    print(\"Emp class called - \" , self_x.name)\n",
    "     \n",
    "Emp_details = Emp(\"Mayank\", 103)\n",
    " \n",
    "# calling parent class function\n",
    "Emp_details.Display()\n",
    " \n",
    "# Calling child class function\n",
    "Emp_details.Print()"
   ]
  },
  {
   "cell_type": "code",
   "execution_count": 37,
   "id": "44c834d5",
   "metadata": {},
   "outputs": [
    {
     "name": "stdout",
     "output_type": "stream",
     "text": [
      "Geek1 False\n",
      "Geek2 True\n"
     ]
    }
   ],
   "source": [
    "# Example - 2\n",
    "\n",
    "# A Python program to demonstrate inheritance\n",
    " \n",
    "# Base or Super class. Note object in bracket.\n",
    "# (Generally, object is made ancestor of all classes)\n",
    "# In Python 3.x \"class Person\" is\n",
    "# equivalent to \"class Person(object)\"\n",
    " \n",
    " \n",
    "class Person(object):\n",
    " \n",
    "    # Constructor\n",
    "    def __init__(self, name):\n",
    "        self.name = name\n",
    " \n",
    "    # To get name\n",
    "    def getName(self):\n",
    "        return self.name\n",
    " \n",
    "    # To check if this person is an employee\n",
    "    def isEmployee(self):\n",
    "        return False\n",
    " \n",
    " \n",
    "# Inherited or Subclass (Note Person in bracket)\n",
    "class Employee(Person):\n",
    " \n",
    "    # Here we return true\n",
    "    def isEmployee(self):\n",
    "        return True\n",
    " \n",
    " \n",
    "# Driver code\n",
    "emp = Person(\"Geek1\")  # An Object of Person\n",
    "print(emp.getName(), emp.isEmployee())\n",
    " \n",
    "emp = Employee(\"Geek2\")  # An Object of Employee\n",
    "print(emp.getName(), emp.isEmployee())"
   ]
  },
  {
   "cell_type": "code",
   "execution_count": 38,
   "id": "60342302",
   "metadata": {},
   "outputs": [
    {
     "data": {
      "text/html": [
       "<img src=\"https://miro.medium.com/v2/resize:fit:700/1*2YHJhUwaHB82ZAF0sXUmyg.jpeg\"/>"
      ],
      "text/plain": [
       "<IPython.core.display.Image object>"
      ]
     },
     "execution_count": 38,
     "metadata": {},
     "output_type": "execute_result"
    }
   ],
   "source": [
    "Image(url= \"https://miro.medium.com/v2/resize:fit:700/1*2YHJhUwaHB82ZAF0sXUmyg.jpeg\")"
   ]
  },
  {
   "cell_type": "markdown",
   "id": "7f08313d",
   "metadata": {},
   "source": [
    "# Encapsulation in Python"
   ]
  },
  {
   "cell_type": "markdown",
   "id": "c8c32121",
   "metadata": {},
   "source": [
    "Consider a real-life example of encapsulation, in a company, there are different sections like the accounts section, finance section, sales section etc. The finance section handles all the financial transactions and keeps records of all the data related to finance. Similarly, the sales section handles all the sales-related activities and keeps records of all the sales. Now there may arise a situation when due to some reason an official from the finance section needs all the data about sales in a particular month. In this case, he is not allowed to directly access the data of the sales section. He will first have to contact some other officer in the sales section and then request him to give the particular data. This is what encapsulation is. Here the data of the sales section and the employees that can manipulate them are wrapped under a single name “sales section”. Using encapsulation also hides the data. In this example, the data of the sections like sales, finance, or accounts are hidden from any other section."
   ]
  },
  {
   "cell_type": "markdown",
   "id": "0d19fdad",
   "metadata": {},
   "source": [
    "Encapsulation is one of the key concepts of object-oriented languages like Python, Java, etc. Encapsulation is used to restrict access to methods and variables. In encapsulation, code and data are wrapped together within a single unit from being modified by accident.\n",
    "\n",
    "Encapsulation is a mechanism of wrapping the data (variables) and code acting on the data (methods) together as a single unit. In encapsulation, the variables of a class will be hidden from other classes, and can be accessed only through the methods of their current class."
   ]
  },
  {
   "cell_type": "markdown",
   "id": "53441456",
   "metadata": {},
   "source": [
    "### Protected members\n",
    "\n",
    "Protected members (in C++ and JAVA) are those members of the class that cannot be accessed outside the class but can be accessed from within the class and its subclasses. To accomplish this in Python, just follow the convention by prefixing the name of the member by a single underscore “_”.\n",
    "\n",
    "Although the protected variable can be accessed out of the class as well as in the derived class (modified too in derived class), it is customary(convention not a rule) to not access the protected out the class body."
   ]
  },
  {
   "cell_type": "code",
   "execution_count": 39,
   "id": "61971b1c",
   "metadata": {},
   "outputs": [
    {
     "name": "stdout",
     "output_type": "stream",
     "text": [
      "Calling protected member of base class:  2\n",
      "Calling modified protected member outside class:  3\n",
      "Accessing protected member of obj1:  3\n",
      "Accessing protected member of obj2:  2\n"
     ]
    }
   ],
   "source": [
    "# Python program to\n",
    "# demonstrate protected members\n",
    " \n",
    "# Creating a base class\n",
    "class Base:\n",
    "    def __init__(self):\n",
    " \n",
    "        # Protected member\n",
    "        self._a = 2\n",
    " \n",
    "# Creating a derived class\n",
    "class Derived(Base):\n",
    "    def __init__(self):\n",
    " \n",
    "        # Calling constructor of\n",
    "        # Base class\n",
    "        Base.__init__(self)\n",
    "        print(\"Calling protected member of base class: \",\n",
    "              self._a)\n",
    " \n",
    "        # Modify the protected variable:\n",
    "        self._a = 3\n",
    "        print(\"Calling modified protected member outside class: \",\n",
    "              self._a)\n",
    " \n",
    " \n",
    "obj1 = Derived()\n",
    " \n",
    "obj2 = Base()\n",
    " \n",
    "# Calling protected member\n",
    "# Can be accessed but should not be done due to convention\n",
    "print(\"Accessing protected member of obj1: \", obj1._a)\n",
    " \n",
    "# Accessing the protected variable outside\n",
    "print(\"Accessing protected member of obj2: \", obj2._a)"
   ]
  },
  {
   "cell_type": "markdown",
   "id": "90672857",
   "metadata": {},
   "source": [
    "### Private members\n",
    "\n",
    "Private members are similar to protected members, the difference is that the class members declared private should neither be accessed outside the class nor by any base class. In Python, there is no existence of Private instance variables that cannot be accessed except inside a class.\n",
    "\n",
    "However, to define a private member prefix the member name with double underscore “__”."
   ]
  },
  {
   "cell_type": "code",
   "execution_count": 43,
   "id": "f090c42d",
   "metadata": {},
   "outputs": [
    {
     "name": "stdout",
     "output_type": "stream",
     "text": [
      "GeeksforGeeks\n"
     ]
    }
   ],
   "source": [
    "# Python program to\n",
    "# demonstrate private members\n",
    " \n",
    "# Creating a Base class\n",
    " \n",
    " \n",
    "class Base:\n",
    "    def __init__(self):\n",
    "        self.a = \"GeeksforGeeks\"\n",
    "        self.__c = \"GeeksforGeeks\"\n",
    " \n",
    "# Creating a derived class\n",
    "class Derived(Base):\n",
    "    def __init__(self):\n",
    " \n",
    "        # Calling constructor of\n",
    "        # Base class\n",
    "        Base.__init__(self)\n",
    "        print(\"Calling private member of base class: \")\n",
    "        print(self.__c)\n",
    " \n",
    " \n",
    "# Driver code\n",
    "obj1 = Base()\n",
    "print(obj1.a)\n",
    "\n",
    "# print(obj1.c)\n",
    "\n",
    "# obj2 = Derived()\n",
    " \n",
    "# Uncommenting print(obj1.c) will\n",
    "# raise an AttributeError\n",
    " \n",
    "# Uncommenting obj2 = Derived() will\n",
    "# also raise an AtrributeError as\n",
    "# private member of base class\n",
    "# is called inside derived class"
   ]
  },
  {
   "cell_type": "markdown",
   "id": "a71e403b",
   "metadata": {},
   "source": [
    "# Polymorphism in Python"
   ]
  },
  {
   "cell_type": "markdown",
   "id": "c6ec7feb",
   "metadata": {},
   "source": [
    "Polymorphism defines the ability to take different forms. Polymorphism in Python allows us to define methods in the child class with the same name as defined in their parent class."
   ]
  },
  {
   "cell_type": "code",
   "execution_count": 45,
   "id": "8084bf8c",
   "metadata": {},
   "outputs": [
    {
     "name": "stdout",
     "output_type": "stream",
     "text": [
      "New Delhi is the capital of India.\n",
      "Hindi is the most widely spoken language of India.\n",
      "India is a developing country.\n",
      "Washington, D.C. is the capital of USA.\n",
      "English is the primary language of USA.\n",
      "USA is a developed country.\n"
     ]
    }
   ],
   "source": [
    "# Same Function name in two different classes and using both the classes at the same time\n",
    "\n",
    "class India():\n",
    "    def capital(self):\n",
    "        print(\"New Delhi is the capital of India.\")\n",
    " \n",
    "    def language(self):\n",
    "        print(\"Hindi is the most widely spoken language of India.\")\n",
    " \n",
    "    def type(self):\n",
    "        print(\"India is a developing country.\")\n",
    " \n",
    "class USA():\n",
    "    def capital(self):\n",
    "        print(\"Washington, D.C. is the capital of USA.\")\n",
    " \n",
    "    def language(self):\n",
    "        print(\"English is the primary language of USA.\")\n",
    " \n",
    "    def type(self):\n",
    "        print(\"USA is a developed country.\")\n",
    " \n",
    "obj_ind = India()\n",
    "obj_usa = USA()\n",
    "for country in (obj_ind, obj_usa):\n",
    "    country.capital()\n",
    "    country.language()\n",
    "    country.type()"
   ]
  },
  {
   "cell_type": "markdown",
   "id": "78e8110a",
   "metadata": {},
   "source": [
    "# Logging in Python"
   ]
  },
  {
   "cell_type": "markdown",
   "id": "2ea14a4e",
   "metadata": {},
   "source": [
    "Logging is a means of tracking events that happen when some software runs. Logging is important for software developing, debugging, and running. If you don’t have any logging record and your program crashes, there are very few chances that you detect the cause of the problem. And if you detect the cause, it will consume a lot of time. With logging, you can leave a trail of breadcrumbs so that if something goes wrong, we can determine the cause of the problem. "
   ]
  },
  {
   "cell_type": "markdown",
   "id": "c0724ef3",
   "metadata": {},
   "source": [
    "#### Why Printing is not a good option?\n",
    "\n",
    "Some developers use the concept of printing the statements to validate if the statements are executed correctly or some error has occurred. But printing is not a good idea. It may solve your issues for simple scripts but for complex scripts, the printing approach will fail.\n",
    "Python has a built-in module logging which allows writing status messages to a file or any other output streams. The file can contain the information on which part of the code is executed and what problems have been arisen. "
   ]
  },
  {
   "cell_type": "markdown",
   "id": "d9f7bb30",
   "metadata": {},
   "source": [
    "#### Levels of Log Message\n",
    "\n",
    "There are five built-in levels of the log message.  \n",
    "\n",
    "\n",
    "Debug : These are used to give Detailed information, typically of interest only when diagnosing problems.\n",
    "\n",
    "Info : These are used to confirm that things are working as expected\n",
    "\n",
    "Warning : These are used an indication that something unexpected happened, or is indicative of some problem in the near future\n",
    "\n",
    "Error : This tells that due to a more serious problem, the software has not been able to perform some function\n",
    "\n",
    "Critical : This tells serious error, indicating that the program itself may be unable to continue running"
   ]
  },
  {
   "cell_type": "raw",
   "id": "140d7ac8",
   "metadata": {},
   "source": [
    "There are several logger objects offered by the module itself.  \n",
    "\n",
    "Logger.info(msg) : This will log a message with level INFO on this logger.\n",
    "Logger.warning(msg) : This will log a message with a level WARNING on this logger.\n",
    "Logger.error(msg) : This will log a message with level ERROR on this logger.\n",
    "Logger.critical(msg) : This will log a message with level CRITICAL on this logger.\n",
    "Logger.log(lvl,msg) : This will Logs a message with integer level lvl on this logger.\n",
    "Logger.exception(msg) : This will log a message with level ERROR on this logger.\n",
    "Logger.setLevel(lvl) : This function sets the threshold of this logger to lvl. This means that all the messages below this level will be ignored.\n",
    "Logger.addFilter(filt) : This adds a specific filter filt into this logger.\n",
    "Logger.removeFilter(filt) : This removes a specific filter filt into this logger.\n",
    "Logger.filter(record) : This method applies the logger’s filter to the record provided and returns True if the record is to be processed. Else, it will return False.\n",
    "Logger.addHandler(hdlr) : This adds a specific handler hdlr to this logger.\n",
    "Logger.removeHandler(hdlr) : This removes a specific handler hdlr into this logger.\n",
    "Logger.hasHandlers() : This checks if the logger has any handler configured or not. "
   ]
  },
  {
   "cell_type": "code",
   "execution_count": 47,
   "id": "adcf4c32",
   "metadata": {},
   "outputs": [],
   "source": [
    "# importing module\n",
    "import logging\n",
    " \n",
    "# Create and configure logger\n",
    "logging.basicConfig(filename=\"newfile.log\",\n",
    "                    format='%(asctime)s %(message)s',\n",
    "                    filemode='w')\n",
    " \n",
    "# Creating an object\n",
    "logger = logging.getLogger()\n",
    " \n",
    "# Setting the threshold of logger to DEBUG\n",
    "logger.setLevel(logging.DEBUG)\n",
    " \n",
    "# Test messages\n",
    "logger.debug(\"Harmless debug Message\")\n",
    "logger.info(\"Just an information\")\n",
    "logger.warning(\"Its a Warning\")\n",
    "logger.error(\"Did you try to divide by zero\")\n",
    "logger.critical(\"Internet is down\")"
   ]
  },
  {
   "cell_type": "code",
   "execution_count": 57,
   "id": "f94c140e",
   "metadata": {},
   "outputs": [],
   "source": [
    "# Example of Logging in Python Code"
   ]
  },
  {
   "cell_type": "code",
   "execution_count": 56,
   "id": "1b86f87c",
   "metadata": {},
   "outputs": [
    {
     "name": "stderr",
     "output_type": "stream",
     "text": [
      "2023-03-26 01:06:54,295|INFO|nadam.iter|Iteration 0 variable 0: mhat=-0.597442 nhat=0.110055\n",
      "2023-03-26 01:06:54,295|INFO|nadam.iter|Iteration 0 variable 0: mhat=-0.597442 nhat=0.110055\n",
      "2023-03-26 01:06:54,298|INFO|nadam.iter|Iteration 0 variable 1: mhat=1.586336 nhat=0.775909\n",
      "2023-03-26 01:06:54,298|INFO|nadam.iter|Iteration 0 variable 1: mhat=1.586336 nhat=0.775909\n",
      "2023-03-26 01:06:54,301|INFO|nadam|>0 f([-0.12993798  0.40463097]) = 0.18061\n",
      "2023-03-26 01:06:54,301|INFO|nadam|>0 f([-0.12993798  0.40463097]) = 0.18061\n",
      "2023-03-26 01:06:54,303|INFO|nadam.iter|Iteration 1 variable 0: mhat=-0.680200 nhat=0.177413\n",
      "2023-03-26 01:06:54,303|INFO|nadam.iter|Iteration 1 variable 0: mhat=-0.680200 nhat=0.177413\n",
      "2023-03-26 01:06:54,309|INFO|nadam.iter|Iteration 1 variable 1: mhat=2.020702 nhat=1.429384\n",
      "2023-03-26 01:06:54,309|INFO|nadam.iter|Iteration 1 variable 1: mhat=2.020702 nhat=1.429384\n",
      "2023-03-26 01:06:54,313|INFO|nadam|>1 f([-0.09764012  0.37082777]) = 0.14705\n",
      "2023-03-26 01:06:54,313|INFO|nadam|>1 f([-0.09764012  0.37082777]) = 0.14705\n",
      "2023-03-26 01:06:54,316|INFO|nadam.iter|Iteration 2 variable 0: mhat=-0.687764 nhat=0.215332\n",
      "2023-03-26 01:06:54,316|INFO|nadam.iter|Iteration 2 variable 0: mhat=-0.687764 nhat=0.215332\n",
      "2023-03-26 01:06:54,319|INFO|nadam.iter|Iteration 2 variable 1: mhat=2.304132 nhat=1.977457\n",
      "2023-03-26 01:06:54,319|INFO|nadam.iter|Iteration 2 variable 1: mhat=2.304132 nhat=1.977457\n",
      "2023-03-26 01:06:54,328|INFO|nadam|>2 f([-0.06799761  0.33805721]) = 0.11891\n",
      "2023-03-26 01:06:54,328|INFO|nadam|>2 f([-0.06799761  0.33805721]) = 0.11891\n",
      "2023-03-26 01:06:54,342|INFO|nadam.iter|Iteration 3 variable 0: mhat=-0.638778 nhat=0.233593\n",
      "2023-03-26 01:06:54,342|INFO|nadam.iter|Iteration 3 variable 0: mhat=-0.638778 nhat=0.233593\n",
      "2023-03-26 01:06:54,353|INFO|nadam.iter|Iteration 3 variable 1: mhat=2.466987 nhat=2.432153\n",
      "2023-03-26 01:06:54,353|INFO|nadam.iter|Iteration 3 variable 1: mhat=2.466987 nhat=2.432153\n",
      "2023-03-26 01:06:54,366|INFO|nadam|>3 f([-0.04156438  0.30641976]) = 0.09562\n",
      "2023-03-26 01:06:54,366|INFO|nadam|>3 f([-0.04156438  0.30641976]) = 0.09562\n",
      "2023-03-26 01:06:54,376|INFO|nadam.iter|Iteration 4 variable 0: mhat=-0.551858 nhat=0.240263\n",
      "2023-03-26 01:06:54,376|INFO|nadam.iter|Iteration 4 variable 0: mhat=-0.551858 nhat=0.240263\n",
      "2023-03-26 01:06:54,382|INFO|nadam.iter|Iteration 4 variable 1: mhat=2.535809 nhat=2.804918\n",
      "2023-03-26 01:06:54,382|INFO|nadam.iter|Iteration 4 variable 1: mhat=2.535809 nhat=2.804918\n",
      "2023-03-26 01:06:54,385|INFO|nadam|>4 f([-0.01904719  0.27613762]) = 0.07661\n",
      "2023-03-26 01:06:54,385|INFO|nadam|>4 f([-0.01904719  0.27613762]) = 0.07661\n",
      "2023-03-26 01:06:54,388|INFO|nadam.iter|Iteration 5 variable 0: mhat=-0.443553 nhat=0.241472\n",
      "2023-03-26 01:06:54,388|INFO|nadam.iter|Iteration 5 variable 0: mhat=-0.443553 nhat=0.241472\n",
      "2023-03-26 01:06:54,397|INFO|nadam.iter|Iteration 5 variable 1: mhat=2.532471 nhat=3.106816\n",
      "2023-03-26 01:06:54,397|INFO|nadam.iter|Iteration 5 variable 1: mhat=2.532471 nhat=3.106816\n",
      "2023-03-26 01:06:54,400|INFO|nadam|>5 f([-0.00099448  0.24740225]) = 0.06121\n",
      "2023-03-26 01:06:54,400|INFO|nadam|>5 f([-0.00099448  0.24740225]) = 0.06121\n",
      "2023-03-26 01:06:54,402|INFO|nadam.iter|Iteration 6 variable 0: mhat=-0.327947 nhat=0.241235\n",
      "2023-03-26 01:06:54,402|INFO|nadam.iter|Iteration 6 variable 0: mhat=-0.327947 nhat=0.241235\n",
      "2023-03-26 01:06:54,406|INFO|nadam.iter|Iteration 6 variable 1: mhat=2.474805 nhat=3.348296\n",
      "2023-03-26 01:06:54,406|INFO|nadam.iter|Iteration 6 variable 1: mhat=2.474805 nhat=3.348296\n",
      "2023-03-26 01:06:54,415|INFO|nadam|>6 f([0.01235961 0.22035276]) = 0.04871\n",
      "2023-03-26 01:06:54,415|INFO|nadam|>6 f([0.01235961 0.22035276]) = 0.04871\n",
      "2023-03-26 01:06:54,418|INFO|nadam.iter|Iteration 7 variable 0: mhat=-0.216272 nhat=0.241604\n",
      "2023-03-26 01:06:54,418|INFO|nadam.iter|Iteration 7 variable 0: mhat=-0.216272 nhat=0.241604\n",
      "2023-03-26 01:06:54,420|INFO|nadam.iter|Iteration 7 variable 1: mhat=2.377270 nhat=3.538974\n",
      "2023-03-26 01:06:54,420|INFO|nadam.iter|Iteration 7 variable 1: mhat=2.377270 nhat=3.538974\n",
      "2023-03-26 01:06:54,420|INFO|nadam|>7 f([0.02115952 0.195079  ]) = 0.03850\n",
      "2023-03-26 01:06:54,420|INFO|nadam|>7 f([0.02115952 0.195079  ]) = 0.03850\n",
      "2023-03-26 01:06:54,420|INFO|nadam.iter|Iteration 8 variable 0: mhat=-0.116619 nhat=0.243152\n",
      "2023-03-26 01:06:54,420|INFO|nadam.iter|Iteration 8 variable 0: mhat=-0.116619 nhat=0.243152\n",
      "2023-03-26 01:06:54,437|INFO|nadam.iter|Iteration 8 variable 1: mhat=2.251536 nhat=3.687506\n",
      "2023-03-26 01:06:54,437|INFO|nadam.iter|Iteration 8 variable 1: mhat=2.251536 nhat=3.687506\n",
      "2023-03-26 01:06:54,454|INFO|nadam|>8 f([0.02588951 0.17162902]) = 0.03013\n",
      "2023-03-26 01:06:54,454|INFO|nadam|>8 f([0.02588951 0.17162902]) = 0.03013\n",
      "2023-03-26 01:06:54,469|INFO|nadam.iter|Iteration 9 variable 0: mhat=-0.033948 nhat=0.245587\n",
      "2023-03-26 01:06:54,469|INFO|nadam.iter|Iteration 9 variable 0: mhat=-0.033948 nhat=0.245587\n",
      "2023-03-26 01:06:54,485|INFO|nadam.iter|Iteration 9 variable 1: mhat=2.106967 nhat=3.801527\n",
      "2023-03-26 01:06:54,485|INFO|nadam.iter|Iteration 9 variable 1: mhat=2.106967 nhat=3.801527\n",
      "2023-03-26 01:06:54,500|INFO|nadam|>9 f([0.02725958 0.15001633]) = 0.02325\n",
      "2023-03-26 01:06:54,500|INFO|nadam|>9 f([0.02725958 0.15001633]) = 0.02325\n",
      "2023-03-26 01:06:54,502|INFO|nadam.iter|Iteration 10 variable 0: mhat=0.029553 nhat=0.248311\n",
      "2023-03-26 01:06:54,502|INFO|nadam.iter|Iteration 10 variable 0: mhat=0.029553 nhat=0.248311\n",
      "2023-03-26 01:06:54,505|INFO|nadam.iter|Iteration 10 variable 1: mhat=1.951026 nhat=3.887655\n",
      "2023-03-26 01:06:54,505|INFO|nadam.iter|Iteration 10 variable 1: mhat=1.951026 nhat=3.887655\n",
      "2023-03-26 01:06:54,529|INFO|nadam|>10 f([0.02607345 0.13022618]) = 0.01764\n",
      "2023-03-26 01:06:54,529|INFO|nadam|>10 f([0.02607345 0.13022618]) = 0.01764\n",
      "2023-03-26 01:06:54,548|INFO|nadam.iter|Iteration 11 variable 0: mhat=0.073891 nhat=0.250779\n",
      "2023-03-26 01:06:54,548|INFO|nadam.iter|Iteration 11 variable 0: mhat=0.073891 nhat=0.250779\n",
      "2023-03-26 01:06:54,550|INFO|nadam.iter|Iteration 11 variable 1: mhat=1.789609 nhat=3.951535\n",
      "2023-03-26 01:06:54,550|INFO|nadam.iter|Iteration 11 variable 1: mhat=1.789609 nhat=3.951535\n",
      "2023-03-26 01:06:54,556|INFO|nadam|>11 f([0.02312239 0.11222068]) = 0.01313\n",
      "2023-03-26 01:06:54,556|INFO|nadam|>11 f([0.02312239 0.11222068]) = 0.01313\n",
      "2023-03-26 01:06:54,565|INFO|nadam.iter|Iteration 12 variable 0: mhat=0.100636 nhat=0.252664\n",
      "2023-03-26 01:06:54,565|INFO|nadam.iter|Iteration 12 variable 0: mhat=0.100636 nhat=0.252664\n",
      "2023-03-26 01:06:54,567|INFO|nadam.iter|Iteration 12 variable 1: mhat=1.627320 nhat=3.997907\n",
      "2023-03-26 01:06:54,567|INFO|nadam.iter|Iteration 12 variable 1: mhat=1.627320 nhat=3.997907\n",
      "2023-03-26 01:06:54,569|INFO|nadam|>12 f([0.01911823 0.09594322]) = 0.00957\n",
      "2023-03-26 01:06:54,569|INFO|nadam|>12 f([0.01911823 0.09594322]) = 0.00957\n",
      "2023-03-26 01:06:54,572|INFO|nadam.iter|Iteration 13 variable 0: mhat=0.112339 nhat=0.253872\n",
      "2023-03-26 01:06:54,572|INFO|nadam.iter|Iteration 13 variable 0: mhat=0.112339 nhat=0.253872\n",
      "2023-03-26 01:06:54,574|INFO|nadam.iter|Iteration 13 variable 1: mhat=1.467698 nhat=4.030693\n",
      "2023-03-26 01:06:54,574|INFO|nadam.iter|Iteration 13 variable 1: mhat=1.467698 nhat=4.030693\n",
      "2023-03-26 01:06:54,576|INFO|nadam|>13 f([0.01465908 0.08132223]) = 0.00683\n",
      "2023-03-26 01:06:54,576|INFO|nadam|>13 f([0.01465908 0.08132223]) = 0.00683\n",
      "2023-03-26 01:06:54,587|INFO|nadam.iter|Iteration 14 variable 0: mhat=0.112055 nhat=0.254477\n",
      "2023-03-26 01:06:54,587|INFO|nadam.iter|Iteration 14 variable 0: mhat=0.112055 nhat=0.254477\n",
      "2023-03-26 01:06:54,588|INFO|nadam.iter|Iteration 14 variable 1: mhat=1.313409 nhat=4.053089\n",
      "2023-03-26 01:06:54,588|INFO|nadam.iter|Iteration 14 variable 1: mhat=1.313409 nhat=4.053089\n",
      "2023-03-26 01:06:54,604|INFO|nadam|>14 f([0.0102165  0.06827443]) = 0.00477\n",
      "2023-03-26 01:06:54,604|INFO|nadam|>14 f([0.0102165  0.06827443]) = 0.00477\n",
      "2023-03-26 01:06:54,619|INFO|nadam.iter|Iteration 15 variable 0: mhat=0.102968 nhat=0.254640\n",
      "2023-03-26 01:06:54,619|INFO|nadam.iter|Iteration 15 variable 0: mhat=0.102968 nhat=0.254640\n",
      "2023-03-26 01:06:54,626|INFO|nadam.iter|Iteration 15 variable 1: mhat=1.166400 nhat=4.067663\n",
      "2023-03-26 01:06:54,626|INFO|nadam.iter|Iteration 15 variable 1: mhat=1.166400 nhat=4.067663\n"
     ]
    },
    {
     "name": "stderr",
     "output_type": "stream",
     "text": [
      "2023-03-26 01:06:54,628|INFO|nadam|>15 f([0.00613546 0.05670785]) = 0.00325\n",
      "2023-03-26 01:06:54,628|INFO|nadam|>15 f([0.00613546 0.05670785]) = 0.00325\n",
      "2023-03-26 01:06:54,632|INFO|nadam.iter|Iteration 16 variable 0: mhat=0.088116 nhat=0.254536\n",
      "2023-03-26 01:06:54,632|INFO|nadam.iter|Iteration 16 variable 0: mhat=0.088116 nhat=0.254536\n",
      "2023-03-26 01:06:54,632|INFO|nadam.iter|Iteration 16 variable 1: mhat=1.028029 nhat=4.076445\n",
      "2023-03-26 01:06:54,632|INFO|nadam.iter|Iteration 16 variable 1: mhat=1.028029 nhat=4.076445\n",
      "2023-03-26 01:06:54,632|INFO|nadam|>16 f([0.00264236 0.04652441]) = 0.00217\n",
      "2023-03-26 01:06:54,632|INFO|nadam|>16 f([0.00264236 0.04652441]) = 0.00217\n",
      "2023-03-26 01:06:54,648|INFO|nadam.iter|Iteration 17 variable 0: mhat=0.070189 nhat=0.254309\n",
      "2023-03-26 01:06:54,648|INFO|nadam.iter|Iteration 17 variable 0: mhat=0.070189 nhat=0.254309\n",
      "2023-03-26 01:06:54,668|INFO|nadam.iter|Iteration 17 variable 1: mhat=0.899179 nhat=4.081018\n",
      "2023-03-26 01:06:54,668|INFO|nadam.iter|Iteration 17 variable 1: mhat=0.899179 nhat=4.081018\n",
      "2023-03-26 01:06:54,679|INFO|nadam|>17 f([-0.00014129  0.03762233]) = 0.00142\n",
      "2023-03-26 01:06:54,679|INFO|nadam|>17 f([-0.00014129  0.03762233]) = 0.00142\n",
      "2023-03-26 01:06:54,683|INFO|nadam.iter|Iteration 18 variable 0: mhat=0.051414 nhat=0.254055\n",
      "2023-03-26 01:06:54,683|INFO|nadam.iter|Iteration 18 variable 0: mhat=0.051414 nhat=0.254055\n",
      "2023-03-26 01:06:54,693|INFO|nadam.iter|Iteration 18 variable 1: mhat=0.780344 nhat=4.082593\n",
      "2023-03-26 01:06:54,693|INFO|nadam.iter|Iteration 18 variable 1: mhat=0.780344 nhat=4.082593\n",
      "2023-03-26 01:06:54,696|INFO|nadam|>18 f([-0.00218139  0.02989822]) = 0.00090\n",
      "2023-03-26 01:06:54,696|INFO|nadam|>18 f([-0.00218139  0.02989822]) = 0.00090\n",
      "2023-03-26 01:06:54,696|INFO|nadam.iter|Iteration 19 variable 0: mhat=0.033505 nhat=0.253820\n",
      "2023-03-26 01:06:54,696|INFO|nadam.iter|Iteration 19 variable 0: mhat=0.033505 nhat=0.253820\n",
      "2023-03-26 01:06:54,713|INFO|nadam.iter|Iteration 19 variable 1: mhat=0.671713 nhat=4.082083\n",
      "2023-03-26 01:06:54,713|INFO|nadam.iter|Iteration 19 variable 1: mhat=0.671713 nhat=4.082083\n",
      "2023-03-26 01:06:54,728|INFO|nadam|>19 f([-0.00351146  0.02324897]) = 0.00055\n",
      "2023-03-26 01:06:54,728|INFO|nadam|>19 f([-0.00351146  0.02324897]) = 0.00055\n",
      "2023-03-26 01:06:54,733|INFO|nadam.iter|Iteration 20 variable 0: mhat=0.017653 nhat=0.253615\n",
      "2023-03-26 01:06:54,733|INFO|nadam.iter|Iteration 20 variable 0: mhat=0.017653 nhat=0.253615\n",
      "2023-03-26 01:06:54,735|INFO|nadam.iter|Iteration 20 variable 1: mhat=0.573230 nhat=4.080161\n",
      "2023-03-26 01:06:54,735|INFO|nadam.iter|Iteration 20 variable 1: mhat=0.573230 nhat=4.080161\n",
      "2023-03-26 01:06:54,746|INFO|nadam|>20 f([-0.00421251  0.01757326]) = 0.00033\n",
      "2023-03-26 01:06:54,746|INFO|nadam|>20 f([-0.00421251  0.01757326]) = 0.00033\n",
      "2023-03-26 01:06:54,749|INFO|nadam.iter|Iteration 21 variable 0: mhat=0.004575 nhat=0.253432\n",
      "2023-03-26 01:06:54,749|INFO|nadam.iter|Iteration 21 variable 0: mhat=0.004575 nhat=0.253432\n",
      "2023-03-26 01:06:54,749|INFO|nadam.iter|Iteration 21 variable 1: mhat=0.484649 nhat=4.077315\n",
      "2023-03-26 01:06:54,749|INFO|nadam.iter|Iteration 21 variable 1: mhat=0.484649 nhat=4.077315\n",
      "2023-03-26 01:06:54,767|INFO|nadam|>21 f([-0.00439429  0.01277294]) = 0.00018\n",
      "2023-03-26 01:06:54,767|INFO|nadam|>21 f([-0.00439429  0.01277294]) = 0.00018\n",
      "2023-03-26 01:06:54,784|INFO|nadam.iter|Iteration 22 variable 0: mhat=-0.005419 nhat=0.253256\n",
      "2023-03-26 01:06:54,784|INFO|nadam.iter|Iteration 22 variable 0: mhat=-0.005419 nhat=0.253256\n",
      "2023-03-26 01:06:54,790|INFO|nadam.iter|Iteration 22 variable 1: mhat=0.405585 nhat=4.073889\n",
      "2023-03-26 01:06:54,790|INFO|nadam.iter|Iteration 22 variable 1: mhat=0.405585 nhat=4.073889\n",
      "2023-03-26 01:06:54,798|INFO|nadam|>22 f([-0.00417892  0.00875404]) = 0.00009\n",
      "2023-03-26 01:06:54,798|INFO|nadam|>22 f([-0.00417892  0.00875404]) = 0.00009\n",
      "2023-03-26 01:06:54,800|INFO|nadam.iter|Iteration 23 variable 0: mhat=-0.012349 nhat=0.253073\n",
      "2023-03-26 01:06:54,800|INFO|nadam.iter|Iteration 23 variable 0: mhat=-0.012349 nhat=0.253073\n",
      "2023-03-26 01:06:54,816|INFO|nadam.iter|Iteration 23 variable 1: mhat=0.335546 nhat=4.070122\n",
      "2023-03-26 01:06:54,816|INFO|nadam.iter|Iteration 23 variable 1: mhat=0.335546 nhat=4.070122\n",
      "2023-03-26 01:06:54,820|INFO|nadam|>23 f([-0.00368799  0.00542761]) = 0.00004\n",
      "2023-03-26 01:06:54,820|INFO|nadam|>23 f([-0.00368799  0.00542761]) = 0.00004\n",
      "2023-03-26 01:06:54,844|INFO|nadam.iter|Iteration 24 variable 0: mhat=-0.016469 nhat=0.252874\n",
      "2023-03-26 01:06:54,844|INFO|nadam.iter|Iteration 24 variable 0: mhat=-0.016469 nhat=0.252874\n",
      "2023-03-26 01:06:54,846|INFO|nadam.iter|Iteration 24 variable 1: mhat=0.273969 nhat=4.066169\n",
      "2023-03-26 01:06:54,846|INFO|nadam.iter|Iteration 24 variable 1: mhat=0.273969 nhat=4.066169\n",
      "2023-03-26 01:06:54,859|INFO|nadam|>24 f([-0.00303297  0.0027103 ]) = 0.00002\n",
      "2023-03-26 01:06:54,859|INFO|nadam|>24 f([-0.00303297  0.0027103 ]) = 0.00002\n",
      "2023-03-26 01:06:54,861|INFO|nadam.iter|Iteration 25 variable 0: mhat=-0.018193 nhat=0.252658\n",
      "2023-03-26 01:06:54,861|INFO|nadam.iter|Iteration 25 variable 0: mhat=-0.018193 nhat=0.252658\n",
      "2023-03-26 01:06:54,862|INFO|nadam.iter|Iteration 25 variable 1: mhat=0.220248 nhat=4.062132\n",
      "2023-03-26 01:06:54,862|INFO|nadam.iter|Iteration 25 variable 1: mhat=0.220248 nhat=4.062132\n",
      "2023-03-26 01:06:54,879|INFO|nadam|>25 f([-0.00230907  0.00052473]) = 0.00001\n",
      "2023-03-26 01:06:54,879|INFO|nadam|>25 f([-0.00230907  0.00052473]) = 0.00001\n",
      "2023-03-26 01:06:54,904|INFO|nadam.iter|Iteration 26 variable 0: mhat=-0.018015 nhat=0.252427\n",
      "2023-03-26 01:06:54,904|INFO|nadam.iter|Iteration 26 variable 0: mhat=-0.018015 nhat=0.252427\n",
      "2023-03-26 01:06:54,919|INFO|nadam.iter|Iteration 26 variable 1: mhat=0.173751 nhat=4.058071\n",
      "2023-03-26 01:06:54,919|INFO|nadam.iter|Iteration 26 variable 1: mhat=0.173751 nhat=4.058071\n",
      "2023-03-26 01:06:54,935|INFO|nadam|>26 f([-0.00159196 -0.00120031]) = 0.00000\n",
      "2023-03-26 01:06:54,935|INFO|nadam|>26 f([-0.00159196 -0.00120031]) = 0.00000\n",
      "2023-03-26 01:06:54,951|INFO|nadam.iter|Iteration 27 variable 0: mhat=-0.016448 nhat=0.252184\n",
      "2023-03-26 01:06:54,951|INFO|nadam.iter|Iteration 27 variable 0: mhat=-0.016448 nhat=0.252184\n",
      "2023-03-26 01:06:54,952|INFO|nadam.iter|Iteration 27 variable 1: mhat=0.133840 nhat=4.054019\n",
      "2023-03-26 01:06:54,952|INFO|nadam.iter|Iteration 27 variable 1: mhat=0.133840 nhat=4.054019\n",
      "2023-03-26 01:06:54,972|INFO|nadam|>27 f([-0.00093689 -0.00252977]) = 0.00001\n",
      "2023-03-26 01:06:54,972|INFO|nadam|>27 f([-0.00093689 -0.00252977]) = 0.00001\n",
      "2023-03-26 01:06:54,992|INFO|nadam.iter|Iteration 28 variable 0: mhat=-0.013984 nhat=0.251936\n",
      "2023-03-26 01:06:54,992|INFO|nadam.iter|Iteration 28 variable 0: mhat=-0.013984 nhat=0.251936\n",
      "2023-03-26 01:06:54,997|INFO|nadam.iter|Iteration 28 variable 1: mhat=0.099886 nhat=4.049991\n",
      "2023-03-26 01:06:54,997|INFO|nadam.iter|Iteration 28 variable 1: mhat=0.099886 nhat=4.049991\n",
      "2023-03-26 01:06:55,002|INFO|nadam|>28 f([-0.00037967 -0.00352244]) = 0.00001\n",
      "2023-03-26 01:06:55,002|INFO|nadam|>28 f([-0.00037967 -0.00352244]) = 0.00001\n",
      "2023-03-26 01:06:55,010|INFO|nadam.iter|Iteration 29 variable 0: mhat=-0.011055 nhat=0.251684\n",
      "2023-03-26 01:06:55,010|INFO|nadam.iter|Iteration 29 variable 0: mhat=-0.011055 nhat=0.251684\n",
      "2023-03-26 01:06:55,012|INFO|nadam.iter|Iteration 29 variable 1: mhat=0.071275 nhat=4.045990\n",
      "2023-03-26 01:06:55,012|INFO|nadam.iter|Iteration 29 variable 1: mhat=0.071275 nhat=4.045990\n",
      "2023-03-26 01:06:55,014|INFO|nadam|>29 f([ 6.10529271e-05 -4.23112992e-03]) = 0.00002\n",
      "2023-03-26 01:06:55,014|INFO|nadam|>29 f([ 6.10529271e-05 -4.23112992e-03]) = 0.00002\n",
      "2023-03-26 01:06:55,016|INFO|nadam.iter|Iteration 30 variable 0: mhat=-0.008017 nhat=0.251433\n",
      "2023-03-26 01:06:55,016|INFO|nadam.iter|Iteration 30 variable 0: mhat=-0.008017 nhat=0.251433\n",
      "2023-03-26 01:06:55,032|INFO|nadam.iter|Iteration 30 variable 1: mhat=0.047424 nhat=4.042016\n",
      "2023-03-26 01:06:55,032|INFO|nadam.iter|Iteration 30 variable 1: mhat=0.047424 nhat=4.042016\n",
      "2023-03-26 01:06:55,048|INFO|nadam|>30 f([ 0.00038081 -0.0047029 ]) = 0.00002\n",
      "2023-03-26 01:06:55,048|INFO|nadam|>30 f([ 0.00038081 -0.0047029 ]) = 0.00002\n",
      "2023-03-26 01:06:55,059|INFO|nadam.iter|Iteration 31 variable 0: mhat=-0.005140 nhat=0.251182\n"
     ]
    },
    {
     "name": "stderr",
     "output_type": "stream",
     "text": [
      "2023-03-26 01:06:55,059|INFO|nadam.iter|Iteration 31 variable 0: mhat=-0.005140 nhat=0.251182\n",
      "2023-03-26 01:06:55,064|INFO|nadam.iter|Iteration 31 variable 1: mhat=0.027779 nhat=4.038062\n",
      "2023-03-26 01:06:55,064|INFO|nadam.iter|Iteration 31 variable 1: mhat=0.027779 nhat=4.038062\n",
      "2023-03-26 01:06:55,101|INFO|nadam|>31 f([ 0.00058594 -0.00497937]) = 0.00003\n",
      "2023-03-26 01:06:55,101|INFO|nadam|>31 f([ 0.00058594 -0.00497937]) = 0.00003\n",
      "2023-03-26 01:06:55,116|INFO|nadam.iter|Iteration 32 variable 0: mhat=-0.002612 nhat=0.250932\n",
      "2023-03-26 01:06:55,116|INFO|nadam.iter|Iteration 32 variable 0: mhat=-0.002612 nhat=0.250932\n",
      "2023-03-26 01:06:55,116|INFO|nadam.iter|Iteration 32 variable 1: mhat=0.011822 nhat=4.034123\n",
      "2023-03-26 01:06:55,116|INFO|nadam.iter|Iteration 32 variable 1: mhat=0.011822 nhat=4.034123\n",
      "2023-03-26 01:06:55,116|INFO|nadam|>32 f([ 0.00069023 -0.00509709]) = 0.00003\n",
      "2023-03-26 01:06:55,116|INFO|nadam|>32 f([ 0.00069023 -0.00509709]) = 0.00003\n",
      "2023-03-26 01:06:55,116|INFO|nadam.iter|Iteration 33 variable 0: mhat=-0.000542 nhat=0.250683\n",
      "2023-03-26 01:06:55,116|INFO|nadam.iter|Iteration 33 variable 0: mhat=-0.000542 nhat=0.250683\n",
      "2023-03-26 01:06:55,132|INFO|nadam.iter|Iteration 33 variable 1: mhat=-0.000925 nhat=4.030193\n",
      "2023-03-26 01:06:55,132|INFO|nadam.iter|Iteration 33 variable 1: mhat=-0.000925 nhat=4.030193\n",
      "2023-03-26 01:06:55,132|INFO|nadam|>33 f([ 0.0007119  -0.00508788]) = 0.00003\n",
      "2023-03-26 01:06:55,132|INFO|nadam|>33 f([ 0.0007119  -0.00508788]) = 0.00003\n",
      "2023-03-26 01:06:55,132|INFO|nadam.iter|Iteration 34 variable 0: mhat=0.001025 nhat=0.250434\n",
      "2023-03-26 01:06:55,132|INFO|nadam.iter|Iteration 34 variable 0: mhat=0.001025 nhat=0.250434\n",
      "2023-03-26 01:06:55,132|INFO|nadam.iter|Iteration 34 variable 1: mhat=-0.010901 nhat=4.026266\n",
      "2023-03-26 01:06:55,132|INFO|nadam.iter|Iteration 34 variable 1: mhat=-0.010901 nhat=4.026266\n",
      "2023-03-26 01:06:55,147|INFO|nadam|>34 f([ 0.00067095 -0.00497922]) = 0.00003\n",
      "2023-03-26 01:06:55,147|INFO|nadam|>34 f([ 0.00067095 -0.00497922]) = 0.00003\n",
      "2023-03-26 01:06:55,159|INFO|nadam.iter|Iteration 35 variable 0: mhat=0.002096 nhat=0.250186\n",
      "2023-03-26 01:06:55,159|INFO|nadam.iter|Iteration 35 variable 0: mhat=0.002096 nhat=0.250186\n",
      "2023-03-26 01:06:55,205|INFO|nadam.iter|Iteration 35 variable 1: mhat=-0.018505 nhat=4.022339\n",
      "2023-03-26 01:06:55,205|INFO|nadam.iter|Iteration 35 variable 1: mhat=-0.018505 nhat=4.022339\n",
      "2023-03-26 01:06:55,205|INFO|nadam|>35 f([ 0.00058714 -0.00479468]) = 0.00002\n",
      "2023-03-26 01:06:55,205|INFO|nadam|>35 f([ 0.00058714 -0.00479468]) = 0.00002\n",
      "2023-03-26 01:06:55,205|INFO|nadam.iter|Iteration 36 variable 0: mhat=0.002717 nhat=0.249937\n",
      "2023-03-26 01:06:55,205|INFO|nadam.iter|Iteration 36 variable 0: mhat=0.002717 nhat=0.249937\n",
      "2023-03-26 01:06:55,221|INFO|nadam.iter|Iteration 36 variable 1: mhat=-0.024098 nhat=4.018408\n",
      "2023-03-26 01:06:55,221|INFO|nadam.iter|Iteration 36 variable 1: mhat=-0.024098 nhat=4.018408\n",
      "2023-03-26 01:06:55,228|INFO|nadam|>36 f([ 0.00047845 -0.00455425]) = 0.00002\n",
      "2023-03-26 01:06:55,228|INFO|nadam|>36 f([ 0.00047845 -0.00455425]) = 0.00002\n",
      "2023-03-26 01:06:55,230|INFO|nadam.iter|Iteration 37 variable 0: mhat=0.002957 nhat=0.249688\n",
      "2023-03-26 01:06:55,230|INFO|nadam.iter|Iteration 37 variable 0: mhat=0.002957 nhat=0.249688\n",
      "2023-03-26 01:06:55,246|INFO|nadam.iter|Iteration 37 variable 1: mhat=-0.028003 nhat=4.014473\n",
      "2023-03-26 01:06:55,246|INFO|nadam.iter|Iteration 37 variable 1: mhat=-0.028003 nhat=4.014473\n",
      "2023-03-26 01:06:55,273|INFO|nadam|>37 f([ 0.00036011 -0.00427473]) = 0.00002\n",
      "2023-03-26 01:06:55,273|INFO|nadam|>37 f([ 0.00036011 -0.00427473]) = 0.00002\n",
      "2023-03-26 01:06:55,275|INFO|nadam.iter|Iteration 38 variable 0: mhat=0.002896 nhat=0.249439\n",
      "2023-03-26 01:06:55,275|INFO|nadam.iter|Iteration 38 variable 0: mhat=0.002896 nhat=0.249439\n",
      "2023-03-26 01:06:55,284|INFO|nadam.iter|Iteration 38 variable 1: mhat=-0.030504 nhat=4.010531\n",
      "2023-03-26 01:06:55,284|INFO|nadam.iter|Iteration 38 variable 1: mhat=-0.030504 nhat=4.010531\n",
      "2023-03-26 01:06:55,288|INFO|nadam|>38 f([ 0.00024413 -0.00397009]) = 0.00002\n",
      "2023-03-26 01:06:55,288|INFO|nadam|>38 f([ 0.00024413 -0.00397009]) = 0.00002\n",
      "2023-03-26 01:06:55,298|INFO|nadam.iter|Iteration 39 variable 0: mhat=0.002620 nhat=0.249189\n",
      "2023-03-26 01:06:55,298|INFO|nadam.iter|Iteration 39 variable 0: mhat=0.002620 nhat=0.249189\n",
      "2023-03-26 01:06:55,300|INFO|nadam.iter|Iteration 39 variable 1: mhat=-0.031856 nhat=4.006584\n",
      "2023-03-26 01:06:55,300|INFO|nadam.iter|Iteration 39 variable 1: mhat=-0.031856 nhat=4.006584\n",
      "2023-03-26 01:06:55,302|INFO|nadam|>39 f([ 0.00013918 -0.00365179]) = 0.00001\n",
      "2023-03-26 01:06:55,302|INFO|nadam|>39 f([ 0.00013918 -0.00365179]) = 0.00001\n",
      "2023-03-26 01:06:55,306|INFO|nadam.iter|Iteration 40 variable 0: mhat=0.002206 nhat=0.248940\n",
      "2023-03-26 01:06:55,306|INFO|nadam.iter|Iteration 40 variable 0: mhat=0.002206 nhat=0.248940\n",
      "2023-03-26 01:06:55,316|INFO|nadam.iter|Iteration 40 variable 1: mhat=-0.032279 nhat=4.002631\n",
      "2023-03-26 01:06:55,316|INFO|nadam.iter|Iteration 40 variable 1: mhat=-0.032279 nhat=4.002631\n",
      "2023-03-26 01:06:55,317|INFO|nadam|>40 f([ 5.07445337e-05 -3.32910019e-03]) = 0.00001\n",
      "2023-03-26 01:06:55,317|INFO|nadam|>40 f([ 5.07445337e-05 -3.32910019e-03]) = 0.00001\n",
      "2023-03-26 01:06:55,343|INFO|nadam.iter|Iteration 41 variable 0: mhat=0.001725 nhat=0.248691\n",
      "2023-03-26 01:06:55,343|INFO|nadam.iter|Iteration 41 variable 0: mhat=0.001725 nhat=0.248691\n",
      "2023-03-26 01:06:55,346|INFO|nadam.iter|Iteration 41 variable 1: mhat=-0.031965 nhat=3.998672\n",
      "2023-03-26 01:06:55,346|INFO|nadam.iter|Iteration 41 variable 1: mhat=-0.031965 nhat=3.998672\n",
      "2023-03-26 01:06:55,347|INFO|nadam|>41 f([-1.84325171e-05 -3.00939427e-03]) = 0.00001\n",
      "2023-03-26 01:06:55,347|INFO|nadam|>41 f([-1.84325171e-05 -3.00939427e-03]) = 0.00001\n",
      "2023-03-26 01:06:55,353|INFO|nadam.iter|Iteration 42 variable 0: mhat=0.001232 nhat=0.248443\n",
      "2023-03-26 01:06:55,353|INFO|nadam.iter|Iteration 42 variable 0: mhat=0.001232 nhat=0.248443\n",
      "2023-03-26 01:06:55,385|INFO|nadam.iter|Iteration 42 variable 1: mhat=-0.031079 nhat=3.994710\n",
      "2023-03-26 01:06:55,385|INFO|nadam.iter|Iteration 42 variable 1: mhat=-0.031079 nhat=3.994710\n",
      "2023-03-26 01:06:55,396|INFO|nadam|>42 f([-6.78814472e-05 -2.69839367e-03]) = 0.00001\n",
      "2023-03-26 01:06:55,396|INFO|nadam|>42 f([-6.78814472e-05 -2.69839367e-03]) = 0.00001\n",
      "2023-03-26 01:06:55,398|INFO|nadam.iter|Iteration 43 variable 0: mhat=0.000771 nhat=0.248194\n",
      "2023-03-26 01:06:55,398|INFO|nadam.iter|Iteration 43 variable 0: mhat=0.000771 nhat=0.248194\n",
      "2023-03-26 01:06:55,398|INFO|nadam.iter|Iteration 43 variable 1: mhat=-0.029763 nhat=3.990744\n",
      "2023-03-26 01:06:55,398|INFO|nadam.iter|Iteration 43 variable 1: mhat=-0.029763 nhat=3.990744\n",
      "2023-03-26 01:06:55,414|INFO|nadam|>43 f([-9.88339249e-05 -2.40042096e-03]) = 0.00001\n",
      "2023-03-26 01:06:55,414|INFO|nadam|>43 f([-9.88339249e-05 -2.40042096e-03]) = 0.00001\n",
      "2023-03-26 01:06:55,433|INFO|nadam.iter|Iteration 44 variable 0: mhat=0.000370 nhat=0.247946\n",
      "2023-03-26 01:06:55,433|INFO|nadam.iter|Iteration 44 variable 0: mhat=0.000370 nhat=0.247946\n",
      "2023-03-26 01:06:55,435|INFO|nadam.iter|Iteration 44 variable 1: mhat=-0.028134 nhat=3.986776\n",
      "2023-03-26 01:06:55,435|INFO|nadam.iter|Iteration 44 variable 1: mhat=-0.028134 nhat=3.986776\n",
      "2023-03-26 01:06:55,447|INFO|nadam|>44 f([-0.00011368 -0.00211861]) = 0.00000\n",
      "2023-03-26 01:06:55,447|INFO|nadam|>44 f([-0.00011368 -0.00211861]) = 0.00000\n",
      "2023-03-26 01:06:55,448|INFO|nadam.iter|Iteration 45 variable 0: mhat=0.000045 nhat=0.247698\n",
      "2023-03-26 01:06:55,448|INFO|nadam.iter|Iteration 45 variable 0: mhat=0.000045 nhat=0.247698\n",
      "2023-03-26 01:06:55,463|INFO|nadam.iter|Iteration 45 variable 1: mhat=-0.026294 nhat=3.982808\n",
      "2023-03-26 01:06:55,463|INFO|nadam.iter|Iteration 45 variable 1: mhat=-0.026294 nhat=3.982808\n",
      "2023-03-26 01:06:55,480|INFO|nadam|>45 f([-0.00011547 -0.00185511]) = 0.00000\n",
      "2023-03-26 01:06:55,480|INFO|nadam|>45 f([-0.00011547 -0.00185511]) = 0.00000\n",
      "2023-03-26 01:06:55,485|INFO|nadam.iter|Iteration 46 variable 0: mhat=-0.000198 nhat=0.247450\n",
      "2023-03-26 01:06:55,485|INFO|nadam.iter|Iteration 46 variable 0: mhat=-0.000198 nhat=0.247450\n",
      "2023-03-26 01:06:55,493|INFO|nadam.iter|Iteration 46 variable 1: mhat=-0.024324 nhat=3.978838\n"
     ]
    },
    {
     "name": "stderr",
     "output_type": "stream",
     "text": [
      "2023-03-26 01:06:55,493|INFO|nadam.iter|Iteration 46 variable 1: mhat=-0.024324 nhat=3.978838\n",
      "2023-03-26 01:06:55,498|INFO|nadam|>46 f([-0.0001075  -0.00161122]) = 0.00000\n",
      "2023-03-26 01:06:55,498|INFO|nadam|>46 f([-0.0001075  -0.00161122]) = 0.00000\n",
      "2023-03-26 01:06:55,501|INFO|nadam.iter|Iteration 47 variable 0: mhat=-0.000361 nhat=0.247203\n",
      "2023-03-26 01:06:55,501|INFO|nadam.iter|Iteration 47 variable 0: mhat=-0.000361 nhat=0.247203\n",
      "2023-03-26 01:06:55,507|INFO|nadam.iter|Iteration 47 variable 1: mhat=-0.022291 nhat=3.974870\n",
      "2023-03-26 01:06:55,507|INFO|nadam.iter|Iteration 47 variable 1: mhat=-0.022291 nhat=3.974870\n",
      "2023-03-26 01:06:55,509|INFO|nadam|>47 f([-9.29922627e-05 -1.38760991e-03]) = 0.00000\n",
      "2023-03-26 01:06:55,509|INFO|nadam|>47 f([-9.29922627e-05 -1.38760991e-03]) = 0.00000\n",
      "2023-03-26 01:06:55,522|INFO|nadam.iter|Iteration 48 variable 0: mhat=-0.000451 nhat=0.246956\n",
      "2023-03-26 01:06:55,522|INFO|nadam.iter|Iteration 48 variable 0: mhat=-0.000451 nhat=0.246956\n",
      "2023-03-26 01:06:55,542|INFO|nadam.iter|Iteration 48 variable 1: mhat=-0.020250 nhat=3.970903\n",
      "2023-03-26 01:06:55,542|INFO|nadam.iter|Iteration 48 variable 1: mhat=-0.020250 nhat=3.970903\n",
      "2023-03-26 01:06:55,545|INFO|nadam|>48 f([-7.48258406e-05 -1.18436586e-03]) = 0.00000\n",
      "2023-03-26 01:06:55,545|INFO|nadam|>48 f([-7.48258406e-05 -1.18436586e-03]) = 0.00000\n",
      "2023-03-26 01:06:55,545|INFO|nadam.iter|Iteration 49 variable 0: mhat=-0.000482 nhat=0.246709\n",
      "2023-03-26 01:06:55,545|INFO|nadam.iter|Iteration 49 variable 0: mhat=-0.000482 nhat=0.246709\n",
      "2023-03-26 01:06:55,562|INFO|nadam.iter|Iteration 49 variable 1: mhat=-0.018244 nhat=3.966938\n",
      "2023-03-26 01:06:55,562|INFO|nadam.iter|Iteration 49 variable 1: mhat=-0.018244 nhat=3.966938\n",
      "2023-03-26 01:06:55,564|INFO|nadam|>49 f([-5.54299505e-05 -1.00116899e-03]) = 0.00000\n",
      "2023-03-26 01:06:55,564|INFO|nadam|>49 f([-5.54299505e-05 -1.00116899e-03]) = 0.00000\n"
     ]
    },
    {
     "name": "stdout",
     "output_type": "stream",
     "text": [
      "Done!\n",
      "f([-5.54299505e-05 -1.00116899e-03]) = 0.000001\n"
     ]
    }
   ],
   "source": [
    "\n",
    "# gradient descent optimization with nadam for a two-dimensional test function\n",
    "import logging\n",
    "from math import sqrt\n",
    "from numpy import asarray\n",
    "from numpy.random import rand\n",
    "from numpy.random import seed\n",
    "\n",
    "# Create and configure logger\n",
    "logging.basicConfig(filename=\"newfile1.log\",\n",
    "                    format='%(asctime)s %(message)s',\n",
    "                    filemode='w')\n",
    " \n",
    "# Creating an object\n",
    "logger = logging.getLogger()\n",
    " \n",
    "# Setting the threshold of logger to DEBUG\n",
    "logger.setLevel(logging.DEBUG)\n",
    "\n",
    "\n",
    "# objective function\n",
    "def objective(x, y):\n",
    "    return x**2.0 + y**2.0\n",
    " \n",
    "# derivative of objective function\n",
    "def derivative(x, y):\n",
    "    return asarray([x * 2.0, y * 2.0])\n",
    " \n",
    "# gradient descent algorithm with nadam\n",
    "def nadam(objective, derivative, bounds, n_iter, alpha, mu, nu, eps=1e-8):\n",
    "    logger = logging.getLogger(\"nadam\")\n",
    "    # generate an initial point\n",
    "    x = bounds[:, 0] + rand(len(bounds)) * (bounds[:, 1] - bounds[:, 0])\n",
    "    score = objective(x[0], x[1])\n",
    "    # initialize decaying moving averages\n",
    "    m = [0.0 for _ in range(bounds.shape[0])]\n",
    "    n = [0.0 for _ in range(bounds.shape[0])]\n",
    "    # run the gradient descent\n",
    "    for t in range(n_iter):\n",
    "        iterlogger = logging.getLogger(\"nadam.iter\")\n",
    "        # calculate gradient g(t)\n",
    "        g = derivative(x[0], x[1])\n",
    "        # build a solution one variable at a time\n",
    "        for i in range(bounds.shape[0]):\n",
    "            # m(t) = mu * m(t-1) + (1 - mu) * g(t)\n",
    "            m[i] = mu * m[i] + (1.0 - mu) * g[i]\n",
    "            # n(t) = nu * n(t-1) + (1 - nu) * g(t)^2\n",
    "            n[i] = nu * n[i] + (1.0 - nu) * g[i]**2\n",
    "            # mhat = (mu * m(t) / (1 - mu)) + ((1 - mu) * g(t) / (1 - mu))\n",
    "            mhat = (mu * m[i] / (1.0 - mu)) + ((1 - mu) * g[i] / (1.0 - mu))\n",
    "            # nhat = nu * n(t) / (1 - nu)\n",
    "            nhat = nu * n[i] / (1.0 - nu)\n",
    "            # x(t) = x(t-1) - alpha / (sqrt(nhat) + eps) * mhat\n",
    "            x[i] = x[i] - alpha / (sqrt(nhat) + eps) * mhat\n",
    "            iterlogger.info(\"Iteration %d variable %d: mhat=%f nhat=%f\", t, i, mhat, nhat)\n",
    "        # evaluate candidate point\n",
    "        score = objective(x[0], x[1])\n",
    "        # report progress\n",
    "        logger.info('>%d f(%s) = %.5f' % (t, x, score))\n",
    "    return [x, score]\n",
    " \n",
    "# Create logger and assign handler\n",
    "logger = logging.getLogger(\"nadam\")\n",
    "handler  = logging.StreamHandler()\n",
    "handler.setFormatter(logging.Formatter(\"%(asctime)s|%(levelname)s|%(name)s|%(message)s\"))\n",
    "logger.addHandler(handler)\n",
    "logger.setLevel(logging.DEBUG)\n",
    "logger = logging.getLogger(\"nadam.iter\")\n",
    "logger.setLevel(logging.INFO)\n",
    "# seed the pseudo random number generator\n",
    "seed(1)\n",
    "# define range for input\n",
    "bounds = asarray([[-1.0, 1.0], [-1.0, 1.0]])\n",
    "# define the total iterations\n",
    "n_iter = 50\n",
    "# steps size\n",
    "alpha = 0.02\n",
    "# factor for average gradient\n",
    "mu = 0.8\n",
    "# factor for average squared gradient\n",
    "nu = 0.999\n",
    "# perform the gradient descent search with nadam\n",
    "best, score = nadam(objective, derivative, bounds, n_iter, alpha, mu, nu)\n",
    "print('Done!')\n",
    "print('f(%s) = %f' % (best, score))"
   ]
  }
 ],
 "metadata": {
  "kernelspec": {
   "display_name": "Python 3 (ipykernel)",
   "language": "python",
   "name": "python3"
  },
  "language_info": {
   "codemirror_mode": {
    "name": "ipython",
    "version": 3
   },
   "file_extension": ".py",
   "mimetype": "text/x-python",
   "name": "python",
   "nbconvert_exporter": "python",
   "pygments_lexer": "ipython3",
   "version": "3.10.10"
  }
 },
 "nbformat": 4,
 "nbformat_minor": 5
}
