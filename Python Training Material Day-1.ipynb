{
 "cells": [
  {
   "cell_type": "markdown",
   "id": "a0ef6b20",
   "metadata": {},
   "source": [
    "# Python Training"
   ]
  },
  {
   "cell_type": "markdown",
   "id": "593ae609",
   "metadata": {},
   "source": [
    "## What is Python?\n",
    "\n",
    "Python is an interpreted, object-oriented, high-level programming language with dynamic semantics. Its high-level built in data structures, combined with dynamic typing and dynamic binding, make it very attractive for Rapid Application Development, as well as for use as a scripting or glue language to connect existing components together"
   ]
  },
  {
   "cell_type": "markdown",
   "id": "e92e4824",
   "metadata": {},
   "source": [
    "### Features of Python:\n",
    "    \n",
    "1. Machine Learning\n",
    "2. GUI Applications (like Kivy, Tkinter, PyQt etc. )\n",
    "3. Web frameworks like Django (used by YouTube, Instagram, Dropbox)\n",
    "4. Image processing (like OpenCV, Pillow)\n",
    "5. Web scraping (like Scrapy, BeautifulSoup, Selenium)\n",
    "6. Test frameworks\n",
    "7. Multimedia\n",
    "8. Scientific computing\n",
    "9. Text processing and many more.."
   ]
  },
  {
   "cell_type": "markdown",
   "id": "b300d7da",
   "metadata": {},
   "source": [
    "### Why Python?\n",
    "\n",
    "1. Python is easy to learn\n",
    "2. It uses a simplified syntax with an emphasis on natural language, for a much easier learning curve for beginners. \n",
    "3. Python is free to use and is supported by an extremely large ecosystem of libraries and packages\n",
    "4. it's often the first-choice language for new developers.\n"
   ]
  },
  {
   "cell_type": "markdown",
   "id": "8803a4cb",
   "metadata": {},
   "source": [
    "### Trends of different Languages\n",
    "\n",
    "https://trends.google.co.in/trends/explore?date=today%205-y&q=%2Fm%2F05z1_,%2Fm%2F07sbkfb,%2Fm%2F01t6b,%2Fm%2F0jgqg,%2Fm%2F0212jm"
   ]
  },
  {
   "cell_type": "markdown",
   "id": "f52ead6e",
   "metadata": {},
   "source": [
    "### Python Version available\n",
    "1. 2.x\n",
    "2. 3.x"
   ]
  },
  {
   "cell_type": "markdown",
   "id": "d61ec00e",
   "metadata": {},
   "source": [
    "### IDEs (Integrated development environment Software) for Python\n",
    "\n",
    "1. Jupyter\n",
    "2. Spyder\n",
    "3. PyCharm\n",
    "4. VS Code\n",
    "5. Sublime\n",
    "\n",
    "....."
   ]
  },
  {
   "cell_type": "markdown",
   "id": "01bb2dc2",
   "metadata": {},
   "source": [
    "### Python Installation Link\n",
    "https://www.python.org/downloads/\n",
    "\n",
    "### Anaconda Installation Link\n",
    "https://www.anaconda.com/\n",
    "\n",
    "### VS Code Installation Link\n",
    "https://code.visualstudio.com/Download\n",
    "\n",
    "### PyCharm Installation Link\n",
    "https://www.jetbrains.com/pycharm/download/#section=windows\n",
    "\n",
    "### Google Colab (Online Interpretor)\n",
    "https://colab.research.google.com/"
   ]
  },
  {
   "cell_type": "markdown",
   "id": "4904e615",
   "metadata": {},
   "source": [
    "## Jupyter Notebook Overview"
   ]
  },
  {
   "cell_type": "code",
   "execution_count": 2,
   "id": "ddcda1eb",
   "metadata": {},
   "outputs": [
    {
     "data": {
      "text/html": [
       "<img src=\"https://pythonnumericalmethods.berkeley.edu/_images/01.04.02-within_notebook.png\"/>"
      ],
      "text/plain": [
       "<IPython.core.display.Image object>"
      ]
     },
     "execution_count": 2,
     "metadata": {},
     "output_type": "execute_result"
    }
   ],
   "source": [
    "from IPython.display import Image\n",
    "from IPython.core.display import HTML \n",
    "Image(url= \"https://pythonnumericalmethods.berkeley.edu/_images/01.04.02-within_notebook.png\")"
   ]
  },
  {
   "cell_type": "markdown",
   "id": "30c61f87",
   "metadata": {},
   "source": [
    "### Theme of Python (Tagline of Python)"
   ]
  },
  {
   "cell_type": "code",
   "execution_count": 2,
   "id": "3aa3baac",
   "metadata": {},
   "outputs": [
    {
     "name": "stdout",
     "output_type": "stream",
     "text": [
      "The Zen of Python, by Tim Peters\n",
      "\n",
      "Beautiful is better than ugly.\n",
      "Explicit is better than implicit.\n",
      "Simple is better than complex.\n",
      "Complex is better than complicated.\n",
      "Flat is better than nested.\n",
      "Sparse is better than dense.\n",
      "Readability counts.\n",
      "Special cases aren't special enough to break the rules.\n",
      "Although practicality beats purity.\n",
      "Errors should never pass silently.\n",
      "Unless explicitly silenced.\n",
      "In the face of ambiguity, refuse the temptation to guess.\n",
      "There should be one-- and preferably only one --obvious way to do it.\n",
      "Although that way may not be obvious at first unless you're Dutch.\n",
      "Now is better than never.\n",
      "Although never is often better than *right* now.\n",
      "If the implementation is hard to explain, it's a bad idea.\n",
      "If the implementation is easy to explain, it may be a good idea.\n",
      "Namespaces are one honking great idea -- let's do more of those!\n"
     ]
    }
   ],
   "source": [
    "import this"
   ]
  },
  {
   "cell_type": "markdown",
   "id": "a1e5aaf7",
   "metadata": {},
   "source": [
    "### For help press Shift + Tab"
   ]
  },
  {
   "cell_type": "raw",
   "id": "9cfee547",
   "metadata": {},
   "source": [
    "print(<Press Shift + Tab>)"
   ]
  },
  {
   "cell_type": "code",
   "execution_count": 3,
   "id": "4f71a11a",
   "metadata": {},
   "outputs": [
    {
     "name": "stdout",
     "output_type": "stream",
     "text": [
      "This is my first program.\n"
     ]
    }
   ],
   "source": [
    "print(\"This is my first program.\")"
   ]
  },
  {
   "cell_type": "markdown",
   "id": "ab3b3f86",
   "metadata": {},
   "source": [
    "### To check the working directory or the location of the Jupyter Notebook"
   ]
  },
  {
   "cell_type": "code",
   "execution_count": 4,
   "id": "47905aaa",
   "metadata": {},
   "outputs": [
    {
     "data": {
      "text/plain": [
       "'D:\\\\Trainings\\\\Python\\\\Python Training'"
      ]
     },
     "execution_count": 4,
     "metadata": {},
     "output_type": "execute_result"
    }
   ],
   "source": [
    "pwd()"
   ]
  },
  {
   "cell_type": "markdown",
   "id": "d3a9e942",
   "metadata": {},
   "source": [
    "### Data Type: \n",
    "In python you do not have to declare your data type explicitly. Python will internally understand the data type.\n",
    "\n",
    "To check the data type of variable - type( )"
   ]
  },
  {
   "cell_type": "code",
   "execution_count": 154,
   "id": "17c93bc5",
   "metadata": {},
   "outputs": [
    {
     "data": {
      "text/html": [
       "<img src=\"https://media.geeksforgeeks.org/wp-content/uploads/20191023173512/Python-data-structure.jpg\"/>"
      ],
      "text/plain": [
       "<IPython.core.display.Image object>"
      ]
     },
     "execution_count": 154,
     "metadata": {},
     "output_type": "execute_result"
    }
   ],
   "source": [
    "Image(url= \"https://media.geeksforgeeks.org/wp-content/uploads/20191023173512/Python-data-structure.jpg\")"
   ]
  },
  {
   "cell_type": "code",
   "execution_count": 7,
   "id": "09155135",
   "metadata": {},
   "outputs": [
    {
     "data": {
      "text/plain": [
       "int"
      ]
     },
     "execution_count": 7,
     "metadata": {},
     "output_type": "execute_result"
    }
   ],
   "source": [
    "type(a)"
   ]
  },
  {
   "cell_type": "code",
   "execution_count": 8,
   "id": "16ebc252",
   "metadata": {},
   "outputs": [
    {
     "data": {
      "text/plain": [
       "str"
      ]
     },
     "execution_count": 8,
     "metadata": {},
     "output_type": "execute_result"
    }
   ],
   "source": [
    "b = \"Asta\"\n",
    "type(b)"
   ]
  },
  {
   "cell_type": "code",
   "execution_count": 9,
   "id": "24ab30ce",
   "metadata": {},
   "outputs": [
    {
     "data": {
      "text/plain": [
       "float"
      ]
     },
     "execution_count": 9,
     "metadata": {},
     "output_type": "execute_result"
    }
   ],
   "source": [
    "c = 2.34\n",
    "type(c)"
   ]
  },
  {
   "cell_type": "code",
   "execution_count": 10,
   "id": "886a1e97",
   "metadata": {},
   "outputs": [
    {
     "data": {
      "text/plain": [
       "complex"
      ]
     },
     "execution_count": 10,
     "metadata": {},
     "output_type": "execute_result"
    }
   ],
   "source": [
    "d = 5+6j\n",
    "type(d)"
   ]
  },
  {
   "cell_type": "code",
   "execution_count": 11,
   "id": "cdd7c978",
   "metadata": {},
   "outputs": [
    {
     "data": {
      "text/plain": [
       "bool"
      ]
     },
     "execution_count": 11,
     "metadata": {},
     "output_type": "execute_result"
    }
   ],
   "source": [
    "e = True\n",
    "type(e)"
   ]
  },
  {
   "cell_type": "markdown",
   "id": "f9aee935",
   "metadata": {},
   "source": [
    "## Python Operator"
   ]
  },
  {
   "cell_type": "code",
   "execution_count": 3,
   "id": "9e211eac",
   "metadata": {},
   "outputs": [
    {
     "data": {
      "text/html": [
       "<img src=\"https://dotnettutorials.net/wp-content/uploads/2020/06/word-image-71.png\"/>"
      ],
      "text/plain": [
       "<IPython.core.display.Image object>"
      ]
     },
     "execution_count": 3,
     "metadata": {},
     "output_type": "execute_result"
    }
   ],
   "source": [
    "Image(url= \"https://dotnettutorials.net/wp-content/uploads/2020/06/word-image-71.png\")"
   ]
  },
  {
   "cell_type": "markdown",
   "id": "14812553",
   "metadata": {},
   "source": [
    "### What is VARIABLE in python?\n",
    "\n",
    "A Python variable is a symbolic name that is a reference or pointer to an object. Once an object is assigned to a variable, you can refer to the object by that name. \n",
    "\n",
    "The can hold a excel file, numric digit, image or anything."
   ]
  },
  {
   "cell_type": "code",
   "execution_count": 15,
   "id": "cb2238ae",
   "metadata": {},
   "outputs": [],
   "source": [
    "a = 10"
   ]
  },
  {
   "cell_type": "code",
   "execution_count": 16,
   "id": "20cdade5",
   "metadata": {},
   "outputs": [
    {
     "name": "stdout",
     "output_type": "stream",
     "text": [
      "10\n"
     ]
    }
   ],
   "source": [
    "print(a)"
   ]
  },
  {
   "cell_type": "code",
   "execution_count": 17,
   "id": "260355bd",
   "metadata": {},
   "outputs": [
    {
     "name": "stdout",
     "output_type": "stream",
     "text": [
      "15\n"
     ]
    }
   ],
   "source": [
    "# Variables will always keep the recently assigned object\n",
    "\n",
    "a= 15\n",
    "print(a)"
   ]
  },
  {
   "cell_type": "code",
   "execution_count": 19,
   "id": "20e8cb35",
   "metadata": {},
   "outputs": [
    {
     "name": "stdout",
     "output_type": "stream",
     "text": [
      "Asta\n",
      "False\n"
     ]
    }
   ],
   "source": [
    "# A single line of code to create multiple variables\n",
    "\n",
    "a,b,c,d,e = 234, \"Asta\", 4+6j, False, 23.45\n",
    "\n",
    "print(b)\n",
    "print(d)"
   ]
  },
  {
   "cell_type": "code",
   "execution_count": 35,
   "id": "5731a69f",
   "metadata": {},
   "outputs": [
    {
     "name": "stdout",
     "output_type": "stream",
     "text": [
      "Asta\n",
      "ASTA\n",
      "asta\n"
     ]
    }
   ],
   "source": [
    "# To check what are the functions available for a particular variable\n",
    "\n",
    "# Varable.<Press Tab key>\n",
    "\n",
    "print(b.capitalize())\n",
    "print(b.upper())\n",
    "print(b.lower())"
   ]
  },
  {
   "cell_type": "markdown",
   "id": "df9fc4d8",
   "metadata": {},
   "source": [
    "### Check all the function available for different data types"
   ]
  },
  {
   "cell_type": "code",
   "execution_count": 65,
   "id": "085b8280",
   "metadata": {},
   "outputs": [
    {
     "name": "stdout",
     "output_type": "stream",
     "text": [
      "35\n"
     ]
    },
    {
     "ename": "TypeError",
     "evalue": "unsupported operand type(s) for +: 'int' and 'str'",
     "output_type": "error",
     "traceback": [
      "\u001b[1;31m---------------------------------------------------------------------------\u001b[0m",
      "\u001b[1;31mTypeError\u001b[0m                                 Traceback (most recent call last)",
      "Cell \u001b[1;32mIn [65], line 8\u001b[0m\n\u001b[0;32m      5\u001b[0m c \u001b[38;5;241m=\u001b[39m \u001b[38;5;241m23\u001b[39m\n\u001b[0;32m      7\u001b[0m \u001b[38;5;28mprint\u001b[39m(a\u001b[38;5;241m+\u001b[39mc)\n\u001b[1;32m----> 8\u001b[0m \u001b[38;5;28mprint\u001b[39m(\u001b[43ma\u001b[49m\u001b[38;5;241;43m+\u001b[39;49m\u001b[43mb\u001b[49m)\n",
      "\u001b[1;31mTypeError\u001b[0m: unsupported operand type(s) for +: 'int' and 'str'"
     ]
    }
   ],
   "source": [
    "#  Only same type of variables can be added/subtracted\n",
    "\n",
    "a = 12\n",
    "b = \"Asta\"\n",
    "c = 23\n",
    "\n",
    "print(a+c)\n",
    "print(a+b)"
   ]
  },
  {
   "cell_type": "markdown",
   "id": "881766a1",
   "metadata": {},
   "source": [
    "### Typecasting\n",
    "\n",
    "If you want to do some  mathematical operation with two variable from different types, you can convert a variable to the same format then you can add/subtract/multiply/divide. This process is called a typecasting."
   ]
  },
  {
   "cell_type": "code",
   "execution_count": 47,
   "id": "e73dc5a2",
   "metadata": {},
   "outputs": [
    {
     "name": "stdout",
     "output_type": "stream",
     "text": [
      "12Asta\n",
      "57\n"
     ]
    }
   ],
   "source": [
    "a = 12\n",
    "b = \"Asta\"\n",
    "c = 23\n",
    "d = '45'\n",
    "\n",
    "\n",
    "print(str(a)+b)\n",
    "print(int(d)+a)"
   ]
  },
  {
   "cell_type": "markdown",
   "id": "1101fd89",
   "metadata": {},
   "source": [
    "### User Input\n",
    "\n",
    "Python ask the user for input. It will always store in a string data type."
   ]
  },
  {
   "cell_type": "code",
   "execution_count": 49,
   "id": "59deced9",
   "metadata": {},
   "outputs": [
    {
     "name": "stdout",
     "output_type": "stream",
     "text": [
      "2\n"
     ]
    },
    {
     "data": {
      "text/plain": [
       "'2'"
      ]
     },
     "execution_count": 49,
     "metadata": {},
     "output_type": "execute_result"
    }
   ],
   "source": [
    "input()"
   ]
  },
  {
   "cell_type": "code",
   "execution_count": 50,
   "id": "1555cbfe",
   "metadata": {},
   "outputs": [
    {
     "name": "stdout",
     "output_type": "stream",
     "text": [
      "23\n"
     ]
    }
   ],
   "source": [
    "a = input()"
   ]
  },
  {
   "cell_type": "code",
   "execution_count": 51,
   "id": "80752050",
   "metadata": {},
   "outputs": [
    {
     "name": "stdout",
     "output_type": "stream",
     "text": [
      "23\n"
     ]
    }
   ],
   "source": [
    "print(a)"
   ]
  },
  {
   "cell_type": "code",
   "execution_count": 52,
   "id": "e6445f2e",
   "metadata": {},
   "outputs": [
    {
     "data": {
      "text/plain": [
       "str"
      ]
     },
     "execution_count": 52,
     "metadata": {},
     "output_type": "execute_result"
    }
   ],
   "source": [
    "type(a)"
   ]
  },
  {
   "cell_type": "code",
   "execution_count": 53,
   "id": "46df7605",
   "metadata": {},
   "outputs": [
    {
     "name": "stdout",
     "output_type": "stream",
     "text": [
      "23\n"
     ]
    }
   ],
   "source": [
    "c = int(input())"
   ]
  },
  {
   "cell_type": "code",
   "execution_count": 54,
   "id": "77dc83b5",
   "metadata": {},
   "outputs": [
    {
     "data": {
      "text/plain": [
       "int"
      ]
     },
     "execution_count": 54,
     "metadata": {},
     "output_type": "execute_result"
    }
   ],
   "source": [
    "type(c)"
   ]
  },
  {
   "cell_type": "code",
   "execution_count": 1,
   "id": "ab3a9afe",
   "metadata": {},
   "outputs": [
    {
     "name": "stdout",
     "output_type": "stream",
     "text": [
      "What is teh value of b ? 45\n"
     ]
    }
   ],
   "source": [
    "b = input(\"What is the value of b ? \")"
   ]
  },
  {
   "cell_type": "code",
   "execution_count": 2,
   "id": "c6e12cc3",
   "metadata": {
    "scrolled": true
   },
   "outputs": [
    {
     "name": "stdout",
     "output_type": "stream",
     "text": [
      "45\n"
     ]
    }
   ],
   "source": [
    "print(b)"
   ]
  },
  {
   "cell_type": "code",
   "execution_count": 4,
   "id": "66df27a5",
   "metadata": {},
   "outputs": [
    {
     "name": "stdout",
     "output_type": "stream",
     "text": [
      "The value of b is :  45\n"
     ]
    }
   ],
   "source": [
    "print(\"The value of b is : \",b)"
   ]
  },
  {
   "cell_type": "markdown",
   "id": "26e3701d",
   "metadata": {},
   "source": [
    "# String\n",
    "\n",
    "1. Strings in python are surrounded by either single quotation marks, or double quotation marks.\n",
    "2. 'hello' is the same as \"hello\""
   ]
  },
  {
   "cell_type": "code",
   "execution_count": 5,
   "id": "98525004",
   "metadata": {},
   "outputs": [],
   "source": [
    "# Something in a single or double quote\n",
    "s = 'Astajyoti'"
   ]
  },
  {
   "cell_type": "code",
   "execution_count": 6,
   "id": "673f5327",
   "metadata": {},
   "outputs": [
    {
     "data": {
      "text/plain": [
       "str"
      ]
     },
     "execution_count": 6,
     "metadata": {},
     "output_type": "execute_result"
    }
   ],
   "source": [
    "# To check the data type\n",
    "type(s)"
   ]
  },
  {
   "cell_type": "markdown",
   "id": "97440f2b",
   "metadata": {},
   "source": [
    "### String Subsetting (Extract some chracter/line/paragraph from a string variable)"
   ]
  },
  {
   "cell_type": "raw",
   "id": "25b8e00f",
   "metadata": {},
   "source": [
    "# Forward Indexing\n",
    "\n",
    "0-A, 1-s, 2-t, 3-a, 4-j, 5-y, 6-o, s-t, 8-i\n",
    "\n",
    "# Backward Indexing\n",
    "\n",
    "-9-A, -8-s, -7-t, -6-a, -5-j, -4-y, -3-o, -2-t,-1-i"
   ]
  },
  {
   "cell_type": "code",
   "execution_count": 8,
   "id": "50beb50c",
   "metadata": {},
   "outputs": [
    {
     "name": "stdout",
     "output_type": "stream",
     "text": [
      "A\n",
      "t\n",
      "i\n",
      "j\n"
     ]
    }
   ],
   "source": [
    "print(s[0])\n",
    "print(s[2])\n",
    "\n",
    "print(s[-1])\n",
    "print(s[-5])"
   ]
  },
  {
   "cell_type": "code",
   "execution_count": 9,
   "id": "85b83d88",
   "metadata": {},
   "outputs": [
    {
     "ename": "IndexError",
     "evalue": "string index out of range",
     "output_type": "error",
     "traceback": [
      "\u001b[1;31m---------------------------------------------------------------------------\u001b[0m",
      "\u001b[1;31mIndexError\u001b[0m                                Traceback (most recent call last)",
      "Cell \u001b[1;32mIn [9], line 2\u001b[0m\n\u001b[0;32m      1\u001b[0m \u001b[38;5;66;03m# if you want to access something out of index\u001b[39;00m\n\u001b[1;32m----> 2\u001b[0m \u001b[43ms\u001b[49m\u001b[43m[\u001b[49m\u001b[38;5;241;43m100\u001b[39;49m\u001b[43m]\u001b[49m\n",
      "\u001b[1;31mIndexError\u001b[0m: string index out of range"
     ]
    }
   ],
   "source": [
    "# if you want to access something out of index\n",
    "s[100]"
   ]
  },
  {
   "cell_type": "raw",
   "id": "1af08529",
   "metadata": {},
   "source": [
    "# To extract a range of character\n",
    "\n",
    "s[Start_Index: End_Index: Step_Size]\n",
    "\n",
    "--> End_Index will not be included\n",
    "--> Space will also be counted as a chracter\n",
    "--> Start_Index will be included"
   ]
  },
  {
   "cell_type": "code",
   "execution_count": 28,
   "id": "1663b1c3",
   "metadata": {},
   "outputs": [
    {
     "name": "stdout",
     "output_type": "stream",
     "text": [
      "Astaj\n",
      "tajy\n",
      "st\n",
      "\n",
      "itoyjatsA\n"
     ]
    }
   ],
   "source": [
    "print(s[0:5])\n",
    "print(s[2:6])\n",
    "\n",
    "print(s[-8:-6])\n",
    "\n",
    "# Because of positive jump it will not give any output\n",
    "print(s[-3:-6])\n",
    "\n",
    "print(s[-1:-10:-1])"
   ]
  },
  {
   "cell_type": "code",
   "execution_count": 29,
   "id": "c0acb6ec",
   "metadata": {},
   "outputs": [
    {
     "name": "stdout",
     "output_type": "stream",
     "text": [
      "Astajyo\n",
      "Atjo\n",
      "st\n"
     ]
    }
   ],
   "source": [
    "# To extract chracter with a skip/jump\n",
    "\n",
    "print(s[0:7:1])\n",
    "print(s[0:7:2])\n",
    "print(s[-8:-6])"
   ]
  },
  {
   "cell_type": "code",
   "execution_count": 19,
   "id": "e9deae17",
   "metadata": {},
   "outputs": [],
   "source": [
    "# By Default(if you are not giving any input), jump/step_size is 1"
   ]
  },
  {
   "cell_type": "code",
   "execution_count": 31,
   "id": "9ad5cca9",
   "metadata": {},
   "outputs": [
    {
     "name": "stdout",
     "output_type": "stream",
     "text": [
      "AstaAstaAsta\n"
     ]
    }
   ],
   "source": [
    "# To repeat a string\n",
    "print(\"Asta\"*3)"
   ]
  },
  {
   "cell_type": "code",
   "execution_count": 32,
   "id": "b71f5089",
   "metadata": {},
   "outputs": [
    {
     "name": "stdout",
     "output_type": "stream",
     "text": [
      "AstaJyoti\n"
     ]
    }
   ],
   "source": [
    "# To Concatenate string\n",
    "print(\"Asta\"+\"Jyoti\")"
   ]
  },
  {
   "cell_type": "code",
   "execution_count": 33,
   "id": "c06ffdfe",
   "metadata": {},
   "outputs": [
    {
     "data": {
      "text/plain": [
       "9"
      ]
     },
     "execution_count": 33,
     "metadata": {},
     "output_type": "execute_result"
    }
   ],
   "source": [
    "# Length of a string including space\n",
    "len(s)"
   ]
  },
  {
   "cell_type": "code",
   "execution_count": 37,
   "id": "e792c3ef",
   "metadata": {},
   "outputs": [
    {
     "name": "stdout",
     "output_type": "stream",
     "text": [
      "0\n",
      "6\n"
     ]
    }
   ],
   "source": [
    "# Find Function Return the lowest index in s where substring sub is found\n",
    "s = 'astajyoti'\n",
    "\n",
    "print(s.find('a'))\n",
    "print(s.find('ot'))"
   ]
  },
  {
   "cell_type": "code",
   "execution_count": 40,
   "id": "efa2644f",
   "metadata": {},
   "outputs": [
    {
     "data": {
      "text/plain": [
       "-1"
      ]
     },
     "execution_count": 40,
     "metadata": {},
     "output_type": "execute_result"
    }
   ],
   "source": [
    "# If it does not found anything it will always give -1\n",
    "s.find('ao')"
   ]
  },
  {
   "cell_type": "code",
   "execution_count": 42,
   "id": "7ffc1678",
   "metadata": {},
   "outputs": [
    {
     "data": {
      "text/plain": [
       "2"
      ]
     },
     "execution_count": 42,
     "metadata": {},
     "output_type": "execute_result"
    }
   ],
   "source": [
    "# Count the occurence of a letter\n",
    "s.count('a')"
   ]
  },
  {
   "cell_type": "code",
   "execution_count": 43,
   "id": "02074ce4",
   "metadata": {},
   "outputs": [
    {
     "data": {
      "text/plain": [
       "['I', 'am', 'astajyoti', 'behera']"
      ]
     },
     "execution_count": 43,
     "metadata": {},
     "output_type": "execute_result"
    }
   ],
   "source": [
    "# Separate enitre string into character\n",
    "\n",
    "s = \"I am astajyoti behera\"\n",
    "s.split()"
   ]
  },
  {
   "cell_type": "code",
   "execution_count": 44,
   "id": "5c2b5bd0",
   "metadata": {},
   "outputs": [
    {
     "data": {
      "text/plain": [
       "list"
      ]
     },
     "execution_count": 44,
     "metadata": {},
     "output_type": "execute_result"
    }
   ],
   "source": [
    "type(s.split())"
   ]
  },
  {
   "cell_type": "code",
   "execution_count": 45,
   "id": "2b6caeb2",
   "metadata": {},
   "outputs": [],
   "source": [
    "# If you want to save the character in a variable\n",
    "\n",
    "l = s.split()"
   ]
  },
  {
   "cell_type": "code",
   "execution_count": 46,
   "id": "d1640532",
   "metadata": {},
   "outputs": [
    {
     "data": {
      "text/plain": [
       "'am'"
      ]
     },
     "execution_count": 46,
     "metadata": {},
     "output_type": "execute_result"
    }
   ],
   "source": [
    "l[1]"
   ]
  },
  {
   "cell_type": "code",
   "execution_count": 47,
   "id": "5d3ad0c7",
   "metadata": {},
   "outputs": [
    {
     "data": {
      "text/plain": [
       "'I AM ASTAJYOTI BEHERA'"
      ]
     },
     "execution_count": 47,
     "metadata": {},
     "output_type": "execute_result"
    }
   ],
   "source": [
    "# To find the Upper case\n",
    "s.upper()"
   ]
  },
  {
   "cell_type": "code",
   "execution_count": 48,
   "id": "55607580",
   "metadata": {},
   "outputs": [
    {
     "data": {
      "text/plain": [
       "'i AM ASTAJYOTI BEHERA'"
      ]
     },
     "execution_count": 48,
     "metadata": {},
     "output_type": "execute_result"
    }
   ],
   "source": [
    "# To swap the case of letter\n",
    "\n",
    "s.swapcase()"
   ]
  },
  {
   "cell_type": "code",
   "execution_count": 49,
   "id": "62968f4a",
   "metadata": {},
   "outputs": [
    {
     "data": {
      "text/plain": [
       "'I Am Astajyoti Behera'"
      ]
     },
     "execution_count": 49,
     "metadata": {},
     "output_type": "execute_result"
    }
   ],
   "source": [
    "# To change to Title case\n",
    "\n",
    "s.title()"
   ]
  },
  {
   "cell_type": "code",
   "execution_count": 50,
   "id": "33f7e665",
   "metadata": {},
   "outputs": [
    {
     "data": {
      "text/plain": [
       "'I am astajyoti behera'"
      ]
     },
     "execution_count": 50,
     "metadata": {},
     "output_type": "execute_result"
    }
   ],
   "source": [
    "# To capitalize the first character\n",
    "\n",
    "s.capitalize()"
   ]
  },
  {
   "cell_type": "code",
   "execution_count": 51,
   "id": "276cd6df",
   "metadata": {},
   "outputs": [
    {
     "data": {
      "text/plain": [
       "'x/y/z'"
      ]
     },
     "execution_count": 51,
     "metadata": {},
     "output_type": "execute_result"
    }
   ],
   "source": [
    "# To join character\n",
    "\n",
    "b = '/'\n",
    "c = 'xyz'\n",
    "b.join(c)"
   ]
  },
  {
   "cell_type": "code",
   "execution_count": 52,
   "id": "d77f7e01",
   "metadata": {},
   "outputs": [
    {
     "data": {
      "text/plain": [
       "' asta'"
      ]
     },
     "execution_count": 52,
     "metadata": {},
     "output_type": "execute_result"
    }
   ],
   "source": [
    "# To right strip blank spaces\n",
    "\n",
    "s = ' asta '\n",
    "s.rstrip()"
   ]
  },
  {
   "cell_type": "code",
   "execution_count": 55,
   "id": "3d070651",
   "metadata": {},
   "outputs": [
    {
     "data": {
      "text/plain": [
       "'asta '"
      ]
     },
     "execution_count": 55,
     "metadata": {},
     "output_type": "execute_result"
    }
   ],
   "source": [
    "# To left strip blank spaces\n",
    "\n",
    "s.lstrip()"
   ]
  },
  {
   "cell_type": "code",
   "execution_count": 56,
   "id": "33595a56",
   "metadata": {},
   "outputs": [
    {
     "data": {
      "text/plain": [
       "'asta'"
      ]
     },
     "execution_count": 56,
     "metadata": {},
     "output_type": "execute_result"
    }
   ],
   "source": [
    "# To strip for both left and right spaces\n",
    "\n",
    "s.strip()"
   ]
  },
  {
   "cell_type": "code",
   "execution_count": 57,
   "id": "c5bbd597",
   "metadata": {},
   "outputs": [
    {
     "data": {
      "text/plain": [
       "' xyzstxyz '"
      ]
     },
     "execution_count": 57,
     "metadata": {},
     "output_type": "execute_result"
    }
   ],
   "source": [
    "# To replace a character\n",
    "\n",
    "s.replace('a', 'xyz')"
   ]
  },
  {
   "cell_type": "code",
   "execution_count": 58,
   "id": "bf557ae1",
   "metadata": {},
   "outputs": [
    {
     "data": {
      "text/plain": [
       "'################# asta #################'"
      ]
     },
     "execution_count": 58,
     "metadata": {},
     "output_type": "execute_result"
    }
   ],
   "source": [
    "# To make '################# asta #################'\n",
    "\n",
    "s.center(40,'#')"
   ]
  },
  {
   "cell_type": "code",
   "execution_count": 60,
   "id": "6a0c5c34",
   "metadata": {},
   "outputs": [
    {
     "data": {
      "text/plain": [
       "False"
      ]
     },
     "execution_count": 60,
     "metadata": {},
     "output_type": "execute_result"
    }
   ],
   "source": [
    "# To check if the string is in upper case\n",
    "\n",
    "s.isupper()"
   ]
  },
  {
   "cell_type": "code",
   "execution_count": 61,
   "id": "2e109e95",
   "metadata": {},
   "outputs": [
    {
     "data": {
      "text/plain": [
       "True"
      ]
     },
     "execution_count": 61,
     "metadata": {},
     "output_type": "execute_result"
    }
   ],
   "source": [
    "# To check if the string has space\n",
    "\n",
    "s = \" \"\n",
    "s.isspace()"
   ]
  },
  {
   "cell_type": "code",
   "execution_count": 62,
   "id": "b7e8fea4",
   "metadata": {},
   "outputs": [
    {
     "data": {
      "text/plain": [
       "True"
      ]
     },
     "execution_count": 62,
     "metadata": {},
     "output_type": "execute_result"
    }
   ],
   "source": [
    "# To check if the string has only digits\n",
    "\n",
    "s = \"43526\"\n",
    "s.isdigit()"
   ]
  },
  {
   "cell_type": "code",
   "execution_count": 63,
   "id": "b0b2f33b",
   "metadata": {},
   "outputs": [
    {
     "data": {
      "text/plain": [
       "False"
      ]
     },
     "execution_count": 63,
     "metadata": {},
     "output_type": "execute_result"
    }
   ],
   "source": [
    "# To check if the string ends with some particular chracter\n",
    "\n",
    "s = 'Astb'\n",
    "s.endswith('a')"
   ]
  },
  {
   "cell_type": "code",
   "execution_count": 53,
   "id": "f0ac56c5",
   "metadata": {},
   "outputs": [
    {
     "data": {
      "text/plain": [
       "True"
      ]
     },
     "execution_count": 53,
     "metadata": {},
     "output_type": "execute_result"
    }
   ],
   "source": [
    "# To check if the string ends with some particular chracter\n",
    "\n",
    "s.endswith('b')"
   ]
  },
  {
   "cell_type": "code",
   "execution_count": 64,
   "id": "4e456b13",
   "metadata": {},
   "outputs": [
    {
     "data": {
      "text/plain": [
       "True"
      ]
     },
     "execution_count": 64,
     "metadata": {},
     "output_type": "execute_result"
    }
   ],
   "source": [
    "# To check if the string starts with some particular chracter\n",
    "\n",
    "s.startswith('A')"
   ]
  },
  {
   "cell_type": "markdown",
   "id": "a3212ab9",
   "metadata": {},
   "source": [
    "# List\n",
    "\n",
    "1. Lists are used to store multiple items in a single variable.\n",
    "2. Lists are created using square brackets.\n",
    "3. List items are ordered, changeable, and allow duplicate values.\n",
    "\n",
    "Ordered - When we say that lists are ordered, it means that the items have a defined order, and that order will not change. If you add new items to a list, the new items will be placed at the end of the list.\n",
    "\n",
    "Changeable - The list is changeable, meaning that we can change, add, and remove items in a list after it has been created."
   ]
  },
  {
   "cell_type": "code",
   "execution_count": 66,
   "id": "fb6453a1",
   "metadata": {},
   "outputs": [
    {
     "name": "stdout",
     "output_type": "stream",
     "text": [
      "['apple', 'banana', 'cherry', 'apple', 'cherry']\n"
     ]
    }
   ],
   "source": [
    "thislist = [\"apple\", \"banana\", \"cherry\", \"apple\", \"cherry\"]\n",
    "print(thislist)"
   ]
  },
  {
   "cell_type": "code",
   "execution_count": 67,
   "id": "68de0dd6",
   "metadata": {},
   "outputs": [
    {
     "name": "stdout",
     "output_type": "stream",
     "text": [
      "3\n"
     ]
    }
   ],
   "source": [
    "# List Length\n",
    "\n",
    "thislist = [\"apple\", \"banana\", \"cherry\"]\n",
    "print(len(thislist))"
   ]
  },
  {
   "cell_type": "code",
   "execution_count": 69,
   "id": "45636277",
   "metadata": {},
   "outputs": [],
   "source": [
    "# List Items - Data Types\n",
    "# List items can be of any data type\n",
    "\n",
    "list1 = [\"apple\", \"banana\", \"cherry\"]\n",
    "list2 = [1, 5, 7, 9, 3]\n",
    "list3 = [True, False, False]"
   ]
  },
  {
   "cell_type": "markdown",
   "id": "bb99eb7d",
   "metadata": {},
   "source": [
    "### Subsetting of data in list"
   ]
  },
  {
   "cell_type": "code",
   "execution_count": 71,
   "id": "044c0668",
   "metadata": {},
   "outputs": [],
   "source": [
    "l = ['Asta', 'Jyoti', 234, 4+5j, True, False, 23.45]"
   ]
  },
  {
   "cell_type": "code",
   "execution_count": 74,
   "id": "2c147c6e",
   "metadata": {},
   "outputs": [
    {
     "name": "stdout",
     "output_type": "stream",
     "text": [
      "Asta\n",
      "23.45\n",
      "['Asta', 'Jyoti', 234, (4+5j)]\n"
     ]
    }
   ],
   "source": [
    "print(l[0])\n",
    "print(l[-1])\n",
    "\n",
    "print(l[0:4])"
   ]
  },
  {
   "cell_type": "code",
   "execution_count": 75,
   "id": "c414874b",
   "metadata": {},
   "outputs": [
    {
     "name": "stdout",
     "output_type": "stream",
     "text": [
      "[23.45, False, True, (4+5j), 234, 'Jyoti', 'Asta']\n"
     ]
    }
   ],
   "source": [
    "print(l[::-1])"
   ]
  },
  {
   "cell_type": "code",
   "execution_count": 76,
   "id": "d126cbc4",
   "metadata": {},
   "outputs": [
    {
     "data": {
      "text/plain": [
       "'s'"
      ]
     },
     "execution_count": 76,
     "metadata": {},
     "output_type": "execute_result"
    }
   ],
   "source": [
    "# Extract something from a list element\n",
    "l[0][1]"
   ]
  },
  {
   "cell_type": "code",
   "execution_count": 79,
   "id": "5280349d",
   "metadata": {},
   "outputs": [
    {
     "name": "stdout",
     "output_type": "stream",
     "text": [
      "['asta', 'behera', 234, 'xyz', 'abc', 43.54]\n",
      "['asta', 'behera', 234, 'asta1']\n",
      "['asta', 'behera', 234, 'asta', 'behera', 234, 'asta', 'behera', 234]\n"
     ]
    }
   ],
   "source": [
    "# List addition/join\n",
    "\n",
    "l1 = [\"asta\", 'behera', 234]\n",
    "l2 = ['xyz', 'abc', 43.54]\n",
    "\n",
    "print(l1+l2)\n",
    "print(l1+[\"asta1\"])\n",
    "print(l1*3)"
   ]
  },
  {
   "cell_type": "code",
   "execution_count": 81,
   "id": "264ec494",
   "metadata": {},
   "outputs": [
    {
     "name": "stdout",
     "output_type": "stream",
     "text": [
      "['Sanu', 'behera', 234]\n"
     ]
    }
   ],
   "source": [
    "# Add item to the list\n",
    "\n",
    "l1[0] = \"Sanu\"\n",
    "print(l1)"
   ]
  },
  {
   "cell_type": "code",
   "execution_count": 82,
   "id": "7b26bfec",
   "metadata": {},
   "outputs": [],
   "source": [
    "# List is a mutable object\n",
    "# String is immutable object"
   ]
  },
  {
   "cell_type": "code",
   "execution_count": 84,
   "id": "2d62db77",
   "metadata": {},
   "outputs": [
    {
     "name": "stdout",
     "output_type": "stream",
     "text": [
      "<class 'str'>\n"
     ]
    },
    {
     "ename": "TypeError",
     "evalue": "'str' object does not support item assignment",
     "output_type": "error",
     "traceback": [
      "\u001b[1;31m---------------------------------------------------------------------------\u001b[0m",
      "\u001b[1;31mTypeError\u001b[0m                                 Traceback (most recent call last)",
      "Cell \u001b[1;32mIn [84], line 2\u001b[0m\n\u001b[0;32m      1\u001b[0m \u001b[38;5;28mprint\u001b[39m(\u001b[38;5;28mtype\u001b[39m(l1[\u001b[38;5;241m0\u001b[39m]))\n\u001b[1;32m----> 2\u001b[0m \u001b[43ml1\u001b[49m\u001b[43m[\u001b[49m\u001b[38;5;241;43m0\u001b[39;49m\u001b[43m]\u001b[49m\u001b[43m[\u001b[49m\u001b[38;5;241;43m0\u001b[39;49m\u001b[43m]\u001b[49m \u001b[38;5;241m=\u001b[39m \u001b[38;5;124m'\u001b[39m\u001b[38;5;124mk\u001b[39m\u001b[38;5;124m'\u001b[39m\n",
      "\u001b[1;31mTypeError\u001b[0m: 'str' object does not support item assignment"
     ]
    }
   ],
   "source": [
    "print(type(l1[0]))\n",
    "l1[0][0] = 'k'"
   ]
  },
  {
   "cell_type": "code",
   "execution_count": 86,
   "id": "dda5193d",
   "metadata": {},
   "outputs": [
    {
     "name": "stdout",
     "output_type": "stream",
     "text": [
      "['xyz', 'abc', 43.54, 'asta', 'asta']\n"
     ]
    }
   ],
   "source": [
    "# To append an element to an existing list\n",
    "l2.append('asta')\n",
    "print(l2)"
   ]
  },
  {
   "cell_type": "code",
   "execution_count": 88,
   "id": "c3432cc8",
   "metadata": {},
   "outputs": [
    {
     "name": "stdout",
     "output_type": "stream",
     "text": [
      "['xyz', 'abc', 43.54, 'asta']\n"
     ]
    },
    {
     "data": {
      "text/plain": [
       "43.54"
      ]
     },
     "execution_count": 88,
     "metadata": {},
     "output_type": "execute_result"
    }
   ],
   "source": [
    "#To Remove an element - and give it in output\n",
    "print(l2)\n",
    "l2.pop(3)\n",
    "l2.pop()"
   ]
  },
  {
   "cell_type": "code",
   "execution_count": 89,
   "id": "da37e407",
   "metadata": {},
   "outputs": [
    {
     "name": "stdout",
     "output_type": "stream",
     "text": [
      "['xyz', '234', 'abc']\n"
     ]
    }
   ],
   "source": [
    "# To insert something in a list at a particular index\n",
    "l2.insert(1, '234')\n",
    "print(l2)"
   ]
  },
  {
   "cell_type": "code",
   "execution_count": 92,
   "id": "80de1a47",
   "metadata": {},
   "outputs": [
    {
     "name": "stdout",
     "output_type": "stream",
     "text": [
      "['xyz', '234', 'abc']\n",
      "['abc', '234', 'xyz']\n"
     ]
    }
   ],
   "source": [
    "# To reverse a list\n",
    "print(l2)\n",
    "l2.reverse()\n",
    "print(l2)"
   ]
  },
  {
   "cell_type": "code",
   "execution_count": 94,
   "id": "8971bf3f",
   "metadata": {},
   "outputs": [
    {
     "name": "stdout",
     "output_type": "stream",
     "text": [
      "['abc', '234', 'xyz']\n",
      "['abc', '234', 'xyz', [9, 8, 7, 6]]\n",
      "['abc', '234', 'xyz', [9, 8, 7, 6], 4, 5, 6, 7]\n"
     ]
    }
   ],
   "source": [
    "# Check the difference between append and extend function\n",
    "\n",
    "print(l2)\n",
    "\n",
    "l2.append([9,8,7,6])\n",
    "print(l2)\n",
    "\n",
    "l2.extend([4,5,6,7])\n",
    "print(l2)"
   ]
  },
  {
   "cell_type": "markdown",
   "id": "c9885893",
   "metadata": {},
   "source": [
    "# Tuples\n",
    "\n",
    "1. Tuples are used to store multiple items in a single variable.\n",
    "2. Tuple is one of 4 built-in data types in Python used to store collections of data, the other 3 are List, Set, and Dictionary, all with different qualities and usage.\n",
    "3. A tuple is a collection which is ordered and unchangeable.\n",
    "4. Tuples are written with round brackets.\n",
    "\n",
    "## Where to use Tuples?\n",
    "1. If you don't want anyone to change your password/collection, you can use Tuple\n",
    "2. Where you don't want extend, append. remove, pop, insert operation, you can use Tuple."
   ]
  },
  {
   "cell_type": "code",
   "execution_count": 96,
   "id": "4241f0ab",
   "metadata": {},
   "outputs": [
    {
     "name": "stdout",
     "output_type": "stream",
     "text": [
      "('apple', 'banana', 'cherry')\n"
     ]
    }
   ],
   "source": [
    "thistuple = (\"apple\", \"banana\", \"cherry\")\n",
    "print(thistuple)"
   ]
  },
  {
   "cell_type": "code",
   "execution_count": 98,
   "id": "5b2722dd",
   "metadata": {},
   "outputs": [
    {
     "data": {
      "text/plain": [
       "tuple"
      ]
     },
     "execution_count": 98,
     "metadata": {},
     "output_type": "execute_result"
    }
   ],
   "source": [
    "# To check the data type\n",
    "type(thistuple)"
   ]
  },
  {
   "cell_type": "code",
   "execution_count": 104,
   "id": "fe3913d9",
   "metadata": {},
   "outputs": [
    {
     "data": {
      "text/plain": [
       "('Asta', 2)"
      ]
     },
     "execution_count": 104,
     "metadata": {},
     "output_type": "execute_result"
    }
   ],
   "source": [
    "# Subsetting/slicing tuple\n",
    "\n",
    "t1 = ('Asta', 2, True, 2+3j)\n",
    "t1[0:2]"
   ]
  },
  {
   "cell_type": "code",
   "execution_count": 101,
   "id": "eed98bbb",
   "metadata": {},
   "outputs": [
    {
     "data": {
      "text/plain": [
       "((2+3j), True, 2, 'Asta')"
      ]
     },
     "execution_count": 101,
     "metadata": {},
     "output_type": "execute_result"
    }
   ],
   "source": [
    "# Reverse order of tuple\n",
    "t1[::-1]"
   ]
  },
  {
   "cell_type": "code",
   "execution_count": 102,
   "id": "a2c38afb",
   "metadata": {},
   "outputs": [
    {
     "data": {
      "text/plain": [
       "(2+3j)"
      ]
     },
     "execution_count": 102,
     "metadata": {},
     "output_type": "execute_result"
    }
   ],
   "source": [
    "# Last element of the tuple\n",
    "t1[-1]"
   ]
  },
  {
   "cell_type": "code",
   "execution_count": 103,
   "id": "f0811750",
   "metadata": {},
   "outputs": [
    {
     "ename": "TypeError",
     "evalue": "'tuple' object does not support item assignment",
     "output_type": "error",
     "traceback": [
      "\u001b[1;31m---------------------------------------------------------------------------\u001b[0m",
      "\u001b[1;31mTypeError\u001b[0m                                 Traceback (most recent call last)",
      "Cell \u001b[1;32mIn [103], line 2\u001b[0m\n\u001b[0;32m      1\u001b[0m \u001b[38;5;66;03m# Iterm assignment is not possible in tuple\u001b[39;00m\n\u001b[1;32m----> 2\u001b[0m \u001b[43mt1\u001b[49m\u001b[43m[\u001b[49m\u001b[38;5;241;43m0\u001b[39;49m\u001b[43m]\u001b[49m \u001b[38;5;241m=\u001b[39m \u001b[38;5;124m'\u001b[39m\u001b[38;5;124mBehera\u001b[39m\u001b[38;5;124m'\u001b[39m\n",
      "\u001b[1;31mTypeError\u001b[0m: 'tuple' object does not support item assignment"
     ]
    }
   ],
   "source": [
    "# Iterm assignment is not possible in tuple\n",
    "t1[0] = 'Behera'"
   ]
  },
  {
   "cell_type": "markdown",
   "id": "a04400d7",
   "metadata": {},
   "source": [
    "#### --> 'tuple' object does not support item assignment. It is immutable. String is also immutable. But List is mutable."
   ]
  },
  {
   "cell_type": "code",
   "execution_count": 109,
   "id": "54022586",
   "metadata": {},
   "outputs": [
    {
     "data": {
      "text/plain": [
       "('Asta', 2, True, (2+3j), 2, 1, 2, 3, 4, 5, 6)"
      ]
     },
     "execution_count": 109,
     "metadata": {},
     "output_type": "execute_result"
    }
   ],
   "source": [
    "# Append 2 tuples - It is similar to List\n",
    "\n",
    "t1 = ('Asta', 2, True, 2+3j,2)\n",
    "t2 = (1,2,3,4,5,6)\n",
    "\n",
    "t1+t2"
   ]
  },
  {
   "cell_type": "code",
   "execution_count": 106,
   "id": "bea6f8bf",
   "metadata": {},
   "outputs": [
    {
     "data": {
      "text/plain": [
       "('Asta', 2, True, (2+3j), 'Asta', 2, True, (2+3j))"
      ]
     },
     "execution_count": 106,
     "metadata": {},
     "output_type": "execute_result"
    }
   ],
   "source": [
    "# Repeat same tuple element twice\n",
    "\n",
    "t1*2"
   ]
  },
  {
   "cell_type": "code",
   "execution_count": 110,
   "id": "10e93b6c",
   "metadata": {},
   "outputs": [
    {
     "data": {
      "text/plain": [
       "2"
      ]
     },
     "execution_count": 110,
     "metadata": {},
     "output_type": "execute_result"
    }
   ],
   "source": [
    "# The count() method returns the number of times a specified value appears in the tuple\n",
    "t1.count(2)"
   ]
  },
  {
   "cell_type": "code",
   "execution_count": 112,
   "id": "8ab02520",
   "metadata": {},
   "outputs": [
    {
     "data": {
      "text/plain": [
       "3"
      ]
     },
     "execution_count": 112,
     "metadata": {},
     "output_type": "execute_result"
    }
   ],
   "source": [
    "# The tuple index() method helps us to find the index of an element in a tuple\n",
    "t1.index(2+3j)"
   ]
  },
  {
   "cell_type": "code",
   "execution_count": 115,
   "id": "33a45406",
   "metadata": {},
   "outputs": [
    {
     "name": "stdout",
     "output_type": "stream",
     "text": [
      "((1, 2, 3), (4, [5, 6]))\n",
      "(1, 2, 3)\n",
      "[5, 6]\n"
     ]
    }
   ],
   "source": [
    "# Tuple inside a Tuple\n",
    "t = ((1,2,3), (4,[5,6]))\n",
    "print(t)\n",
    "print(t[0])\n",
    "print(t[1][1])"
   ]
  },
  {
   "cell_type": "markdown",
   "id": "04d994b1",
   "metadata": {},
   "source": [
    "# Set\n",
    "\n",
    "1. Sets are written with curly brackets.\n",
    "2. Sets are used to store multiple items in a single variable.\n",
    "3. Set is one of 4 built-in data types in Python used to store collections of data, the other 3 are List, Tuple, and Dictionary, all with different qualities and usage.\n",
    "4. A set is a collection which is unordered, unchangeable*, and unindexed.\n",
    "\n",
    "* Note: Set items are unchangeable, but you can remove items and add new items."
   ]
  },
  {
   "cell_type": "code",
   "execution_count": 122,
   "id": "89f0e651",
   "metadata": {},
   "outputs": [
    {
     "name": "stdout",
     "output_type": "stream",
     "text": [
      "<class 'set'>\n"
     ]
    }
   ],
   "source": [
    "myset = {\"apple\", \"banana\", \"cherry\"}\n",
    "\n",
    "print(type(myset))"
   ]
  },
  {
   "cell_type": "code",
   "execution_count": 126,
   "id": "45625d10",
   "metadata": {},
   "outputs": [
    {
     "name": "stdout",
     "output_type": "stream",
     "text": [
      "<class 'dict'>\n"
     ]
    }
   ],
   "source": [
    "# Dictionary is also written within curly braces\n",
    "\n",
    "d1 = {}\n",
    "print(type(d1))"
   ]
  },
  {
   "cell_type": "code",
   "execution_count": 125,
   "id": "56a83ab2",
   "metadata": {},
   "outputs": [
    {
     "name": "stdout",
     "output_type": "stream",
     "text": [
      "[1, 2, 3, 4, 5, 6, 66, 6, 6, 5, 5, 2, 2]\n",
      "{1, 2, 3, 4, 5, 6, 66}\n"
     ]
    }
   ],
   "source": [
    "# Create a list\n",
    "l = [1,2,3,4,5,6,66,6,6,5,5,2,2]\n",
    "print(l)\n",
    "\n",
    "# Remove all duplicate element\n",
    "print(set(l))"
   ]
  },
  {
   "cell_type": "code",
   "execution_count": 127,
   "id": "3e81e939",
   "metadata": {},
   "outputs": [
    {
     "name": "stdout",
     "output_type": "stream",
     "text": [
      "{1, 2, 3, 4}\n"
     ]
    }
   ],
   "source": [
    "# If you pass multiple at a time into a set\n",
    "s1 = {1,1,1,1,2,2,2,2,3,3,3,3,3,4,4}\n",
    "print(s1)"
   ]
  },
  {
   "cell_type": "code",
   "execution_count": 128,
   "id": "8cb9eacf",
   "metadata": {},
   "outputs": [],
   "source": [
    "# You can not slice and dice from a set using a indexing operation"
   ]
  },
  {
   "cell_type": "code",
   "execution_count": 129,
   "id": "21e7f16f",
   "metadata": {},
   "outputs": [
    {
     "data": {
      "text/plain": [
       "3"
      ]
     },
     "execution_count": 129,
     "metadata": {},
     "output_type": "execute_result"
    }
   ],
   "source": [
    "# If you want to slice and dice, convert it to a list then use indexing operation\n",
    "list(s1)[2]"
   ]
  },
  {
   "cell_type": "code",
   "execution_count": 132,
   "id": "de591ecd",
   "metadata": {},
   "outputs": [
    {
     "name": "stdout",
     "output_type": "stream",
     "text": [
      "{1, 2, 3, 4, 22}\n"
     ]
    }
   ],
   "source": [
    "# Add a element to a set\n",
    "s1.add(22)\n",
    "print(s1)"
   ]
  },
  {
   "cell_type": "code",
   "execution_count": 133,
   "id": "32dae61a",
   "metadata": {},
   "outputs": [
    {
     "ename": "TypeError",
     "evalue": "unhashable type: 'list'",
     "output_type": "error",
     "traceback": [
      "\u001b[1;31m---------------------------------------------------------------------------\u001b[0m",
      "\u001b[1;31mTypeError\u001b[0m                                 Traceback (most recent call last)",
      "Cell \u001b[1;32mIn [133], line 2\u001b[0m\n\u001b[0;32m      1\u001b[0m \u001b[38;5;66;03m# A list can not be host inside a set\u001b[39;00m\n\u001b[1;32m----> 2\u001b[0m \u001b[43ms1\u001b[49m\u001b[38;5;241;43m.\u001b[39;49m\u001b[43madd\u001b[49m\u001b[43m(\u001b[49m\u001b[43m[\u001b[49m\u001b[38;5;241;43m1\u001b[39;49m\u001b[43m,\u001b[49m\u001b[38;5;241;43m2\u001b[39;49m\u001b[43m,\u001b[49m\u001b[38;5;241;43m3\u001b[39;49m\u001b[43m]\u001b[49m\u001b[43m)\u001b[49m\n",
      "\u001b[1;31mTypeError\u001b[0m: unhashable type: 'list'"
     ]
    }
   ],
   "source": [
    "# A list can not be host inside a set\n",
    "s1.add([1,2,3])"
   ]
  },
  {
   "cell_type": "code",
   "execution_count": 134,
   "id": "c9cf61bc",
   "metadata": {},
   "outputs": [
    {
     "name": "stdout",
     "output_type": "stream",
     "text": [
      "{1, 2, 3, 4}\n"
     ]
    }
   ],
   "source": [
    "# To delete any element from a set\n",
    "s1.discard(22)\n",
    "print(s1)"
   ]
  },
  {
   "cell_type": "markdown",
   "id": "3a6062fe",
   "metadata": {},
   "source": [
    "# Dictionary\n",
    "\n",
    "1. Dictionaries are used to store data values in key:value pairs.\n",
    "2. A dictionary is a collection which is ordered*, changeable and do not allow duplicates.\n",
    "3. Dictionaries are written with curly brackets, and have keys and values\n",
    "4. Value wise you can store any type of data type in values inside a dictionary (i.e. string, int, tuple, dict, list, set)\n",
    "5. Difference between set and dictionary is, while creating a dictionary, you have to create {key : value} pair.\n",
    "\n",
    "*As of Python version 3.7, dictionaries are ordered. In Python 3.6 and earlier, dictionaries are unordered."
   ]
  },
  {
   "cell_type": "code",
   "execution_count": 135,
   "id": "e6592c73",
   "metadata": {},
   "outputs": [
    {
     "name": "stdout",
     "output_type": "stream",
     "text": [
      "{'brand': 'Ford', 'model': 'Mustang', 'year': 1964}\n",
      "<class 'dict'>\n"
     ]
    }
   ],
   "source": [
    "thisdict = { \"brand\": \"Ford\", \"model\": \"Mustang\", \"year\": 1964 }\n",
    "print(thisdict)\n",
    "print(type(thisdict))"
   ]
  },
  {
   "cell_type": "code",
   "execution_count": 143,
   "id": "560c7b34",
   "metadata": {},
   "outputs": [
    {
     "name": "stdout",
     "output_type": "stream",
     "text": [
      "dict_keys(['key1', 'key2', 'key3'])\n",
      "dict_values([5545, 'Asta', [2, 3, 4]])\n"
     ]
    }
   ],
   "source": [
    "d1 = {'key1': 5545, 'key2':'Asta','key3':[2,3,4]}\n",
    "\n",
    "print(d1.keys())\n",
    "print(d1.values())"
   ]
  },
  {
   "cell_type": "code",
   "execution_count": 152,
   "id": "6fd97a7c",
   "metadata": {},
   "outputs": [
    {
     "name": "stdout",
     "output_type": "stream",
     "text": [
      "Asta\n",
      "5545\n"
     ]
    }
   ],
   "source": [
    "# Subsetting Dictionary\n",
    "\n",
    "print(d1['key2'])\n",
    "print(d1.get('key1'))"
   ]
  },
  {
   "cell_type": "code",
   "execution_count": 144,
   "id": "841e78bf",
   "metadata": {},
   "outputs": [
    {
     "name": "stdout",
     "output_type": "stream",
     "text": [
      "{'key1': 5545, 'key2': 'Asta', 'key3': [2, 3, 4]}\n",
      "{'key1': 5545, 'key2': 'Asta', 'key3': [2, 3, 4], 'key4': 'Ram'}\n"
     ]
    }
   ],
   "source": [
    "# Assigning new key and value to an existing dictionary\n",
    "\n",
    "print(d1)\n",
    "d1['key4'] = \"Ram\"\n",
    "print(d1)"
   ]
  },
  {
   "cell_type": "code",
   "execution_count": 145,
   "id": "0cf28b56",
   "metadata": {},
   "outputs": [
    {
     "name": "stdout",
     "output_type": "stream",
     "text": [
      "{'key1': 5545, 'key2': 'Asta', 'key3': [2, 3, 4], 'key4': 'Ram'}\n",
      "{'key1': 5545, 'key2': 'Asta', 'key3': 50, 'key4': 'Ram'}\n"
     ]
    }
   ],
   "source": [
    "# Item replacement\n",
    "\n",
    "print(d1)\n",
    "d1['key3'] = 50\n",
    "print(d1)"
   ]
  },
  {
   "cell_type": "code",
   "execution_count": null,
   "id": "bb1ab9cc",
   "metadata": {},
   "outputs": [],
   "source": []
  }
 ],
 "metadata": {
  "kernelspec": {
   "display_name": "Python 3 (ipykernel)",
   "language": "python",
   "name": "python3"
  },
  "language_info": {
   "codemirror_mode": {
    "name": "ipython",
    "version": 3
   },
   "file_extension": ".py",
   "mimetype": "text/x-python",
   "name": "python",
   "nbconvert_exporter": "python",
   "pygments_lexer": "ipython3",
   "version": "3.10.10"
  }
 },
 "nbformat": 4,
 "nbformat_minor": 5
}
