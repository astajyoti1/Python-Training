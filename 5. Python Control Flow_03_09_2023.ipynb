{
 "cells": [
  {
   "cell_type": "markdown",
   "metadata": {},
   "source": [
    "### Range Function\n",
    "\n",
    "range() function is used to generate a sequence of numbers within a specified range"
   ]
  },
  {
   "cell_type": "code",
   "execution_count": 7,
   "metadata": {},
   "outputs": [
    {
     "name": "stdout",
     "output_type": "stream",
     "text": [
      "0\n",
      "1\n",
      "2\n",
      "3\n",
      "4\n"
     ]
    }
   ],
   "source": [
    "# range(stop): \n",
    "\n",
    "for i in range(5):\n",
    "    print(i)"
   ]
  },
  {
   "cell_type": "code",
   "execution_count": 8,
   "metadata": {},
   "outputs": [
    {
     "name": "stdout",
     "output_type": "stream",
     "text": [
      "2\n",
      "3\n",
      "4\n"
     ]
    }
   ],
   "source": [
    "# range(start, stop): \n",
    "\n",
    "for i in range(2, 5):\n",
    "    print(i)"
   ]
  },
  {
   "cell_type": "code",
   "execution_count": 9,
   "metadata": {},
   "outputs": [
    {
     "name": "stdout",
     "output_type": "stream",
     "text": [
      "1\n",
      "3\n",
      "5\n",
      "7\n",
      "9\n"
     ]
    }
   ],
   "source": [
    "# range(start, stop, step):\n",
    "\n",
    "for i in range(1, 10, 2):\n",
    "    print(i)"
   ]
  },
  {
   "cell_type": "markdown",
   "metadata": {},
   "source": [
    "## Control Statement"
   ]
  },
  {
   "cell_type": "markdown",
   "metadata": {},
   "source": [
    "### 1. IF"
   ]
  },
  {
   "cell_type": "code",
   "execution_count": 10,
   "metadata": {},
   "outputs": [],
   "source": [
    "# if Statement:\n",
    "\n",
    "# if condition:\n",
    "#     # Code to execute if the condition is true\n"
   ]
  },
  {
   "cell_type": "code",
   "execution_count": 11,
   "metadata": {},
   "outputs": [
    {
     "name": "stdout",
     "output_type": "stream",
     "text": [
      "x is greater than 5\n"
     ]
    }
   ],
   "source": [
    "x = 10\n",
    "if x > 5:\n",
    "    print(\"x is greater than 5\")\n"
   ]
  },
  {
   "cell_type": "code",
   "execution_count": 12,
   "metadata": {},
   "outputs": [],
   "source": [
    "# if...else Statement:\n",
    "\n",
    "# if condition:\n",
    "#     # Code to execute if the condition is true\n",
    "# else:\n",
    "#     # Code to execute if the condition is false\n"
   ]
  },
  {
   "cell_type": "code",
   "execution_count": 13,
   "metadata": {},
   "outputs": [
    {
     "name": "stdout",
     "output_type": "stream",
     "text": [
      "You are an adult\n"
     ]
    }
   ],
   "source": [
    "age = 18\n",
    "if age >= 18:\n",
    "    print(\"You are an adult\")\n",
    "else:\n",
    "    print(\"You are not an adult\")\n"
   ]
  },
  {
   "cell_type": "code",
   "execution_count": 14,
   "metadata": {},
   "outputs": [],
   "source": [
    "# if...elif...else Statement:\n",
    "\n",
    "# if condition1:\n",
    "#     # Code to execute if condition1 is true\n",
    "# elif condition2:\n",
    "#     # Code to execute if condition2 is true\n",
    "# else:\n",
    "#     # Code to execute if no conditions are true"
   ]
  },
  {
   "cell_type": "code",
   "execution_count": 15,
   "metadata": {},
   "outputs": [
    {
     "name": "stdout",
     "output_type": "stream",
     "text": [
      "B\n"
     ]
    }
   ],
   "source": [
    "grade = 85\n",
    "if grade >= 90:\n",
    "    print(\"A\")\n",
    "elif grade >= 80:\n",
    "    print(\"B\")\n",
    "elif grade >= 70:\n",
    "    print(\"C\")\n",
    "else:\n",
    "    print(\"F\")\n"
   ]
  },
  {
   "cell_type": "code",
   "execution_count": 16,
   "metadata": {},
   "outputs": [],
   "source": [
    "# nested if statements\n",
    "\n",
    "# if condition1:\n",
    "#     # Code to execute if condition1 is true\n",
    "#     if condition2:\n",
    "#         # Code to execute if both condition1 and condition2 are true\n",
    "#     else:\n",
    "#         # Code to execute if condition1 is true but condition2 is false\n",
    "# else:\n",
    "#     # Code to execute if condition1 is false\n"
   ]
  },
  {
   "cell_type": "code",
   "execution_count": 17,
   "metadata": {},
   "outputs": [
    {
     "name": "stdout",
     "output_type": "stream",
     "text": [
      "x is greater than 5\n",
      "y is also greater than 2\n"
     ]
    }
   ],
   "source": [
    "x = 10\n",
    "y = 5\n",
    "\n",
    "if x > 5:\n",
    "    print(\"x is greater than 5\")\n",
    "    if y > 2:\n",
    "        print(\"y is also greater than 2\")\n",
    "    else:\n",
    "        print(\"y is not greater than 2\")\n",
    "else:\n",
    "    print(\"x is not greater than 5\")\n",
    "\n",
    "# Output:\n",
    "# x is greater than 5\n",
    "# y is also greater than 2\n"
   ]
  },
  {
   "cell_type": "code",
   "execution_count": 18,
   "metadata": {},
   "outputs": [
    {
     "name": "stdout",
     "output_type": "stream",
     "text": [
      "'A man, a plan, a canal, Panama' is a palindrome.\n"
     ]
    }
   ],
   "source": [
    "# Example 1: Check for Palindrome\n",
    "\n",
    "# This example checks if a given word or phrase is a palindrome, which means it reads the same forwards and backwards, \n",
    "# ignoring spaces, punctuation, and capitalization.\n",
    "\n",
    "def is_palindrome(s):\n",
    "    s = s.lower().replace(\" \", \"\").replace(\",\", \"\").replace(\".\", \"\")\n",
    "    return s == s[::-1]\n",
    "\n",
    "word = \"A man, a plan, a canal, Panama\"\n",
    "if is_palindrome(word):\n",
    "    print(f\"'{word}' is a palindrome.\")\n",
    "else:\n",
    "    print(f\"'{word}' is not a palindrome.\")\n"
   ]
  },
  {
   "cell_type": "code",
   "execution_count": 19,
   "metadata": {},
   "outputs": [
    {
     "name": "stdout",
     "output_type": "stream",
     "text": [
      "Sorted numbers: 1, 2, 3\n"
     ]
    }
   ],
   "source": [
    "# Example 2: Sorting Three Numbers using only operator and If condition\n",
    "\n",
    "a, b, c = 3, 1, 2\n",
    "\n",
    "if a > b:\n",
    "    a, b = b, a\n",
    "if b > c:\n",
    "    b, c = c, b\n",
    "if a > b:\n",
    "    a, b = b, a\n",
    "\n",
    "print(f\"Sorted numbers: {a}, {b}, {c}\")\n"
   ]
  },
  {
   "cell_type": "markdown",
   "metadata": {},
   "source": [
    "### For Loop\n",
    "\n",
    "It is used for iterating over a sequence (such as a list, tuple, string, or range) or any other iterable object. \n",
    "\n",
    "1. The loop begins by iterating over the items in the iterable.\n",
    "2. For each iteration, the variable takes on the value of the current item in the iterable.\n",
    "3. The indented code block following the for statement is executed for each iteration.\n"
   ]
  },
  {
   "cell_type": "code",
   "execution_count": 20,
   "metadata": {},
   "outputs": [],
   "source": [
    "# for variable in iterable:\n",
    "#     # Code to execute for each item in the iterable"
   ]
  },
  {
   "cell_type": "code",
   "execution_count": 21,
   "metadata": {},
   "outputs": [
    {
     "name": "stdout",
     "output_type": "stream",
     "text": [
      "apple\n",
      "banana\n",
      "cherry\n"
     ]
    }
   ],
   "source": [
    "# Looping through a List\n",
    "\n",
    "fruits = [\"apple\", \"banana\", \"cherry\"]\n",
    "for fruit in fruits:\n",
    "    print(fruit)"
   ]
  },
  {
   "cell_type": "code",
   "execution_count": 22,
   "metadata": {},
   "outputs": [
    {
     "name": "stdout",
     "output_type": "stream",
     "text": [
      "P\n",
      "y\n",
      "t\n",
      "h\n",
      "o\n",
      "n\n"
     ]
    }
   ],
   "source": [
    "# Looping through a String\n",
    "\n",
    "word = \"Python\"\n",
    "for letter in word:\n",
    "    print(letter)"
   ]
  },
  {
   "cell_type": "code",
   "execution_count": 23,
   "metadata": {},
   "outputs": [
    {
     "name": "stdout",
     "output_type": "stream",
     "text": [
      "1\n",
      "2\n",
      "3\n",
      "4\n"
     ]
    }
   ],
   "source": [
    "# Looping through a Range\n",
    "\n",
    "for number in range(1, 5):\n",
    "    print(number)\n"
   ]
  },
  {
   "cell_type": "code",
   "execution_count": 24,
   "metadata": {},
   "outputs": [
    {
     "name": "stdout",
     "output_type": "stream",
     "text": [
      "name\n",
      "age\n",
      "city\n",
      "------------------------------\n",
      "Alice\n",
      "30\n",
      "New York\n",
      "------------------------------\n",
      "name : Alice\n",
      "age : 30\n",
      "city : New York\n"
     ]
    }
   ],
   "source": [
    "# Looping through a Dictionary\n",
    "\n",
    "person = {\"name\": \"Alice\", \"age\": 30, \"city\": \"New York\"}\n",
    "\n",
    "# Loop through keys\n",
    "for key in person:\n",
    "    print(key)\n",
    "\n",
    "print(\"-\"*30)\n",
    "\n",
    "# Loop through values\n",
    "for value in person.values():\n",
    "    print(value)\n",
    "\n",
    "print(\"-\"*30)\n",
    "\n",
    "# Loop through key-value pairs\n",
    "for key, value in person.items():\n",
    "    print(key, \":\", value)\n"
   ]
  },
  {
   "cell_type": "code",
   "execution_count": 25,
   "metadata": {},
   "outputs": [
    {
     "name": "stdout",
     "output_type": "stream",
     "text": [
      "0 @1 @2 @3 @4 @5 @6 @7 @8 @9 @"
     ]
    }
   ],
   "source": [
    "# End block in Print Statement\n",
    "\n",
    "for i in range(10):\n",
    "    print(i, end=\" @\")"
   ]
  },
  {
   "cell_type": "code",
   "execution_count": 26,
   "metadata": {},
   "outputs": [
    {
     "name": "stdout",
     "output_type": "stream",
     "text": [
      "        * \n",
      "      * * * \n",
      "    * * * * * \n",
      "  * * * * * * * \n",
      "* * * * * * * * * \n"
     ]
    }
   ],
   "source": [
    "# Example 1: Print Equilateral Triangle:\n",
    "\n",
    "n = 5  # Change the value of n to adjust the size of the triangle\n",
    "\n",
    "for i in range(n):\n",
    "    print(\"  \" * (n - i - 1) + \"* \" * (2 * i + 1))\n"
   ]
  },
  {
   "cell_type": "code",
   "execution_count": 27,
   "metadata": {},
   "outputs": [
    {
     "name": "stdout",
     "output_type": "stream",
     "text": [
      "* \n",
      "* * \n",
      "* * * \n",
      "* * * * \n",
      "* * * * * \n"
     ]
    }
   ],
   "source": [
    "# Example 2: Python left-Angled Triangle:\n",
    "\n",
    "n = 5  # Change the value of n to adjust the size of the triangle\n",
    "\n",
    "for i in range(n):\n",
    "    print(\"* \" * (i + 1))"
   ]
  },
  {
   "cell_type": "code",
   "execution_count": 28,
   "metadata": {},
   "outputs": [
    {
     "name": "stdout",
     "output_type": "stream",
     "text": [
      " * * * * * *\n",
      " * * * * *\n",
      " * * * *\n",
      " * * *\n",
      " * *\n",
      " *\n"
     ]
    }
   ],
   "source": [
    "# Example 3: Python reverse-left-Angled Triangle\n",
    "\n",
    "n = 5  # Change the value of n to adjust the size of the triangle\n",
    "\n",
    "for i in range(n,0-1,-1):\n",
    "    print(\" *\" * (i + 1))\n"
   ]
  },
  {
   "cell_type": "code",
   "execution_count": 29,
   "metadata": {},
   "outputs": [
    {
     "name": "stdout",
     "output_type": "stream",
     "text": [
      "1 2 3 4 5 \n",
      "2 4 6 8 10 \n",
      "3 6 9 12 15 \n",
      "4 8 12 16 20 \n",
      "5 10 15 20 25 \n"
     ]
    }
   ],
   "source": [
    "# Examle - 4 - Print Multiplication Table from 1 to 5\n",
    "\n",
    "for i in range(1,6):\n",
    "    for j in range (1,6):\n",
    "        print(i*j, end = ' ')\n",
    "    print()"
   ]
  },
  {
   "cell_type": "code",
   "execution_count": 30,
   "metadata": {},
   "outputs": [
    {
     "name": "stdout",
     "output_type": "stream",
     "text": [
      "Prime numbers between 10 and 50 are:  [11, 13, 17, 19, 23, 29, 31, 37, 41, 43, 47]\n"
     ]
    }
   ],
   "source": [
    "# Example 5: Finding Prime Numbers\n",
    "\n",
    "start = 10\n",
    "end = 50\n",
    "\n",
    "list1 = []\n",
    "\n",
    "for num in range(start, end + 1):\n",
    "    if num > 1:\n",
    "        is_prime = True\n",
    "        for i in range(2, int(num ** 0.5) + 1):\n",
    "            if num % i == 0:\n",
    "                is_prime = False\n",
    "                break\n",
    "        if is_prime:\n",
    "            list1.append(num)\n",
    "print(\"Prime numbers between\", start, \"and\", end, \"are: \", list1)\n"
   ]
  },
  {
   "cell_type": "code",
   "execution_count": 31,
   "metadata": {},
   "outputs": [
    {
     "name": "stdout",
     "output_type": "stream",
     "text": [
      "Fibonacci Sequence:\n",
      "[0, 1, 1, 2, 3, 5, 8, 13, 21, 34]\n"
     ]
    }
   ],
   "source": [
    "# Example 6: Generating Fibonacci Sequence\n",
    "'''\n",
    "The Fibonacci series, named after the Italian mathematician Leonardo of Pisa, also known as \n",
    "Fibonacci, is a sequence of numbers where each number is the sum of the two preceding ones, usually starting with 0 and 1. \n",
    "The sequence goes like this-\n",
    "0, 1, 1, 2, 3, 5, 8, 13, 21, 34, ...\n",
    "'''\n",
    "\n",
    "n = 10\n",
    "fib_sequence = [0, 1]\n",
    "\n",
    "for i in range(2, n):\n",
    "    next_num = fib_sequence[i - 1] + fib_sequence[i - 2]\n",
    "    fib_sequence.append(next_num)\n",
    "\n",
    "print(\"Fibonacci Sequence:\")\n",
    "print(fib_sequence)"
   ]
  },
  {
   "cell_type": "markdown",
   "metadata": {},
   "source": [
    "### WHILE Loop\n",
    "\n",
    "It is used to repeatedly execute a block of code as long as a specified condition remains true. It is often used when you want to perform a task iteratively until a certain condition is met or becomes false."
   ]
  },
  {
   "cell_type": "code",
   "execution_count": 32,
   "metadata": {},
   "outputs": [],
   "source": [
    "# while condition:\n",
    "#     # Code to execute while the condition is true"
   ]
  },
  {
   "cell_type": "markdown",
   "metadata": {},
   "source": [
    "Here's how a while loop works:\n",
    "\n",
    "1. The condition is evaluated before entering the loop. If it's True, the loop is entered; otherwise, the loop is skipped.\n",
    "2. The indented code block following the while statement is executed as long as the condition remains True.\n",
    "3. After each execution of the code block, the condition is re-evaluated. If it's still True, the loop continues; otherwise, the loop terminates, and the program moves on to the next statement after the while loop."
   ]
  },
  {
   "cell_type": "code",
   "execution_count": 33,
   "metadata": {},
   "outputs": [
    {
     "name": "stdout",
     "output_type": "stream",
     "text": [
      "Count is 0\n",
      "Count is 1\n",
      "Count is 2\n",
      "Count is 3\n",
      "Count is 4\n"
     ]
    }
   ],
   "source": [
    "count = 0\n",
    "\n",
    "while count < 5:\n",
    "    print(f\"Count is {count}\")\n",
    "    count += 1 # count = count + 1\n"
   ]
  },
  {
   "cell_type": "code",
   "execution_count": 34,
   "metadata": {},
   "outputs": [
    {
     "name": "stdout",
     "output_type": "stream",
     "text": [
      "The entered word is  -  asta\n",
      "The entered word is  -  hari\n",
      "The entered word is  -  quit\n"
     ]
    }
   ],
   "source": [
    "# Example - 1 - If the text is now quit, it will continue asking\n",
    "\n",
    "text = \"\"\n",
    "\n",
    "while text != \"quit\":\n",
    "    text = input(\"Enter teh word - \")\n",
    "    print(\"The entered word is  - \", text)"
   ]
  },
  {
   "cell_type": "code",
   "execution_count": 35,
   "metadata": {},
   "outputs": [
    {
     "name": "stdout",
     "output_type": "stream",
     "text": [
      "Age Entered -  7\n",
      "Age Entered -  8\n",
      "Age Entered -  2\n",
      "Age is from the list\n"
     ]
    }
   ],
   "source": [
    "# Example - 2 - Check whether age is from a list or not\n",
    "\n",
    "list1 = [1,2,3,4,5]\n",
    "\n",
    "age = 0\n",
    "\n",
    "while age not in list1:\n",
    "    age = int(input(\"Enter your age - \"))\n",
    "    print(\"Age Entered - \", age)\n",
    "else:\n",
    "    print(\"Age is from the list\")"
   ]
  }
 ],
 "metadata": {
  "kernelspec": {
   "display_name": "Python 3",
   "language": "python",
   "name": "python3"
  },
  "language_info": {
   "codemirror_mode": {
    "name": "ipython",
    "version": 3
   },
   "file_extension": ".py",
   "mimetype": "text/x-python",
   "name": "python",
   "nbconvert_exporter": "python",
   "pygments_lexer": "ipython3",
   "version": "3.11.5"
  },
  "orig_nbformat": 4
 },
 "nbformat": 4,
 "nbformat_minor": 2
}
